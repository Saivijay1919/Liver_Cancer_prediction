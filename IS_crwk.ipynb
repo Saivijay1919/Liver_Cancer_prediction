{
  "nbformat": 4,
  "nbformat_minor": 0,
  "metadata": {
    "colab": {
      "name": "Sai_demo_TE.ipynb",
      "provenance": [],
      "collapsed_sections": []
    },
    "kernelspec": {
      "name": "python3",
      "display_name": "Python 3"
    },
    "language_info": {
      "name": "python"
    }
  },
  "cells": [
    {
      "cell_type": "code",
      "metadata": {
        "id": "pVfD4gmOz0lj"
      },
      "source": [
        "import pandas as pd\n",
        "\n",
        "import numpy as np\n",
        "\n",
        "import matplotlib.pyplot as plt\n",
        "\n",
        "import seaborn as sns\n",
        "\n",
        "from sklearn.model_selection import train_test_split\n",
        "\n",
        "from sklearn.linear_model import LinearRegression\n",
        "\n",
        "pd. set_option('display.max_rows', 500)\n",
        "pd. set_option('display.max_columns', 500)\n",
        "\n",
        "from sklearn.linear_model import LogisticRegression\n",
        "from sklearn.preprocessing import LabelEncoder\n",
        "from sklearn.preprocessing import OrdinalEncoder\n",
        "from sklearn.metrics import accuracy_score\n",
        "\n",
        "from sklearn.preprocessing import OneHotEncoder\n",
        "\n",
        "from sklearn.metrics import accuracy_score, confusion_matrix, classification_report\n"
      ],
      "execution_count": 1,
      "outputs": []
    },
    {
      "cell_type": "code",
      "metadata": {
        "colab": {
          "base_uri": "https://localhost:8080/",
          "height": 461
        },
        "id": "HVq7a18c0Dtp",
        "outputId": "6fc7bf16-5f09-493b-f450-fbff719f6485"
      },
      "source": [
        "data= pd.read_excel('/content/Data_Liver.xlsx')\n",
        "\n",
        "data.head()"
      ],
      "execution_count": 2,
      "outputs": [
        {
          "output_type": "execute_result",
          "data": {
            "text/plain": [
              "   Site number  Patient number  Patient id in former eCRF Date of consent  \\\n",
              "0           95             176                      176.0             NaT   \n",
              "1           95             331                      331.0             NaT   \n",
              "2           95             800                      800.0             NaT   \n",
              "3           95             347                      347.0             NaT   \n",
              "4           95             744                      744.0             NaT   \n",
              "\n",
              "  Inclusion criteria First name Last name  Gender Birth date  \\\n",
              "0                Yes        XXX       XXX    Male        NaT   \n",
              "1                Yes        XXX       XXX  Female        NaT   \n",
              "2                Yes        XXX       XXX    Male        NaT   \n",
              "3                Yes        XXX       XXX    Male        NaT   \n",
              "4                Yes        XXX       XXX    Male        NaT   \n",
              "\n",
              "  Patient code in the center Date of referral in the center Height Weight  \\\n",
              "0                        176                     2008-07-04    NaN    NaN   \n",
              "1                        331                     2010-02-26    NaN    NaN   \n",
              "2                        800                     2012-01-27    NaN    NaN   \n",
              "3                        347                     2010-02-19    NaN    NaN   \n",
              "4                        744                     2013-02-22    NaN    NaN   \n",
              "\n",
              "  Date of creation of patient  \\\n",
              "0                  2018-06-15   \n",
              "1                  2018-06-15   \n",
              "2                  2018-06-15   \n",
              "3                  2018-06-15   \n",
              "4                  2018-06-15   \n",
              "\n",
              "  Did the patient have pre-colectomy therapy (radiotherapy excluded) Specify  \\\n",
              "0                                                 No                     NaN   \n",
              "1                                                 No                     NaN   \n",
              "2                                                Yes                     NaN   \n",
              "3                                                Yes                     NaN   \n",
              "4                                                 No                     NaN   \n",
              "\n",
              "  Did the patient have pre-colectomy radiotherapy Laparoscopic resection  \\\n",
              "0                                              No                     No   \n",
              "1                                              No                     No   \n",
              "2                                              No                     ND   \n",
              "3                                             Yes                     ND   \n",
              "4                                              No                    Yes   \n",
              "\n",
              "  Date of first colectomy Tumor Node Metastasis  \\\n",
              "0                     NaT    T3   N0         M0   \n",
              "1                     NaT    T3   N1         M1   \n",
              "2                     NaT    ND   ND         ND   \n",
              "3                     NaT    ND   ND         ND   \n",
              "4              2012-08-14    T4   N2         M0   \n",
              "\n",
              "  Number of resected lymph nodes Number of resected lymph nodes.1  \\\n",
              "0                             ND                               ND   \n",
              "1                             ND                               ND   \n",
              "2                             ND                               ND   \n",
              "3                             ND                               ND   \n",
              "4                             ND                               ND   \n",
              "\n",
              "  Number of metastatic lymph nodes Number of metastatic lymph nodes.1  \\\n",
              "0                                0                                  0   \n",
              "1                               ND                                 ND   \n",
              "2                               ND                                 ND   \n",
              "3                               ND                                 ND   \n",
              "4                               ND                                 ND   \n",
              "\n",
              "  Tumor margin (rectal tumor only) EGFR amplification Other mutation  Which  \\\n",
              "0                              NaN                NaN            NaN    NaN   \n",
              "1                              NaN                NaN            NaN    NaN   \n",
              "2                              NaN                NaN            NaN    NaN   \n",
              "3                              NaN                NaN            NaN    NaN   \n",
              "4                              NaN                NaN            NaN    NaN   \n",
              "\n",
              "  Microsatellite Diagnosis date Synchronicity of colorectal cancer  \\\n",
              "0            NaN     2008-06-13                                 No   \n",
              "1            NaN            NaT                                Yes   \n",
              "2            NaN     2011-08-23                                Yes   \n",
              "3            NaN            NaT                                Yes   \n",
              "4            NaN     2012-07-18                                Yes   \n",
              "\n",
              "  Number of hepatic metastases Number of hepatic metastases.1  \\\n",
              "0                            1                              1   \n",
              "1                            1                              1   \n",
              "2                           ND                             ND   \n",
              "3                            3                              3   \n",
              "4                            6                              6   \n",
              "\n",
              "  Hepatic metastases maximum size (mm) Hepatic metastases maximum size  \\\n",
              "0                                   56                              56   \n",
              "1                                   30                              30   \n",
              "2                                   ND                              ND   \n",
              "3                                   ND                              ND   \n",
              "4                                    6                               6   \n",
              "\n",
              "  Localization Side KRAS mutation  Which.1 Microsatellite.1 CT scan abdominal  \\\n",
              "0   Unilateral  NaN           NaN      NaN              NaN               Yes   \n",
              "1   Unilateral  NaN           NaN      NaN              NaN               Yes   \n",
              "2    Bilateral  NaN           NaN      NaN              NaN               Yes   \n",
              "3    Bilateral  NaN           NaN      NaN              NaN               Yes   \n",
              "4   Unilateral  NaN           NaN      NaN              NaN               Yes   \n",
              "\n",
              "  CT scan chest  MRI Pet CT Scintigraphy Initial resectability Specify.1  \\\n",
              "0           Yes   No     No          NaN                   Yes       NaN   \n",
              "1           Yes  Yes     No          NaN                   Yes       NaN   \n",
              "2           Yes  Yes     No          NaN                    No       NaN   \n",
              "3           Yes  Yes     No          NaN                   Yes       NaN   \n",
              "4           Yes  Yes     No          NaN                    ND       NaN   \n",
              "\n",
              "            Main reason ECOG PS at Metastatic diagnosis Leucocytes  \\\n",
              "0                   NaN                             NaN        NaN   \n",
              "1                   NaN                             NaN        NaN   \n",
              "2  Number of metastasis                             NaN        NaN   \n",
              "3                   NaN                             NaN        NaN   \n",
              "4                   NaN                             NaN        NaN   \n",
              "\n",
              "   Lower normal range  Higher  normal range Hemoglobin  Lower normal range.1  \\\n",
              "0                 NaN                   NaN        NaN                   NaN   \n",
              "1                 NaN                   NaN        NaN                   NaN   \n",
              "2                 NaN                   NaN        NaN                   NaN   \n",
              "3                 NaN                   NaN        NaN                   NaN   \n",
              "4                 NaN                   NaN        NaN                   NaN   \n",
              "\n",
              "   Higher normal range Platelets  Lower normal range.2  Higher normal range.1  \\\n",
              "0                  NaN       NaN                   NaN                    NaN   \n",
              "1                  NaN       NaN                   NaN                    NaN   \n",
              "2                  NaN       NaN                   NaN                    NaN   \n",
              "3                  NaN       NaN                   NaN                    NaN   \n",
              "4                  NaN       NaN                   NaN                    NaN   \n",
              "\n",
              "    CEA  Lower normal range.3  Higher normal range.2 Alkaline phosphatases  \\\n",
              "0  87.9                   NaN                    NaN                   NaN   \n",
              "1    ND                   NaN                    NaN                   NaN   \n",
              "2    ND                   NaN                    NaN                   NaN   \n",
              "3  79.3                   NaN                    NaN                   NaN   \n",
              "4     1                   NaN                    NaN                   NaN   \n",
              "\n",
              "   Lower normal range.4  Higher normal range.3  LDH  Lower normal range.5  \\\n",
              "0                   NaN                    NaN  NaN                   NaN   \n",
              "1                   NaN                    NaN  NaN                   NaN   \n",
              "2                   NaN                    NaN  NaN                   NaN   \n",
              "3                   NaN                    NaN  NaN                   NaN   \n",
              "4                   NaN                    NaN  NaN                   NaN   \n",
              "\n",
              "   Higher normal range.4 Albumin  Lower normal range.6  Higher normal range.5  \\\n",
              "0                    NaN     NaN                   NaN                    NaN   \n",
              "1                    NaN     NaN                   NaN                    NaN   \n",
              "2                    NaN     NaN                   NaN                    NaN   \n",
              "3                    NaN     NaN                   NaN                    NaN   \n",
              "4                    NaN     NaN                   NaN                    NaN   \n",
              "\n",
              "   CA19.9  Lower normal range.7  Higher normal range.6  \\\n",
              "0     NaN                   NaN                    NaN   \n",
              "1     NaN                   NaN                    NaN   \n",
              "2     NaN                   NaN                    NaN   \n",
              "3     NaN                   NaN                    NaN   \n",
              "4     NaN                   NaN                    NaN   \n",
              "\n",
              "  Does the patient have concomitant extra-hepatic metastases Diagnosis date.1  \\\n",
              "0                                                 No                      NaT   \n",
              "1                                                 No                      NaT   \n",
              "2                                                NaN                      NaT   \n",
              "3                                                 No                      NaT   \n",
              "4                                                 No                      NaT   \n",
              "\n",
              "  CEA (car-old) PATIENT_STATUS  \n",
              "0          87.9       Deceased  \n",
              "1            ND       Deceased  \n",
              "2            ND          Alive  \n",
              "3          79.3       Deceased  \n",
              "4             1          Alive  "
            ],
            "text/html": [
              "\n",
              "  <div id=\"df-6a6d27bc-db5f-4b4f-994c-819af4ad17e8\">\n",
              "    <div class=\"colab-df-container\">\n",
              "      <div>\n",
              "<style scoped>\n",
              "    .dataframe tbody tr th:only-of-type {\n",
              "        vertical-align: middle;\n",
              "    }\n",
              "\n",
              "    .dataframe tbody tr th {\n",
              "        vertical-align: top;\n",
              "    }\n",
              "\n",
              "    .dataframe thead th {\n",
              "        text-align: right;\n",
              "    }\n",
              "</style>\n",
              "<table border=\"1\" class=\"dataframe\">\n",
              "  <thead>\n",
              "    <tr style=\"text-align: right;\">\n",
              "      <th></th>\n",
              "      <th>Site number</th>\n",
              "      <th>Patient number</th>\n",
              "      <th>Patient id in former eCRF</th>\n",
              "      <th>Date of consent</th>\n",
              "      <th>Inclusion criteria</th>\n",
              "      <th>First name</th>\n",
              "      <th>Last name</th>\n",
              "      <th>Gender</th>\n",
              "      <th>Birth date</th>\n",
              "      <th>Patient code in the center</th>\n",
              "      <th>Date of referral in the center</th>\n",
              "      <th>Height</th>\n",
              "      <th>Weight</th>\n",
              "      <th>Date of creation of patient</th>\n",
              "      <th>Did the patient have pre-colectomy therapy (radiotherapy excluded)</th>\n",
              "      <th>Specify</th>\n",
              "      <th>Did the patient have pre-colectomy radiotherapy</th>\n",
              "      <th>Laparoscopic resection</th>\n",
              "      <th>Date of first colectomy</th>\n",
              "      <th>Tumor</th>\n",
              "      <th>Node</th>\n",
              "      <th>Metastasis</th>\n",
              "      <th>Number of resected lymph nodes</th>\n",
              "      <th>Number of resected lymph nodes.1</th>\n",
              "      <th>Number of metastatic lymph nodes</th>\n",
              "      <th>Number of metastatic lymph nodes.1</th>\n",
              "      <th>Tumor margin (rectal tumor only)</th>\n",
              "      <th>EGFR amplification</th>\n",
              "      <th>Other mutation</th>\n",
              "      <th>Which</th>\n",
              "      <th>Microsatellite</th>\n",
              "      <th>Diagnosis date</th>\n",
              "      <th>Synchronicity of colorectal cancer</th>\n",
              "      <th>Number of hepatic metastases</th>\n",
              "      <th>Number of hepatic metastases.1</th>\n",
              "      <th>Hepatic metastases maximum size (mm)</th>\n",
              "      <th>Hepatic metastases maximum size</th>\n",
              "      <th>Localization</th>\n",
              "      <th>Side</th>\n",
              "      <th>KRAS mutation</th>\n",
              "      <th>Which.1</th>\n",
              "      <th>Microsatellite.1</th>\n",
              "      <th>CT scan abdominal</th>\n",
              "      <th>CT scan chest</th>\n",
              "      <th>MRI</th>\n",
              "      <th>Pet CT</th>\n",
              "      <th>Scintigraphy</th>\n",
              "      <th>Initial resectability</th>\n",
              "      <th>Specify.1</th>\n",
              "      <th>Main reason</th>\n",
              "      <th>ECOG PS at Metastatic diagnosis</th>\n",
              "      <th>Leucocytes</th>\n",
              "      <th>Lower normal range</th>\n",
              "      <th>Higher  normal range</th>\n",
              "      <th>Hemoglobin</th>\n",
              "      <th>Lower normal range.1</th>\n",
              "      <th>Higher normal range</th>\n",
              "      <th>Platelets</th>\n",
              "      <th>Lower normal range.2</th>\n",
              "      <th>Higher normal range.1</th>\n",
              "      <th>CEA</th>\n",
              "      <th>Lower normal range.3</th>\n",
              "      <th>Higher normal range.2</th>\n",
              "      <th>Alkaline phosphatases</th>\n",
              "      <th>Lower normal range.4</th>\n",
              "      <th>Higher normal range.3</th>\n",
              "      <th>LDH</th>\n",
              "      <th>Lower normal range.5</th>\n",
              "      <th>Higher normal range.4</th>\n",
              "      <th>Albumin</th>\n",
              "      <th>Lower normal range.6</th>\n",
              "      <th>Higher normal range.5</th>\n",
              "      <th>CA19.9</th>\n",
              "      <th>Lower normal range.7</th>\n",
              "      <th>Higher normal range.6</th>\n",
              "      <th>Does the patient have concomitant extra-hepatic metastases</th>\n",
              "      <th>Diagnosis date.1</th>\n",
              "      <th>CEA (car-old)</th>\n",
              "      <th>PATIENT_STATUS</th>\n",
              "    </tr>\n",
              "  </thead>\n",
              "  <tbody>\n",
              "    <tr>\n",
              "      <th>0</th>\n",
              "      <td>95</td>\n",
              "      <td>176</td>\n",
              "      <td>176.0</td>\n",
              "      <td>NaT</td>\n",
              "      <td>Yes</td>\n",
              "      <td>XXX</td>\n",
              "      <td>XXX</td>\n",
              "      <td>Male</td>\n",
              "      <td>NaT</td>\n",
              "      <td>176</td>\n",
              "      <td>2008-07-04</td>\n",
              "      <td>NaN</td>\n",
              "      <td>NaN</td>\n",
              "      <td>2018-06-15</td>\n",
              "      <td>No</td>\n",
              "      <td>NaN</td>\n",
              "      <td>No</td>\n",
              "      <td>No</td>\n",
              "      <td>NaT</td>\n",
              "      <td>T3</td>\n",
              "      <td>N0</td>\n",
              "      <td>M0</td>\n",
              "      <td>ND</td>\n",
              "      <td>ND</td>\n",
              "      <td>0</td>\n",
              "      <td>0</td>\n",
              "      <td>NaN</td>\n",
              "      <td>NaN</td>\n",
              "      <td>NaN</td>\n",
              "      <td>NaN</td>\n",
              "      <td>NaN</td>\n",
              "      <td>2008-06-13</td>\n",
              "      <td>No</td>\n",
              "      <td>1</td>\n",
              "      <td>1</td>\n",
              "      <td>56</td>\n",
              "      <td>56</td>\n",
              "      <td>Unilateral</td>\n",
              "      <td>NaN</td>\n",
              "      <td>NaN</td>\n",
              "      <td>NaN</td>\n",
              "      <td>NaN</td>\n",
              "      <td>Yes</td>\n",
              "      <td>Yes</td>\n",
              "      <td>No</td>\n",
              "      <td>No</td>\n",
              "      <td>NaN</td>\n",
              "      <td>Yes</td>\n",
              "      <td>NaN</td>\n",
              "      <td>NaN</td>\n",
              "      <td>NaN</td>\n",
              "      <td>NaN</td>\n",
              "      <td>NaN</td>\n",
              "      <td>NaN</td>\n",
              "      <td>NaN</td>\n",
              "      <td>NaN</td>\n",
              "      <td>NaN</td>\n",
              "      <td>NaN</td>\n",
              "      <td>NaN</td>\n",
              "      <td>NaN</td>\n",
              "      <td>87.9</td>\n",
              "      <td>NaN</td>\n",
              "      <td>NaN</td>\n",
              "      <td>NaN</td>\n",
              "      <td>NaN</td>\n",
              "      <td>NaN</td>\n",
              "      <td>NaN</td>\n",
              "      <td>NaN</td>\n",
              "      <td>NaN</td>\n",
              "      <td>NaN</td>\n",
              "      <td>NaN</td>\n",
              "      <td>NaN</td>\n",
              "      <td>NaN</td>\n",
              "      <td>NaN</td>\n",
              "      <td>NaN</td>\n",
              "      <td>No</td>\n",
              "      <td>NaT</td>\n",
              "      <td>87.9</td>\n",
              "      <td>Deceased</td>\n",
              "    </tr>\n",
              "    <tr>\n",
              "      <th>1</th>\n",
              "      <td>95</td>\n",
              "      <td>331</td>\n",
              "      <td>331.0</td>\n",
              "      <td>NaT</td>\n",
              "      <td>Yes</td>\n",
              "      <td>XXX</td>\n",
              "      <td>XXX</td>\n",
              "      <td>Female</td>\n",
              "      <td>NaT</td>\n",
              "      <td>331</td>\n",
              "      <td>2010-02-26</td>\n",
              "      <td>NaN</td>\n",
              "      <td>NaN</td>\n",
              "      <td>2018-06-15</td>\n",
              "      <td>No</td>\n",
              "      <td>NaN</td>\n",
              "      <td>No</td>\n",
              "      <td>No</td>\n",
              "      <td>NaT</td>\n",
              "      <td>T3</td>\n",
              "      <td>N1</td>\n",
              "      <td>M1</td>\n",
              "      <td>ND</td>\n",
              "      <td>ND</td>\n",
              "      <td>ND</td>\n",
              "      <td>ND</td>\n",
              "      <td>NaN</td>\n",
              "      <td>NaN</td>\n",
              "      <td>NaN</td>\n",
              "      <td>NaN</td>\n",
              "      <td>NaN</td>\n",
              "      <td>NaT</td>\n",
              "      <td>Yes</td>\n",
              "      <td>1</td>\n",
              "      <td>1</td>\n",
              "      <td>30</td>\n",
              "      <td>30</td>\n",
              "      <td>Unilateral</td>\n",
              "      <td>NaN</td>\n",
              "      <td>NaN</td>\n",
              "      <td>NaN</td>\n",
              "      <td>NaN</td>\n",
              "      <td>Yes</td>\n",
              "      <td>Yes</td>\n",
              "      <td>Yes</td>\n",
              "      <td>No</td>\n",
              "      <td>NaN</td>\n",
              "      <td>Yes</td>\n",
              "      <td>NaN</td>\n",
              "      <td>NaN</td>\n",
              "      <td>NaN</td>\n",
              "      <td>NaN</td>\n",
              "      <td>NaN</td>\n",
              "      <td>NaN</td>\n",
              "      <td>NaN</td>\n",
              "      <td>NaN</td>\n",
              "      <td>NaN</td>\n",
              "      <td>NaN</td>\n",
              "      <td>NaN</td>\n",
              "      <td>NaN</td>\n",
              "      <td>ND</td>\n",
              "      <td>NaN</td>\n",
              "      <td>NaN</td>\n",
              "      <td>NaN</td>\n",
              "      <td>NaN</td>\n",
              "      <td>NaN</td>\n",
              "      <td>NaN</td>\n",
              "      <td>NaN</td>\n",
              "      <td>NaN</td>\n",
              "      <td>NaN</td>\n",
              "      <td>NaN</td>\n",
              "      <td>NaN</td>\n",
              "      <td>NaN</td>\n",
              "      <td>NaN</td>\n",
              "      <td>NaN</td>\n",
              "      <td>No</td>\n",
              "      <td>NaT</td>\n",
              "      <td>ND</td>\n",
              "      <td>Deceased</td>\n",
              "    </tr>\n",
              "    <tr>\n",
              "      <th>2</th>\n",
              "      <td>95</td>\n",
              "      <td>800</td>\n",
              "      <td>800.0</td>\n",
              "      <td>NaT</td>\n",
              "      <td>Yes</td>\n",
              "      <td>XXX</td>\n",
              "      <td>XXX</td>\n",
              "      <td>Male</td>\n",
              "      <td>NaT</td>\n",
              "      <td>800</td>\n",
              "      <td>2012-01-27</td>\n",
              "      <td>NaN</td>\n",
              "      <td>NaN</td>\n",
              "      <td>2018-06-15</td>\n",
              "      <td>Yes</td>\n",
              "      <td>NaN</td>\n",
              "      <td>No</td>\n",
              "      <td>ND</td>\n",
              "      <td>NaT</td>\n",
              "      <td>ND</td>\n",
              "      <td>ND</td>\n",
              "      <td>ND</td>\n",
              "      <td>ND</td>\n",
              "      <td>ND</td>\n",
              "      <td>ND</td>\n",
              "      <td>ND</td>\n",
              "      <td>NaN</td>\n",
              "      <td>NaN</td>\n",
              "      <td>NaN</td>\n",
              "      <td>NaN</td>\n",
              "      <td>NaN</td>\n",
              "      <td>2011-08-23</td>\n",
              "      <td>Yes</td>\n",
              "      <td>ND</td>\n",
              "      <td>ND</td>\n",
              "      <td>ND</td>\n",
              "      <td>ND</td>\n",
              "      <td>Bilateral</td>\n",
              "      <td>NaN</td>\n",
              "      <td>NaN</td>\n",
              "      <td>NaN</td>\n",
              "      <td>NaN</td>\n",
              "      <td>Yes</td>\n",
              "      <td>Yes</td>\n",
              "      <td>Yes</td>\n",
              "      <td>No</td>\n",
              "      <td>NaN</td>\n",
              "      <td>No</td>\n",
              "      <td>NaN</td>\n",
              "      <td>Number of metastasis</td>\n",
              "      <td>NaN</td>\n",
              "      <td>NaN</td>\n",
              "      <td>NaN</td>\n",
              "      <td>NaN</td>\n",
              "      <td>NaN</td>\n",
              "      <td>NaN</td>\n",
              "      <td>NaN</td>\n",
              "      <td>NaN</td>\n",
              "      <td>NaN</td>\n",
              "      <td>NaN</td>\n",
              "      <td>ND</td>\n",
              "      <td>NaN</td>\n",
              "      <td>NaN</td>\n",
              "      <td>NaN</td>\n",
              "      <td>NaN</td>\n",
              "      <td>NaN</td>\n",
              "      <td>NaN</td>\n",
              "      <td>NaN</td>\n",
              "      <td>NaN</td>\n",
              "      <td>NaN</td>\n",
              "      <td>NaN</td>\n",
              "      <td>NaN</td>\n",
              "      <td>NaN</td>\n",
              "      <td>NaN</td>\n",
              "      <td>NaN</td>\n",
              "      <td>NaN</td>\n",
              "      <td>NaT</td>\n",
              "      <td>ND</td>\n",
              "      <td>Alive</td>\n",
              "    </tr>\n",
              "    <tr>\n",
              "      <th>3</th>\n",
              "      <td>95</td>\n",
              "      <td>347</td>\n",
              "      <td>347.0</td>\n",
              "      <td>NaT</td>\n",
              "      <td>Yes</td>\n",
              "      <td>XXX</td>\n",
              "      <td>XXX</td>\n",
              "      <td>Male</td>\n",
              "      <td>NaT</td>\n",
              "      <td>347</td>\n",
              "      <td>2010-02-19</td>\n",
              "      <td>NaN</td>\n",
              "      <td>NaN</td>\n",
              "      <td>2018-06-15</td>\n",
              "      <td>Yes</td>\n",
              "      <td>NaN</td>\n",
              "      <td>Yes</td>\n",
              "      <td>ND</td>\n",
              "      <td>NaT</td>\n",
              "      <td>ND</td>\n",
              "      <td>ND</td>\n",
              "      <td>ND</td>\n",
              "      <td>ND</td>\n",
              "      <td>ND</td>\n",
              "      <td>ND</td>\n",
              "      <td>ND</td>\n",
              "      <td>NaN</td>\n",
              "      <td>NaN</td>\n",
              "      <td>NaN</td>\n",
              "      <td>NaN</td>\n",
              "      <td>NaN</td>\n",
              "      <td>NaT</td>\n",
              "      <td>Yes</td>\n",
              "      <td>3</td>\n",
              "      <td>3</td>\n",
              "      <td>ND</td>\n",
              "      <td>ND</td>\n",
              "      <td>Bilateral</td>\n",
              "      <td>NaN</td>\n",
              "      <td>NaN</td>\n",
              "      <td>NaN</td>\n",
              "      <td>NaN</td>\n",
              "      <td>Yes</td>\n",
              "      <td>Yes</td>\n",
              "      <td>Yes</td>\n",
              "      <td>No</td>\n",
              "      <td>NaN</td>\n",
              "      <td>Yes</td>\n",
              "      <td>NaN</td>\n",
              "      <td>NaN</td>\n",
              "      <td>NaN</td>\n",
              "      <td>NaN</td>\n",
              "      <td>NaN</td>\n",
              "      <td>NaN</td>\n",
              "      <td>NaN</td>\n",
              "      <td>NaN</td>\n",
              "      <td>NaN</td>\n",
              "      <td>NaN</td>\n",
              "      <td>NaN</td>\n",
              "      <td>NaN</td>\n",
              "      <td>79.3</td>\n",
              "      <td>NaN</td>\n",
              "      <td>NaN</td>\n",
              "      <td>NaN</td>\n",
              "      <td>NaN</td>\n",
              "      <td>NaN</td>\n",
              "      <td>NaN</td>\n",
              "      <td>NaN</td>\n",
              "      <td>NaN</td>\n",
              "      <td>NaN</td>\n",
              "      <td>NaN</td>\n",
              "      <td>NaN</td>\n",
              "      <td>NaN</td>\n",
              "      <td>NaN</td>\n",
              "      <td>NaN</td>\n",
              "      <td>No</td>\n",
              "      <td>NaT</td>\n",
              "      <td>79.3</td>\n",
              "      <td>Deceased</td>\n",
              "    </tr>\n",
              "    <tr>\n",
              "      <th>4</th>\n",
              "      <td>95</td>\n",
              "      <td>744</td>\n",
              "      <td>744.0</td>\n",
              "      <td>NaT</td>\n",
              "      <td>Yes</td>\n",
              "      <td>XXX</td>\n",
              "      <td>XXX</td>\n",
              "      <td>Male</td>\n",
              "      <td>NaT</td>\n",
              "      <td>744</td>\n",
              "      <td>2013-02-22</td>\n",
              "      <td>NaN</td>\n",
              "      <td>NaN</td>\n",
              "      <td>2018-06-15</td>\n",
              "      <td>No</td>\n",
              "      <td>NaN</td>\n",
              "      <td>No</td>\n",
              "      <td>Yes</td>\n",
              "      <td>2012-08-14</td>\n",
              "      <td>T4</td>\n",
              "      <td>N2</td>\n",
              "      <td>M0</td>\n",
              "      <td>ND</td>\n",
              "      <td>ND</td>\n",
              "      <td>ND</td>\n",
              "      <td>ND</td>\n",
              "      <td>NaN</td>\n",
              "      <td>NaN</td>\n",
              "      <td>NaN</td>\n",
              "      <td>NaN</td>\n",
              "      <td>NaN</td>\n",
              "      <td>2012-07-18</td>\n",
              "      <td>Yes</td>\n",
              "      <td>6</td>\n",
              "      <td>6</td>\n",
              "      <td>6</td>\n",
              "      <td>6</td>\n",
              "      <td>Unilateral</td>\n",
              "      <td>NaN</td>\n",
              "      <td>NaN</td>\n",
              "      <td>NaN</td>\n",
              "      <td>NaN</td>\n",
              "      <td>Yes</td>\n",
              "      <td>Yes</td>\n",
              "      <td>Yes</td>\n",
              "      <td>No</td>\n",
              "      <td>NaN</td>\n",
              "      <td>ND</td>\n",
              "      <td>NaN</td>\n",
              "      <td>NaN</td>\n",
              "      <td>NaN</td>\n",
              "      <td>NaN</td>\n",
              "      <td>NaN</td>\n",
              "      <td>NaN</td>\n",
              "      <td>NaN</td>\n",
              "      <td>NaN</td>\n",
              "      <td>NaN</td>\n",
              "      <td>NaN</td>\n",
              "      <td>NaN</td>\n",
              "      <td>NaN</td>\n",
              "      <td>1</td>\n",
              "      <td>NaN</td>\n",
              "      <td>NaN</td>\n",
              "      <td>NaN</td>\n",
              "      <td>NaN</td>\n",
              "      <td>NaN</td>\n",
              "      <td>NaN</td>\n",
              "      <td>NaN</td>\n",
              "      <td>NaN</td>\n",
              "      <td>NaN</td>\n",
              "      <td>NaN</td>\n",
              "      <td>NaN</td>\n",
              "      <td>NaN</td>\n",
              "      <td>NaN</td>\n",
              "      <td>NaN</td>\n",
              "      <td>No</td>\n",
              "      <td>NaT</td>\n",
              "      <td>1</td>\n",
              "      <td>Alive</td>\n",
              "    </tr>\n",
              "  </tbody>\n",
              "</table>\n",
              "</div>\n",
              "      <button class=\"colab-df-convert\" onclick=\"convertToInteractive('df-6a6d27bc-db5f-4b4f-994c-819af4ad17e8')\"\n",
              "              title=\"Convert this dataframe to an interactive table.\"\n",
              "              style=\"display:none;\">\n",
              "        \n",
              "  <svg xmlns=\"http://www.w3.org/2000/svg\" height=\"24px\"viewBox=\"0 0 24 24\"\n",
              "       width=\"24px\">\n",
              "    <path d=\"M0 0h24v24H0V0z\" fill=\"none\"/>\n",
              "    <path d=\"M18.56 5.44l.94 2.06.94-2.06 2.06-.94-2.06-.94-.94-2.06-.94 2.06-2.06.94zm-11 1L8.5 8.5l.94-2.06 2.06-.94-2.06-.94L8.5 2.5l-.94 2.06-2.06.94zm10 10l.94 2.06.94-2.06 2.06-.94-2.06-.94-.94-2.06-.94 2.06-2.06.94z\"/><path d=\"M17.41 7.96l-1.37-1.37c-.4-.4-.92-.59-1.43-.59-.52 0-1.04.2-1.43.59L10.3 9.45l-7.72 7.72c-.78.78-.78 2.05 0 2.83L4 21.41c.39.39.9.59 1.41.59.51 0 1.02-.2 1.41-.59l7.78-7.78 2.81-2.81c.8-.78.8-2.07 0-2.86zM5.41 20L4 18.59l7.72-7.72 1.47 1.35L5.41 20z\"/>\n",
              "  </svg>\n",
              "      </button>\n",
              "      \n",
              "  <style>\n",
              "    .colab-df-container {\n",
              "      display:flex;\n",
              "      flex-wrap:wrap;\n",
              "      gap: 12px;\n",
              "    }\n",
              "\n",
              "    .colab-df-convert {\n",
              "      background-color: #E8F0FE;\n",
              "      border: none;\n",
              "      border-radius: 50%;\n",
              "      cursor: pointer;\n",
              "      display: none;\n",
              "      fill: #1967D2;\n",
              "      height: 32px;\n",
              "      padding: 0 0 0 0;\n",
              "      width: 32px;\n",
              "    }\n",
              "\n",
              "    .colab-df-convert:hover {\n",
              "      background-color: #E2EBFA;\n",
              "      box-shadow: 0px 1px 2px rgba(60, 64, 67, 0.3), 0px 1px 3px 1px rgba(60, 64, 67, 0.15);\n",
              "      fill: #174EA6;\n",
              "    }\n",
              "\n",
              "    [theme=dark] .colab-df-convert {\n",
              "      background-color: #3B4455;\n",
              "      fill: #D2E3FC;\n",
              "    }\n",
              "\n",
              "    [theme=dark] .colab-df-convert:hover {\n",
              "      background-color: #434B5C;\n",
              "      box-shadow: 0px 1px 3px 1px rgba(0, 0, 0, 0.15);\n",
              "      filter: drop-shadow(0px 1px 2px rgba(0, 0, 0, 0.3));\n",
              "      fill: #FFFFFF;\n",
              "    }\n",
              "  </style>\n",
              "\n",
              "      <script>\n",
              "        const buttonEl =\n",
              "          document.querySelector('#df-6a6d27bc-db5f-4b4f-994c-819af4ad17e8 button.colab-df-convert');\n",
              "        buttonEl.style.display =\n",
              "          google.colab.kernel.accessAllowed ? 'block' : 'none';\n",
              "\n",
              "        async function convertToInteractive(key) {\n",
              "          const element = document.querySelector('#df-6a6d27bc-db5f-4b4f-994c-819af4ad17e8');\n",
              "          const dataTable =\n",
              "            await google.colab.kernel.invokeFunction('convertToInteractive',\n",
              "                                                     [key], {});\n",
              "          if (!dataTable) return;\n",
              "\n",
              "          const docLinkHtml = 'Like what you see? Visit the ' +\n",
              "            '<a target=\"_blank\" href=https://colab.research.google.com/notebooks/data_table.ipynb>data table notebook</a>'\n",
              "            + ' to learn more about interactive tables.';\n",
              "          element.innerHTML = '';\n",
              "          dataTable['output_type'] = 'display_data';\n",
              "          await google.colab.output.renderOutput(dataTable, element);\n",
              "          const docLink = document.createElement('div');\n",
              "          docLink.innerHTML = docLinkHtml;\n",
              "          element.appendChild(docLink);\n",
              "        }\n",
              "      </script>\n",
              "    </div>\n",
              "  </div>\n",
              "  "
            ]
          },
          "metadata": {},
          "execution_count": 2
        }
      ]
    },
    {
      "cell_type": "code",
      "metadata": {
        "colab": {
          "base_uri": "https://localhost:8080/"
        },
        "id": "Xh3hm7kN0cZk",
        "outputId": "debe548d-2391-4914-afd6-907036d90342"
      },
      "source": [
        "data.shape"
      ],
      "execution_count": 3,
      "outputs": [
        {
          "output_type": "execute_result",
          "data": {
            "text/plain": [
              "(4437, 79)"
            ]
          },
          "metadata": {},
          "execution_count": 3
        }
      ]
    },
    {
      "cell_type": "code",
      "metadata": {
        "colab": {
          "base_uri": "https://localhost:8080/",
          "height": 236
        },
        "id": "nTXGb_6YNjgv",
        "outputId": "5ee73b5e-83f2-489a-a5ec-a98a05bdb81b"
      },
      "source": [
        "duplicate = data[data.duplicated()]\n",
        "  \n",
        "print(\"Duplicate Rows :\")\n",
        "  \n",
        "# Print the resultant Dataframe\n",
        "duplicate"
      ],
      "execution_count": 4,
      "outputs": [
        {
          "output_type": "stream",
          "name": "stdout",
          "text": [
            "Duplicate Rows :\n"
          ]
        },
        {
          "output_type": "execute_result",
          "data": {
            "text/plain": [
              "Empty DataFrame\n",
              "Columns: [Site number, Patient number, Patient id in former eCRF, Date of consent, Inclusion criteria, First name, Last name, Gender, Birth date, Patient code in the center, Date of referral in the center, Height, Weight, Date of creation of patient, Did the patient have pre-colectomy therapy (radiotherapy excluded), Specify, Did the patient have pre-colectomy radiotherapy, Laparoscopic resection, Date of first colectomy, Tumor, Node, Metastasis, Number of resected lymph nodes, Number of resected lymph nodes.1, Number of metastatic lymph nodes, Number of metastatic lymph nodes.1, Tumor margin (rectal tumor only), EGFR amplification, Other mutation, Which, Microsatellite, Diagnosis date, Synchronicity of colorectal cancer, Number of hepatic metastases, Number of hepatic metastases.1, Hepatic metastases maximum size (mm), Hepatic metastases maximum size, Localization, Side, KRAS mutation, Which.1, Microsatellite.1, CT scan abdominal, CT scan chest, MRI, Pet CT, Scintigraphy, Initial resectability, Specify.1, Main reason, ECOG PS at Metastatic diagnosis, Leucocytes, Lower normal range, Higher  normal range, Hemoglobin, Lower normal range.1, Higher normal range, Platelets, Lower normal range.2, Higher normal range.1, CEA, Lower normal range.3, Higher normal range.2, Alkaline phosphatases, Lower normal range.4, Higher normal range.3, LDH, Lower normal range.5, Higher normal range.4, Albumin, Lower normal range.6, Higher normal range.5, CA19.9, Lower normal range.7, Higher normal range.6, Does the patient have concomitant extra-hepatic metastases, Diagnosis date.1, CEA (car-old), PATIENT_STATUS]\n",
              "Index: []"
            ],
            "text/html": [
              "\n",
              "  <div id=\"df-bce8e76b-ba40-4d90-9758-b8bf3588c561\">\n",
              "    <div class=\"colab-df-container\">\n",
              "      <div>\n",
              "<style scoped>\n",
              "    .dataframe tbody tr th:only-of-type {\n",
              "        vertical-align: middle;\n",
              "    }\n",
              "\n",
              "    .dataframe tbody tr th {\n",
              "        vertical-align: top;\n",
              "    }\n",
              "\n",
              "    .dataframe thead th {\n",
              "        text-align: right;\n",
              "    }\n",
              "</style>\n",
              "<table border=\"1\" class=\"dataframe\">\n",
              "  <thead>\n",
              "    <tr style=\"text-align: right;\">\n",
              "      <th></th>\n",
              "      <th>Site number</th>\n",
              "      <th>Patient number</th>\n",
              "      <th>Patient id in former eCRF</th>\n",
              "      <th>Date of consent</th>\n",
              "      <th>Inclusion criteria</th>\n",
              "      <th>First name</th>\n",
              "      <th>Last name</th>\n",
              "      <th>Gender</th>\n",
              "      <th>Birth date</th>\n",
              "      <th>Patient code in the center</th>\n",
              "      <th>Date of referral in the center</th>\n",
              "      <th>Height</th>\n",
              "      <th>Weight</th>\n",
              "      <th>Date of creation of patient</th>\n",
              "      <th>Did the patient have pre-colectomy therapy (radiotherapy excluded)</th>\n",
              "      <th>Specify</th>\n",
              "      <th>Did the patient have pre-colectomy radiotherapy</th>\n",
              "      <th>Laparoscopic resection</th>\n",
              "      <th>Date of first colectomy</th>\n",
              "      <th>Tumor</th>\n",
              "      <th>Node</th>\n",
              "      <th>Metastasis</th>\n",
              "      <th>Number of resected lymph nodes</th>\n",
              "      <th>Number of resected lymph nodes.1</th>\n",
              "      <th>Number of metastatic lymph nodes</th>\n",
              "      <th>Number of metastatic lymph nodes.1</th>\n",
              "      <th>Tumor margin (rectal tumor only)</th>\n",
              "      <th>EGFR amplification</th>\n",
              "      <th>Other mutation</th>\n",
              "      <th>Which</th>\n",
              "      <th>Microsatellite</th>\n",
              "      <th>Diagnosis date</th>\n",
              "      <th>Synchronicity of colorectal cancer</th>\n",
              "      <th>Number of hepatic metastases</th>\n",
              "      <th>Number of hepatic metastases.1</th>\n",
              "      <th>Hepatic metastases maximum size (mm)</th>\n",
              "      <th>Hepatic metastases maximum size</th>\n",
              "      <th>Localization</th>\n",
              "      <th>Side</th>\n",
              "      <th>KRAS mutation</th>\n",
              "      <th>Which.1</th>\n",
              "      <th>Microsatellite.1</th>\n",
              "      <th>CT scan abdominal</th>\n",
              "      <th>CT scan chest</th>\n",
              "      <th>MRI</th>\n",
              "      <th>Pet CT</th>\n",
              "      <th>Scintigraphy</th>\n",
              "      <th>Initial resectability</th>\n",
              "      <th>Specify.1</th>\n",
              "      <th>Main reason</th>\n",
              "      <th>ECOG PS at Metastatic diagnosis</th>\n",
              "      <th>Leucocytes</th>\n",
              "      <th>Lower normal range</th>\n",
              "      <th>Higher  normal range</th>\n",
              "      <th>Hemoglobin</th>\n",
              "      <th>Lower normal range.1</th>\n",
              "      <th>Higher normal range</th>\n",
              "      <th>Platelets</th>\n",
              "      <th>Lower normal range.2</th>\n",
              "      <th>Higher normal range.1</th>\n",
              "      <th>CEA</th>\n",
              "      <th>Lower normal range.3</th>\n",
              "      <th>Higher normal range.2</th>\n",
              "      <th>Alkaline phosphatases</th>\n",
              "      <th>Lower normal range.4</th>\n",
              "      <th>Higher normal range.3</th>\n",
              "      <th>LDH</th>\n",
              "      <th>Lower normal range.5</th>\n",
              "      <th>Higher normal range.4</th>\n",
              "      <th>Albumin</th>\n",
              "      <th>Lower normal range.6</th>\n",
              "      <th>Higher normal range.5</th>\n",
              "      <th>CA19.9</th>\n",
              "      <th>Lower normal range.7</th>\n",
              "      <th>Higher normal range.6</th>\n",
              "      <th>Does the patient have concomitant extra-hepatic metastases</th>\n",
              "      <th>Diagnosis date.1</th>\n",
              "      <th>CEA (car-old)</th>\n",
              "      <th>PATIENT_STATUS</th>\n",
              "    </tr>\n",
              "  </thead>\n",
              "  <tbody>\n",
              "  </tbody>\n",
              "</table>\n",
              "</div>\n",
              "      <button class=\"colab-df-convert\" onclick=\"convertToInteractive('df-bce8e76b-ba40-4d90-9758-b8bf3588c561')\"\n",
              "              title=\"Convert this dataframe to an interactive table.\"\n",
              "              style=\"display:none;\">\n",
              "        \n",
              "  <svg xmlns=\"http://www.w3.org/2000/svg\" height=\"24px\"viewBox=\"0 0 24 24\"\n",
              "       width=\"24px\">\n",
              "    <path d=\"M0 0h24v24H0V0z\" fill=\"none\"/>\n",
              "    <path d=\"M18.56 5.44l.94 2.06.94-2.06 2.06-.94-2.06-.94-.94-2.06-.94 2.06-2.06.94zm-11 1L8.5 8.5l.94-2.06 2.06-.94-2.06-.94L8.5 2.5l-.94 2.06-2.06.94zm10 10l.94 2.06.94-2.06 2.06-.94-2.06-.94-.94-2.06-.94 2.06-2.06.94z\"/><path d=\"M17.41 7.96l-1.37-1.37c-.4-.4-.92-.59-1.43-.59-.52 0-1.04.2-1.43.59L10.3 9.45l-7.72 7.72c-.78.78-.78 2.05 0 2.83L4 21.41c.39.39.9.59 1.41.59.51 0 1.02-.2 1.41-.59l7.78-7.78 2.81-2.81c.8-.78.8-2.07 0-2.86zM5.41 20L4 18.59l7.72-7.72 1.47 1.35L5.41 20z\"/>\n",
              "  </svg>\n",
              "      </button>\n",
              "      \n",
              "  <style>\n",
              "    .colab-df-container {\n",
              "      display:flex;\n",
              "      flex-wrap:wrap;\n",
              "      gap: 12px;\n",
              "    }\n",
              "\n",
              "    .colab-df-convert {\n",
              "      background-color: #E8F0FE;\n",
              "      border: none;\n",
              "      border-radius: 50%;\n",
              "      cursor: pointer;\n",
              "      display: none;\n",
              "      fill: #1967D2;\n",
              "      height: 32px;\n",
              "      padding: 0 0 0 0;\n",
              "      width: 32px;\n",
              "    }\n",
              "\n",
              "    .colab-df-convert:hover {\n",
              "      background-color: #E2EBFA;\n",
              "      box-shadow: 0px 1px 2px rgba(60, 64, 67, 0.3), 0px 1px 3px 1px rgba(60, 64, 67, 0.15);\n",
              "      fill: #174EA6;\n",
              "    }\n",
              "\n",
              "    [theme=dark] .colab-df-convert {\n",
              "      background-color: #3B4455;\n",
              "      fill: #D2E3FC;\n",
              "    }\n",
              "\n",
              "    [theme=dark] .colab-df-convert:hover {\n",
              "      background-color: #434B5C;\n",
              "      box-shadow: 0px 1px 3px 1px rgba(0, 0, 0, 0.15);\n",
              "      filter: drop-shadow(0px 1px 2px rgba(0, 0, 0, 0.3));\n",
              "      fill: #FFFFFF;\n",
              "    }\n",
              "  </style>\n",
              "\n",
              "      <script>\n",
              "        const buttonEl =\n",
              "          document.querySelector('#df-bce8e76b-ba40-4d90-9758-b8bf3588c561 button.colab-df-convert');\n",
              "        buttonEl.style.display =\n",
              "          google.colab.kernel.accessAllowed ? 'block' : 'none';\n",
              "\n",
              "        async function convertToInteractive(key) {\n",
              "          const element = document.querySelector('#df-bce8e76b-ba40-4d90-9758-b8bf3588c561');\n",
              "          const dataTable =\n",
              "            await google.colab.kernel.invokeFunction('convertToInteractive',\n",
              "                                                     [key], {});\n",
              "          if (!dataTable) return;\n",
              "\n",
              "          const docLinkHtml = 'Like what you see? Visit the ' +\n",
              "            '<a target=\"_blank\" href=https://colab.research.google.com/notebooks/data_table.ipynb>data table notebook</a>'\n",
              "            + ' to learn more about interactive tables.';\n",
              "          element.innerHTML = '';\n",
              "          dataTable['output_type'] = 'display_data';\n",
              "          await google.colab.output.renderOutput(dataTable, element);\n",
              "          const docLink = document.createElement('div');\n",
              "          docLink.innerHTML = docLinkHtml;\n",
              "          element.appendChild(docLink);\n",
              "        }\n",
              "      </script>\n",
              "    </div>\n",
              "  </div>\n",
              "  "
            ]
          },
          "metadata": {},
          "execution_count": 4
        }
      ]
    },
    {
      "cell_type": "code",
      "metadata": {
        "colab": {
          "base_uri": "https://localhost:8080/"
        },
        "id": "3AeKB9Ul0iCb",
        "outputId": "b980052c-0756-4c44-9858-2801e3825949"
      },
      "source": [
        "data.isnull().sum()"
      ],
      "execution_count": 5,
      "outputs": [
        {
          "output_type": "execute_result",
          "data": {
            "text/plain": [
              "Site number                                                              0\n",
              "Patient number                                                           0\n",
              "Patient id in former eCRF                                               43\n",
              "Date of consent                                                       4389\n",
              "Inclusion criteria                                                       1\n",
              "First name                                                               0\n",
              "Last name                                                                0\n",
              "Gender                                                                   3\n",
              "Birth date                                                             786\n",
              "Patient code in the center                                             291\n",
              "Date of referral in the center                                         852\n",
              "Height                                                                4376\n",
              "Weight                                                                4376\n",
              "Date of creation of patient                                              0\n",
              "Did the patient have pre-colectomy therapy (radiotherapy excluded)     300\n",
              "Specify                                                               4428\n",
              "Did the patient have pre-colectomy radiotherapy                       1018\n",
              "Laparoscopic resection                                                 378\n",
              "Date of first colectomy                                                915\n",
              "Tumor                                                                  646\n",
              "Node                                                                   297\n",
              "Metastasis                                                             373\n",
              "Number of resected lymph nodes                                         395\n",
              "Number of resected lymph nodes.1                                       399\n",
              "Number of metastatic lymph nodes                                       395\n",
              "Number of metastatic lymph nodes.1                                     397\n",
              "Tumor margin (rectal tumor only)                                      4427\n",
              "EGFR amplification                                                    4389\n",
              "Other mutation                                                        4389\n",
              "Which                                                                 4437\n",
              "Microsatellite                                                        4385\n",
              "Diagnosis date                                                        1168\n",
              "Synchronicity of colorectal cancer                                     314\n",
              "Number of hepatic metastases                                           309\n",
              "Number of hepatic metastases.1                                         398\n",
              "Hepatic metastases maximum size (mm)                                   322\n",
              "Hepatic metastases maximum size                                        432\n",
              "Localization                                                           313\n",
              "Side                                                                  4409\n",
              "KRAS mutation                                                         4386\n",
              "Which.1                                                               4437\n",
              "Microsatellite.1                                                      4388\n",
              "CT scan abdominal                                                      387\n",
              "CT scan chest                                                          395\n",
              "MRI                                                                    412\n",
              "Pet CT                                                                 419\n",
              "Scintigraphy                                                          4398\n",
              "Initial resectability                                                  318\n",
              "Specify.1                                                             4379\n",
              "Main reason                                                           3783\n",
              "ECOG PS at Metastatic diagnosis                                       4392\n",
              "Leucocytes                                                            4402\n",
              "Lower normal range                                                    4414\n",
              "Higher  normal range                                                  4414\n",
              "Hemoglobin                                                            4401\n",
              "Lower normal range.1                                                  4413\n",
              "Higher normal range                                                   4413\n",
              "Platelets                                                             4401\n",
              "Lower normal range.2                                                  4413\n",
              "Higher normal range.1                                                 4413\n",
              "CEA                                                                    405\n",
              "Lower normal range.3                                                  4416\n",
              "Higher normal range.2                                                 4416\n",
              "Alkaline phosphatases                                                 4402\n",
              "Lower normal range.4                                                  4415\n",
              "Higher normal range.3                                                 4415\n",
              "LDH                                                                   4413\n",
              "Lower normal range.5                                                  4427\n",
              "Higher normal range.4                                                 4427\n",
              "Albumin                                                               4404\n",
              "Lower normal range.6                                                  4420\n",
              "Higher normal range.5                                                 4420\n",
              "CA19.9                                                                4431\n",
              "Lower normal range.7                                                  4431\n",
              "Higher normal range.6                                                 4431\n",
              "Does the patient have concomitant extra-hepatic metastases             662\n",
              "Diagnosis date.1                                                      4294\n",
              "CEA (car-old)                                                          438\n",
              "PATIENT_STATUS                                                          44\n",
              "dtype: int64"
            ]
          },
          "metadata": {},
          "execution_count": 5
        }
      ]
    },
    {
      "cell_type": "code",
      "metadata": {
        "colab": {
          "base_uri": "https://localhost:8080/"
        },
        "id": "gq2QJ8rq0Zzb",
        "outputId": "b6fd0ac6-e886-4d3f-f3c6-0f0917290d93"
      },
      "source": [
        "data.info()"
      ],
      "execution_count": 6,
      "outputs": [
        {
          "output_type": "stream",
          "name": "stdout",
          "text": [
            "<class 'pandas.core.frame.DataFrame'>\n",
            "RangeIndex: 4437 entries, 0 to 4436\n",
            "Data columns (total 79 columns):\n",
            " #   Column                                                              Non-Null Count  Dtype         \n",
            "---  ------                                                              --------------  -----         \n",
            " 0   Site number                                                         4437 non-null   int64         \n",
            " 1   Patient number                                                      4437 non-null   int64         \n",
            " 2   Patient id in former eCRF                                           4394 non-null   float64       \n",
            " 3   Date of consent                                                     48 non-null     datetime64[ns]\n",
            " 4   Inclusion criteria                                                  4436 non-null   object        \n",
            " 5   First name                                                          4437 non-null   object        \n",
            " 6   Last name                                                           4437 non-null   object        \n",
            " 7   Gender                                                              4434 non-null   object        \n",
            " 8   Birth date                                                          3651 non-null   datetime64[ns]\n",
            " 9   Patient code in the center                                          4146 non-null   object        \n",
            " 10  Date of referral in the center                                      3585 non-null   datetime64[ns]\n",
            " 11  Height                                                              61 non-null     object        \n",
            " 12  Weight                                                              61 non-null     object        \n",
            " 13  Date of creation of patient                                         4437 non-null   datetime64[ns]\n",
            " 14  Did the patient have pre-colectomy therapy (radiotherapy excluded)  4137 non-null   object        \n",
            " 15  Specify                                                             9 non-null      object        \n",
            " 16  Did the patient have pre-colectomy radiotherapy                     3419 non-null   object        \n",
            " 17  Laparoscopic resection                                              4059 non-null   object        \n",
            " 18  Date of first colectomy                                             3522 non-null   datetime64[ns]\n",
            " 19  Tumor                                                               3791 non-null   object        \n",
            " 20  Node                                                                4140 non-null   object        \n",
            " 21  Metastasis                                                          4064 non-null   object        \n",
            " 22  Number of resected lymph nodes                                      4042 non-null   object        \n",
            " 23  Number of resected lymph nodes.1                                    4038 non-null   object        \n",
            " 24  Number of metastatic lymph nodes                                    4042 non-null   object        \n",
            " 25  Number of metastatic lymph nodes.1                                  4040 non-null   object        \n",
            " 26  Tumor margin (rectal tumor only)                                    10 non-null     object        \n",
            " 27  EGFR amplification                                                  48 non-null     object        \n",
            " 28  Other mutation                                                      48 non-null     object        \n",
            " 29  Which                                                               0 non-null      float64       \n",
            " 30  Microsatellite                                                      52 non-null     object        \n",
            " 31  Diagnosis date                                                      3269 non-null   datetime64[ns]\n",
            " 32  Synchronicity of colorectal cancer                                  4123 non-null   object        \n",
            " 33  Number of hepatic metastases                                        4128 non-null   object        \n",
            " 34  Number of hepatic metastases.1                                      4039 non-null   object        \n",
            " 35  Hepatic metastases maximum size (mm)                                4115 non-null   object        \n",
            " 36  Hepatic metastases maximum size                                     4005 non-null   object        \n",
            " 37  Localization                                                        4124 non-null   object        \n",
            " 38  Side                                                                28 non-null     object        \n",
            " 39  KRAS mutation                                                       51 non-null     object        \n",
            " 40  Which.1                                                             0 non-null      float64       \n",
            " 41  Microsatellite.1                                                    49 non-null     object        \n",
            " 42  CT scan abdominal                                                   4050 non-null   object        \n",
            " 43  CT scan chest                                                       4042 non-null   object        \n",
            " 44  MRI                                                                 4025 non-null   object        \n",
            " 45  Pet CT                                                              4018 non-null   object        \n",
            " 46  Scintigraphy                                                        39 non-null     object        \n",
            " 47  Initial resectability                                               4119 non-null   object        \n",
            " 48  Specify.1                                                           58 non-null     object        \n",
            " 49  Main reason                                                         654 non-null    object        \n",
            " 50  ECOG PS at Metastatic diagnosis                                     45 non-null     object        \n",
            " 51  Leucocytes                                                          35 non-null     object        \n",
            " 52  Lower normal range                                                  23 non-null     float64       \n",
            " 53  Higher  normal range                                                23 non-null     float64       \n",
            " 54  Hemoglobin                                                          36 non-null     object        \n",
            " 55  Lower normal range.1                                                24 non-null     float64       \n",
            " 56  Higher normal range                                                 24 non-null     float64       \n",
            " 57  Platelets                                                           36 non-null     object        \n",
            " 58  Lower normal range.2                                                24 non-null     float64       \n",
            " 59  Higher normal range.1                                               24 non-null     float64       \n",
            " 60  CEA                                                                 4032 non-null   object        \n",
            " 61  Lower normal range.3                                                21 non-null     float64       \n",
            " 62  Higher normal range.2                                               21 non-null     float64       \n",
            " 63  Alkaline phosphatases                                               35 non-null     object        \n",
            " 64  Lower normal range.4                                                22 non-null     float64       \n",
            " 65  Higher normal range.3                                               22 non-null     float64       \n",
            " 66  LDH                                                                 24 non-null     object        \n",
            " 67  Lower normal range.5                                                10 non-null     float64       \n",
            " 68  Higher normal range.4                                               10 non-null     float64       \n",
            " 69  Albumin                                                             33 non-null     object        \n",
            " 70  Lower normal range.6                                                17 non-null     float64       \n",
            " 71  Higher normal range.5                                               17 non-null     float64       \n",
            " 72  CA19.9                                                              6 non-null      float64       \n",
            " 73  Lower normal range.7                                                6 non-null      float64       \n",
            " 74  Higher normal range.6                                               6 non-null      float64       \n",
            " 75  Does the patient have concomitant extra-hepatic metastases          3775 non-null   object        \n",
            " 76  Diagnosis date.1                                                    143 non-null    datetime64[ns]\n",
            " 77  CEA (car-old)                                                       3999 non-null   object        \n",
            " 78  PATIENT_STATUS                                                      4393 non-null   object        \n",
            "dtypes: datetime64[ns](7), float64(20), int64(2), object(50)\n",
            "memory usage: 2.7+ MB\n"
          ]
        }
      ]
    },
    {
      "cell_type": "code",
      "metadata": {
        "colab": {
          "base_uri": "https://localhost:8080/"
        },
        "id": "b82e9Rdn0-p4",
        "outputId": "67dd08be-3b68-4c3c-87c9-1bae02d94607"
      },
      "source": [
        "data.isna().sum().sum()"
      ],
      "execution_count": 7,
      "outputs": [
        {
          "output_type": "execute_result",
          "data": {
            "text/plain": [
              "194239"
            ]
          },
          "metadata": {},
          "execution_count": 7
        }
      ]
    },
    {
      "cell_type": "code",
      "source": [
        "data.isnull().sum().sum()"
      ],
      "metadata": {
        "colab": {
          "base_uri": "https://localhost:8080/"
        },
        "id": "gxdo6fOJ91yf",
        "outputId": "e4b9db2a-ed1f-4a92-8eb8-b7e347136a3f"
      },
      "execution_count": 8,
      "outputs": [
        {
          "output_type": "execute_result",
          "data": {
            "text/plain": [
              "194239"
            ]
          },
          "metadata": {},
          "execution_count": 8
        }
      ]
    },
    {
      "cell_type": "code",
      "metadata": {
        "colab": {
          "base_uri": "https://localhost:8080/",
          "height": 1000
        },
        "id": "FyXLwhQ99mrr",
        "outputId": "947806b5-19ba-44ad-efcf-3479e81fdf03"
      },
      "source": [
        "\n",
        "## [Missing Values] ##\n",
        "\n",
        "# we use the below function to find more information about the #missing values\n",
        "def info_missing_table(data):\n",
        "    \"\"\"Input pandas dataframe and Return columns with missing value and percentage\"\"\"\n",
        "    mis_val = data.isnull().sum() #count total of null in each columns in dataframe\n",
        "#count percentage of null in each columns\n",
        "    mis_val_percent = 100 * data.isnull().sum() / len(data) \n",
        "    mis_val_table = pd.concat([mis_val, mis_val_percent], axis=1) \n",
        " #join to left (as column) between mis_val and mis_val_percent\n",
        "    mis_val_table_ren_columns = mis_val_table.rename(\n",
        "    columns = {0 : 'Missing Values', 1 : 'percentile_missed'}) \n",
        "#rename columns in table\n",
        "    mis_val_table_ren_columns = mis_val_table_ren_columns[\n",
        "    mis_val_table_ren_columns.iloc[:,1] != 0].sort_values('percentile_missed', ascending=False).round(1) \n",
        "        \n",
        "    print (\"Your selected dataframe has \" + str(data.shape[1]) + \" columns.\\n\"    #.shape[1] : just view total columns in dataframe  \n",
        "    \"There are \" + str(mis_val_table_ren_columns.shape[0]) +              \n",
        "    \" columns that have missing values.\") #.shape[0] : just view total rows in dataframe\n",
        "    return mis_val_table_ren_columns\n",
        "missings = info_missing_table(data)\n",
        "missings"
      ],
      "execution_count": 9,
      "outputs": [
        {
          "output_type": "stream",
          "name": "stdout",
          "text": [
            "Your selected dataframe has 79 columns.\n",
            "There are 74 columns that have missing values.\n"
          ]
        },
        {
          "output_type": "execute_result",
          "data": {
            "text/plain": [
              "                                                    Missing Values  \\\n",
              "Which.1                                                       4437   \n",
              "Which                                                         4437   \n",
              "Lower normal range.7                                          4431   \n",
              "CA19.9                                                        4431   \n",
              "Higher normal range.6                                         4431   \n",
              "Specify                                                       4428   \n",
              "Higher normal range.4                                         4427   \n",
              "Lower normal range.5                                          4427   \n",
              "Tumor margin (rectal tumor only)                              4427   \n",
              "Lower normal range.6                                          4420   \n",
              "Higher normal range.5                                         4420   \n",
              "Lower normal range.3                                          4416   \n",
              "Higher normal range.2                                         4416   \n",
              "Higher normal range.3                                         4415   \n",
              "Lower normal range.4                                          4415   \n",
              "Higher  normal range                                          4414   \n",
              "Lower normal range                                            4414   \n",
              "Lower normal range.2                                          4413   \n",
              "Higher normal range                                           4413   \n",
              "Lower normal range.1                                          4413   \n",
              "Higher normal range.1                                         4413   \n",
              "LDH                                                           4413   \n",
              "Side                                                          4409   \n",
              "Albumin                                                       4404   \n",
              "Leucocytes                                                    4402   \n",
              "Alkaline phosphatases                                         4402   \n",
              "Platelets                                                     4401   \n",
              "Hemoglobin                                                    4401   \n",
              "Scintigraphy                                                  4398   \n",
              "ECOG PS at Metastatic diagnosis                               4392   \n",
              "Date of consent                                               4389   \n",
              "Other mutation                                                4389   \n",
              "EGFR amplification                                            4389   \n",
              "Microsatellite.1                                              4388   \n",
              "KRAS mutation                                                 4386   \n",
              "Microsatellite                                                4385   \n",
              "Specify.1                                                     4379   \n",
              "Height                                                        4376   \n",
              "Weight                                                        4376   \n",
              "Diagnosis date.1                                              4294   \n",
              "Main reason                                                   3783   \n",
              "Diagnosis date                                                1168   \n",
              "Did the patient have pre-colectomy radiotherapy               1018   \n",
              "Date of first colectomy                                        915   \n",
              "Date of referral in the center                                 852   \n",
              "Birth date                                                     786   \n",
              "Does the patient have concomitant extra-hepatic...             662   \n",
              "Tumor                                                          646   \n",
              "CEA (car-old)                                                  438   \n",
              "Hepatic metastases maximum size                                432   \n",
              "Pet CT                                                         419   \n",
              "MRI                                                            412   \n",
              "CEA                                                            405   \n",
              "Number of resected lymph nodes.1                               399   \n",
              "Number of hepatic metastases.1                                 398   \n",
              "Number of metastatic lymph nodes.1                             397   \n",
              "Number of resected lymph nodes                                 395   \n",
              "CT scan chest                                                  395   \n",
              "Number of metastatic lymph nodes                               395   \n",
              "CT scan abdominal                                              387   \n",
              "Laparoscopic resection                                         378   \n",
              "Metastasis                                                     373   \n",
              "Hepatic metastases maximum size (mm)                           322   \n",
              "Initial resectability                                          318   \n",
              "Synchronicity of colorectal cancer                             314   \n",
              "Localization                                                   313   \n",
              "Number of hepatic metastases                                   309   \n",
              "Did the patient have pre-colectomy therapy (rad...             300   \n",
              "Node                                                           297   \n",
              "Patient code in the center                                     291   \n",
              "PATIENT_STATUS                                                  44   \n",
              "Patient id in former eCRF                                       43   \n",
              "Gender                                                           3   \n",
              "Inclusion criteria                                               1   \n",
              "\n",
              "                                                    percentile_missed  \n",
              "Which.1                                                         100.0  \n",
              "Which                                                           100.0  \n",
              "Lower normal range.7                                             99.9  \n",
              "CA19.9                                                           99.9  \n",
              "Higher normal range.6                                            99.9  \n",
              "Specify                                                          99.8  \n",
              "Higher normal range.4                                            99.8  \n",
              "Lower normal range.5                                             99.8  \n",
              "Tumor margin (rectal tumor only)                                 99.8  \n",
              "Lower normal range.6                                             99.6  \n",
              "Higher normal range.5                                            99.6  \n",
              "Lower normal range.3                                             99.5  \n",
              "Higher normal range.2                                            99.5  \n",
              "Higher normal range.3                                            99.5  \n",
              "Lower normal range.4                                             99.5  \n",
              "Higher  normal range                                             99.5  \n",
              "Lower normal range                                               99.5  \n",
              "Lower normal range.2                                             99.5  \n",
              "Higher normal range                                              99.5  \n",
              "Lower normal range.1                                             99.5  \n",
              "Higher normal range.1                                            99.5  \n",
              "LDH                                                              99.5  \n",
              "Side                                                             99.4  \n",
              "Albumin                                                          99.3  \n",
              "Leucocytes                                                       99.2  \n",
              "Alkaline phosphatases                                            99.2  \n",
              "Platelets                                                        99.2  \n",
              "Hemoglobin                                                       99.2  \n",
              "Scintigraphy                                                     99.1  \n",
              "ECOG PS at Metastatic diagnosis                                  99.0  \n",
              "Date of consent                                                  98.9  \n",
              "Other mutation                                                   98.9  \n",
              "EGFR amplification                                               98.9  \n",
              "Microsatellite.1                                                 98.9  \n",
              "KRAS mutation                                                    98.9  \n",
              "Microsatellite                                                   98.8  \n",
              "Specify.1                                                        98.7  \n",
              "Height                                                           98.6  \n",
              "Weight                                                           98.6  \n",
              "Diagnosis date.1                                                 96.8  \n",
              "Main reason                                                      85.3  \n",
              "Diagnosis date                                                   26.3  \n",
              "Did the patient have pre-colectomy radiotherapy                  22.9  \n",
              "Date of first colectomy                                          20.6  \n",
              "Date of referral in the center                                   19.2  \n",
              "Birth date                                                       17.7  \n",
              "Does the patient have concomitant extra-hepatic...               14.9  \n",
              "Tumor                                                            14.6  \n",
              "CEA (car-old)                                                     9.9  \n",
              "Hepatic metastases maximum size                                   9.7  \n",
              "Pet CT                                                            9.4  \n",
              "MRI                                                               9.3  \n",
              "CEA                                                               9.1  \n",
              "Number of resected lymph nodes.1                                  9.0  \n",
              "Number of hepatic metastases.1                                    9.0  \n",
              "Number of metastatic lymph nodes.1                                8.9  \n",
              "Number of resected lymph nodes                                    8.9  \n",
              "CT scan chest                                                     8.9  \n",
              "Number of metastatic lymph nodes                                  8.9  \n",
              "CT scan abdominal                                                 8.7  \n",
              "Laparoscopic resection                                            8.5  \n",
              "Metastasis                                                        8.4  \n",
              "Hepatic metastases maximum size (mm)                              7.3  \n",
              "Initial resectability                                             7.2  \n",
              "Synchronicity of colorectal cancer                                7.1  \n",
              "Localization                                                      7.1  \n",
              "Number of hepatic metastases                                      7.0  \n",
              "Did the patient have pre-colectomy therapy (rad...                6.8  \n",
              "Node                                                              6.7  \n",
              "Patient code in the center                                        6.6  \n",
              "PATIENT_STATUS                                                    1.0  \n",
              "Patient id in former eCRF                                         1.0  \n",
              "Gender                                                            0.1  \n",
              "Inclusion criteria                                                0.0  "
            ],
            "text/html": [
              "\n",
              "  <div id=\"df-f0e032ed-f04c-4ada-b1ff-41853977965c\">\n",
              "    <div class=\"colab-df-container\">\n",
              "      <div>\n",
              "<style scoped>\n",
              "    .dataframe tbody tr th:only-of-type {\n",
              "        vertical-align: middle;\n",
              "    }\n",
              "\n",
              "    .dataframe tbody tr th {\n",
              "        vertical-align: top;\n",
              "    }\n",
              "\n",
              "    .dataframe thead th {\n",
              "        text-align: right;\n",
              "    }\n",
              "</style>\n",
              "<table border=\"1\" class=\"dataframe\">\n",
              "  <thead>\n",
              "    <tr style=\"text-align: right;\">\n",
              "      <th></th>\n",
              "      <th>Missing Values</th>\n",
              "      <th>percentile_missed</th>\n",
              "    </tr>\n",
              "  </thead>\n",
              "  <tbody>\n",
              "    <tr>\n",
              "      <th>Which.1</th>\n",
              "      <td>4437</td>\n",
              "      <td>100.0</td>\n",
              "    </tr>\n",
              "    <tr>\n",
              "      <th>Which</th>\n",
              "      <td>4437</td>\n",
              "      <td>100.0</td>\n",
              "    </tr>\n",
              "    <tr>\n",
              "      <th>Lower normal range.7</th>\n",
              "      <td>4431</td>\n",
              "      <td>99.9</td>\n",
              "    </tr>\n",
              "    <tr>\n",
              "      <th>CA19.9</th>\n",
              "      <td>4431</td>\n",
              "      <td>99.9</td>\n",
              "    </tr>\n",
              "    <tr>\n",
              "      <th>Higher normal range.6</th>\n",
              "      <td>4431</td>\n",
              "      <td>99.9</td>\n",
              "    </tr>\n",
              "    <tr>\n",
              "      <th>Specify</th>\n",
              "      <td>4428</td>\n",
              "      <td>99.8</td>\n",
              "    </tr>\n",
              "    <tr>\n",
              "      <th>Higher normal range.4</th>\n",
              "      <td>4427</td>\n",
              "      <td>99.8</td>\n",
              "    </tr>\n",
              "    <tr>\n",
              "      <th>Lower normal range.5</th>\n",
              "      <td>4427</td>\n",
              "      <td>99.8</td>\n",
              "    </tr>\n",
              "    <tr>\n",
              "      <th>Tumor margin (rectal tumor only)</th>\n",
              "      <td>4427</td>\n",
              "      <td>99.8</td>\n",
              "    </tr>\n",
              "    <tr>\n",
              "      <th>Lower normal range.6</th>\n",
              "      <td>4420</td>\n",
              "      <td>99.6</td>\n",
              "    </tr>\n",
              "    <tr>\n",
              "      <th>Higher normal range.5</th>\n",
              "      <td>4420</td>\n",
              "      <td>99.6</td>\n",
              "    </tr>\n",
              "    <tr>\n",
              "      <th>Lower normal range.3</th>\n",
              "      <td>4416</td>\n",
              "      <td>99.5</td>\n",
              "    </tr>\n",
              "    <tr>\n",
              "      <th>Higher normal range.2</th>\n",
              "      <td>4416</td>\n",
              "      <td>99.5</td>\n",
              "    </tr>\n",
              "    <tr>\n",
              "      <th>Higher normal range.3</th>\n",
              "      <td>4415</td>\n",
              "      <td>99.5</td>\n",
              "    </tr>\n",
              "    <tr>\n",
              "      <th>Lower normal range.4</th>\n",
              "      <td>4415</td>\n",
              "      <td>99.5</td>\n",
              "    </tr>\n",
              "    <tr>\n",
              "      <th>Higher  normal range</th>\n",
              "      <td>4414</td>\n",
              "      <td>99.5</td>\n",
              "    </tr>\n",
              "    <tr>\n",
              "      <th>Lower normal range</th>\n",
              "      <td>4414</td>\n",
              "      <td>99.5</td>\n",
              "    </tr>\n",
              "    <tr>\n",
              "      <th>Lower normal range.2</th>\n",
              "      <td>4413</td>\n",
              "      <td>99.5</td>\n",
              "    </tr>\n",
              "    <tr>\n",
              "      <th>Higher normal range</th>\n",
              "      <td>4413</td>\n",
              "      <td>99.5</td>\n",
              "    </tr>\n",
              "    <tr>\n",
              "      <th>Lower normal range.1</th>\n",
              "      <td>4413</td>\n",
              "      <td>99.5</td>\n",
              "    </tr>\n",
              "    <tr>\n",
              "      <th>Higher normal range.1</th>\n",
              "      <td>4413</td>\n",
              "      <td>99.5</td>\n",
              "    </tr>\n",
              "    <tr>\n",
              "      <th>LDH</th>\n",
              "      <td>4413</td>\n",
              "      <td>99.5</td>\n",
              "    </tr>\n",
              "    <tr>\n",
              "      <th>Side</th>\n",
              "      <td>4409</td>\n",
              "      <td>99.4</td>\n",
              "    </tr>\n",
              "    <tr>\n",
              "      <th>Albumin</th>\n",
              "      <td>4404</td>\n",
              "      <td>99.3</td>\n",
              "    </tr>\n",
              "    <tr>\n",
              "      <th>Leucocytes</th>\n",
              "      <td>4402</td>\n",
              "      <td>99.2</td>\n",
              "    </tr>\n",
              "    <tr>\n",
              "      <th>Alkaline phosphatases</th>\n",
              "      <td>4402</td>\n",
              "      <td>99.2</td>\n",
              "    </tr>\n",
              "    <tr>\n",
              "      <th>Platelets</th>\n",
              "      <td>4401</td>\n",
              "      <td>99.2</td>\n",
              "    </tr>\n",
              "    <tr>\n",
              "      <th>Hemoglobin</th>\n",
              "      <td>4401</td>\n",
              "      <td>99.2</td>\n",
              "    </tr>\n",
              "    <tr>\n",
              "      <th>Scintigraphy</th>\n",
              "      <td>4398</td>\n",
              "      <td>99.1</td>\n",
              "    </tr>\n",
              "    <tr>\n",
              "      <th>ECOG PS at Metastatic diagnosis</th>\n",
              "      <td>4392</td>\n",
              "      <td>99.0</td>\n",
              "    </tr>\n",
              "    <tr>\n",
              "      <th>Date of consent</th>\n",
              "      <td>4389</td>\n",
              "      <td>98.9</td>\n",
              "    </tr>\n",
              "    <tr>\n",
              "      <th>Other mutation</th>\n",
              "      <td>4389</td>\n",
              "      <td>98.9</td>\n",
              "    </tr>\n",
              "    <tr>\n",
              "      <th>EGFR amplification</th>\n",
              "      <td>4389</td>\n",
              "      <td>98.9</td>\n",
              "    </tr>\n",
              "    <tr>\n",
              "      <th>Microsatellite.1</th>\n",
              "      <td>4388</td>\n",
              "      <td>98.9</td>\n",
              "    </tr>\n",
              "    <tr>\n",
              "      <th>KRAS mutation</th>\n",
              "      <td>4386</td>\n",
              "      <td>98.9</td>\n",
              "    </tr>\n",
              "    <tr>\n",
              "      <th>Microsatellite</th>\n",
              "      <td>4385</td>\n",
              "      <td>98.8</td>\n",
              "    </tr>\n",
              "    <tr>\n",
              "      <th>Specify.1</th>\n",
              "      <td>4379</td>\n",
              "      <td>98.7</td>\n",
              "    </tr>\n",
              "    <tr>\n",
              "      <th>Height</th>\n",
              "      <td>4376</td>\n",
              "      <td>98.6</td>\n",
              "    </tr>\n",
              "    <tr>\n",
              "      <th>Weight</th>\n",
              "      <td>4376</td>\n",
              "      <td>98.6</td>\n",
              "    </tr>\n",
              "    <tr>\n",
              "      <th>Diagnosis date.1</th>\n",
              "      <td>4294</td>\n",
              "      <td>96.8</td>\n",
              "    </tr>\n",
              "    <tr>\n",
              "      <th>Main reason</th>\n",
              "      <td>3783</td>\n",
              "      <td>85.3</td>\n",
              "    </tr>\n",
              "    <tr>\n",
              "      <th>Diagnosis date</th>\n",
              "      <td>1168</td>\n",
              "      <td>26.3</td>\n",
              "    </tr>\n",
              "    <tr>\n",
              "      <th>Did the patient have pre-colectomy radiotherapy</th>\n",
              "      <td>1018</td>\n",
              "      <td>22.9</td>\n",
              "    </tr>\n",
              "    <tr>\n",
              "      <th>Date of first colectomy</th>\n",
              "      <td>915</td>\n",
              "      <td>20.6</td>\n",
              "    </tr>\n",
              "    <tr>\n",
              "      <th>Date of referral in the center</th>\n",
              "      <td>852</td>\n",
              "      <td>19.2</td>\n",
              "    </tr>\n",
              "    <tr>\n",
              "      <th>Birth date</th>\n",
              "      <td>786</td>\n",
              "      <td>17.7</td>\n",
              "    </tr>\n",
              "    <tr>\n",
              "      <th>Does the patient have concomitant extra-hepatic metastases</th>\n",
              "      <td>662</td>\n",
              "      <td>14.9</td>\n",
              "    </tr>\n",
              "    <tr>\n",
              "      <th>Tumor</th>\n",
              "      <td>646</td>\n",
              "      <td>14.6</td>\n",
              "    </tr>\n",
              "    <tr>\n",
              "      <th>CEA (car-old)</th>\n",
              "      <td>438</td>\n",
              "      <td>9.9</td>\n",
              "    </tr>\n",
              "    <tr>\n",
              "      <th>Hepatic metastases maximum size</th>\n",
              "      <td>432</td>\n",
              "      <td>9.7</td>\n",
              "    </tr>\n",
              "    <tr>\n",
              "      <th>Pet CT</th>\n",
              "      <td>419</td>\n",
              "      <td>9.4</td>\n",
              "    </tr>\n",
              "    <tr>\n",
              "      <th>MRI</th>\n",
              "      <td>412</td>\n",
              "      <td>9.3</td>\n",
              "    </tr>\n",
              "    <tr>\n",
              "      <th>CEA</th>\n",
              "      <td>405</td>\n",
              "      <td>9.1</td>\n",
              "    </tr>\n",
              "    <tr>\n",
              "      <th>Number of resected lymph nodes.1</th>\n",
              "      <td>399</td>\n",
              "      <td>9.0</td>\n",
              "    </tr>\n",
              "    <tr>\n",
              "      <th>Number of hepatic metastases.1</th>\n",
              "      <td>398</td>\n",
              "      <td>9.0</td>\n",
              "    </tr>\n",
              "    <tr>\n",
              "      <th>Number of metastatic lymph nodes.1</th>\n",
              "      <td>397</td>\n",
              "      <td>8.9</td>\n",
              "    </tr>\n",
              "    <tr>\n",
              "      <th>Number of resected lymph nodes</th>\n",
              "      <td>395</td>\n",
              "      <td>8.9</td>\n",
              "    </tr>\n",
              "    <tr>\n",
              "      <th>CT scan chest</th>\n",
              "      <td>395</td>\n",
              "      <td>8.9</td>\n",
              "    </tr>\n",
              "    <tr>\n",
              "      <th>Number of metastatic lymph nodes</th>\n",
              "      <td>395</td>\n",
              "      <td>8.9</td>\n",
              "    </tr>\n",
              "    <tr>\n",
              "      <th>CT scan abdominal</th>\n",
              "      <td>387</td>\n",
              "      <td>8.7</td>\n",
              "    </tr>\n",
              "    <tr>\n",
              "      <th>Laparoscopic resection</th>\n",
              "      <td>378</td>\n",
              "      <td>8.5</td>\n",
              "    </tr>\n",
              "    <tr>\n",
              "      <th>Metastasis</th>\n",
              "      <td>373</td>\n",
              "      <td>8.4</td>\n",
              "    </tr>\n",
              "    <tr>\n",
              "      <th>Hepatic metastases maximum size (mm)</th>\n",
              "      <td>322</td>\n",
              "      <td>7.3</td>\n",
              "    </tr>\n",
              "    <tr>\n",
              "      <th>Initial resectability</th>\n",
              "      <td>318</td>\n",
              "      <td>7.2</td>\n",
              "    </tr>\n",
              "    <tr>\n",
              "      <th>Synchronicity of colorectal cancer</th>\n",
              "      <td>314</td>\n",
              "      <td>7.1</td>\n",
              "    </tr>\n",
              "    <tr>\n",
              "      <th>Localization</th>\n",
              "      <td>313</td>\n",
              "      <td>7.1</td>\n",
              "    </tr>\n",
              "    <tr>\n",
              "      <th>Number of hepatic metastases</th>\n",
              "      <td>309</td>\n",
              "      <td>7.0</td>\n",
              "    </tr>\n",
              "    <tr>\n",
              "      <th>Did the patient have pre-colectomy therapy (radiotherapy excluded)</th>\n",
              "      <td>300</td>\n",
              "      <td>6.8</td>\n",
              "    </tr>\n",
              "    <tr>\n",
              "      <th>Node</th>\n",
              "      <td>297</td>\n",
              "      <td>6.7</td>\n",
              "    </tr>\n",
              "    <tr>\n",
              "      <th>Patient code in the center</th>\n",
              "      <td>291</td>\n",
              "      <td>6.6</td>\n",
              "    </tr>\n",
              "    <tr>\n",
              "      <th>PATIENT_STATUS</th>\n",
              "      <td>44</td>\n",
              "      <td>1.0</td>\n",
              "    </tr>\n",
              "    <tr>\n",
              "      <th>Patient id in former eCRF</th>\n",
              "      <td>43</td>\n",
              "      <td>1.0</td>\n",
              "    </tr>\n",
              "    <tr>\n",
              "      <th>Gender</th>\n",
              "      <td>3</td>\n",
              "      <td>0.1</td>\n",
              "    </tr>\n",
              "    <tr>\n",
              "      <th>Inclusion criteria</th>\n",
              "      <td>1</td>\n",
              "      <td>0.0</td>\n",
              "    </tr>\n",
              "  </tbody>\n",
              "</table>\n",
              "</div>\n",
              "      <button class=\"colab-df-convert\" onclick=\"convertToInteractive('df-f0e032ed-f04c-4ada-b1ff-41853977965c')\"\n",
              "              title=\"Convert this dataframe to an interactive table.\"\n",
              "              style=\"display:none;\">\n",
              "        \n",
              "  <svg xmlns=\"http://www.w3.org/2000/svg\" height=\"24px\"viewBox=\"0 0 24 24\"\n",
              "       width=\"24px\">\n",
              "    <path d=\"M0 0h24v24H0V0z\" fill=\"none\"/>\n",
              "    <path d=\"M18.56 5.44l.94 2.06.94-2.06 2.06-.94-2.06-.94-.94-2.06-.94 2.06-2.06.94zm-11 1L8.5 8.5l.94-2.06 2.06-.94-2.06-.94L8.5 2.5l-.94 2.06-2.06.94zm10 10l.94 2.06.94-2.06 2.06-.94-2.06-.94-.94-2.06-.94 2.06-2.06.94z\"/><path d=\"M17.41 7.96l-1.37-1.37c-.4-.4-.92-.59-1.43-.59-.52 0-1.04.2-1.43.59L10.3 9.45l-7.72 7.72c-.78.78-.78 2.05 0 2.83L4 21.41c.39.39.9.59 1.41.59.51 0 1.02-.2 1.41-.59l7.78-7.78 2.81-2.81c.8-.78.8-2.07 0-2.86zM5.41 20L4 18.59l7.72-7.72 1.47 1.35L5.41 20z\"/>\n",
              "  </svg>\n",
              "      </button>\n",
              "      \n",
              "  <style>\n",
              "    .colab-df-container {\n",
              "      display:flex;\n",
              "      flex-wrap:wrap;\n",
              "      gap: 12px;\n",
              "    }\n",
              "\n",
              "    .colab-df-convert {\n",
              "      background-color: #E8F0FE;\n",
              "      border: none;\n",
              "      border-radius: 50%;\n",
              "      cursor: pointer;\n",
              "      display: none;\n",
              "      fill: #1967D2;\n",
              "      height: 32px;\n",
              "      padding: 0 0 0 0;\n",
              "      width: 32px;\n",
              "    }\n",
              "\n",
              "    .colab-df-convert:hover {\n",
              "      background-color: #E2EBFA;\n",
              "      box-shadow: 0px 1px 2px rgba(60, 64, 67, 0.3), 0px 1px 3px 1px rgba(60, 64, 67, 0.15);\n",
              "      fill: #174EA6;\n",
              "    }\n",
              "\n",
              "    [theme=dark] .colab-df-convert {\n",
              "      background-color: #3B4455;\n",
              "      fill: #D2E3FC;\n",
              "    }\n",
              "\n",
              "    [theme=dark] .colab-df-convert:hover {\n",
              "      background-color: #434B5C;\n",
              "      box-shadow: 0px 1px 3px 1px rgba(0, 0, 0, 0.15);\n",
              "      filter: drop-shadow(0px 1px 2px rgba(0, 0, 0, 0.3));\n",
              "      fill: #FFFFFF;\n",
              "    }\n",
              "  </style>\n",
              "\n",
              "      <script>\n",
              "        const buttonEl =\n",
              "          document.querySelector('#df-f0e032ed-f04c-4ada-b1ff-41853977965c button.colab-df-convert');\n",
              "        buttonEl.style.display =\n",
              "          google.colab.kernel.accessAllowed ? 'block' : 'none';\n",
              "\n",
              "        async function convertToInteractive(key) {\n",
              "          const element = document.querySelector('#df-f0e032ed-f04c-4ada-b1ff-41853977965c');\n",
              "          const dataTable =\n",
              "            await google.colab.kernel.invokeFunction('convertToInteractive',\n",
              "                                                     [key], {});\n",
              "          if (!dataTable) return;\n",
              "\n",
              "          const docLinkHtml = 'Like what you see? Visit the ' +\n",
              "            '<a target=\"_blank\" href=https://colab.research.google.com/notebooks/data_table.ipynb>data table notebook</a>'\n",
              "            + ' to learn more about interactive tables.';\n",
              "          element.innerHTML = '';\n",
              "          dataTable['output_type'] = 'display_data';\n",
              "          await google.colab.output.renderOutput(dataTable, element);\n",
              "          const docLink = document.createElement('div');\n",
              "          docLink.innerHTML = docLinkHtml;\n",
              "          element.appendChild(docLink);\n",
              "        }\n",
              "      </script>\n",
              "    </div>\n",
              "  </div>\n",
              "  "
            ]
          },
          "metadata": {},
          "execution_count": 9
        }
      ]
    },
    {
      "cell_type": "code",
      "metadata": {
        "id": "ZNCncfvII20G"
      },
      "source": [
        "def rmissingvaluecol(dff,threshold):\n",
        "    l = []\n",
        "    l = list(dff.drop(dff.loc[:,list((100*(dff.isnull().sum()/len(dff.index))>=threshold))].columns, 1).columns.values)\n",
        "    print(\"# Columns having more than %s percent missing values:\"%threshold,(dff.shape[1] - len(l)))\n",
        "    print(\"Columns:\\n\",list(set(list((dff.columns.values))) - set(l)))\n",
        "    return l"
      ],
      "execution_count": 10,
      "outputs": []
    },
    {
      "cell_type": "code",
      "metadata": {
        "colab": {
          "base_uri": "https://localhost:8080/"
        },
        "id": "VXmW-Z_kL3rK",
        "outputId": "81feb5b7-9cf6-4556-8ed8-b448b1309eaa"
      },
      "source": [
        " #Here threshold is 95% which means we are going to drop columns having more than 95% of missing values\n",
        "\n",
        "rmissingvaluecol(data,95)"
      ],
      "execution_count": 11,
      "outputs": [
        {
          "output_type": "stream",
          "name": "stdout",
          "text": [
            "# Columns having more than 95 percent missing values: 40\n",
            "Columns:\n",
            " ['Specify.1', 'Albumin', 'CA19.9', 'ECOG PS at Metastatic diagnosis', 'Side', 'Date of consent', 'Hemoglobin', 'Lower normal range.3', 'Weight', 'Microsatellite.1', 'Height', 'Alkaline phosphatases', 'Which.1', 'Higher normal range.4', 'Higher normal range.2', 'Lower normal range.1', 'Microsatellite', 'Lower normal range.7', 'Platelets', 'Higher normal range.3', 'EGFR amplification', 'Lower normal range.2', 'Higher normal range.5', 'Higher normal range.1', 'Diagnosis date.1', 'Scintigraphy', 'Other mutation', 'Lower normal range.4', 'Which', 'Tumor margin (rectal tumor only)', 'Higher  normal range', 'Lower normal range', 'Lower normal range.6', 'KRAS mutation', 'Lower normal range.5', 'Higher normal range', 'LDH', 'Leucocytes', 'Specify', 'Higher normal range.6']\n"
          ]
        },
        {
          "output_type": "stream",
          "name": "stderr",
          "text": [
            "/usr/local/lib/python3.7/dist-packages/ipykernel_launcher.py:3: FutureWarning: In a future version of pandas all arguments of DataFrame.drop except for the argument 'labels' will be keyword-only\n",
            "  This is separate from the ipykernel package so we can avoid doing imports until\n"
          ]
        },
        {
          "output_type": "execute_result",
          "data": {
            "text/plain": [
              "['Site number',\n",
              " 'Patient number',\n",
              " 'Patient id in former eCRF',\n",
              " 'Inclusion criteria',\n",
              " 'First name',\n",
              " 'Last name',\n",
              " 'Gender',\n",
              " 'Birth date',\n",
              " 'Patient code in the center',\n",
              " 'Date of referral in the center',\n",
              " 'Date of creation of patient',\n",
              " 'Did the patient have pre-colectomy therapy (radiotherapy excluded)',\n",
              " 'Did the patient have pre-colectomy radiotherapy',\n",
              " 'Laparoscopic resection',\n",
              " 'Date of first colectomy',\n",
              " 'Tumor',\n",
              " 'Node',\n",
              " 'Metastasis',\n",
              " 'Number of resected lymph nodes',\n",
              " 'Number of resected lymph nodes.1',\n",
              " 'Number of metastatic lymph nodes',\n",
              " 'Number of metastatic lymph nodes.1',\n",
              " 'Diagnosis date',\n",
              " 'Synchronicity of colorectal cancer',\n",
              " 'Number of hepatic metastases',\n",
              " 'Number of hepatic metastases.1',\n",
              " 'Hepatic metastases maximum size (mm)',\n",
              " 'Hepatic metastases maximum size',\n",
              " 'Localization',\n",
              " 'CT scan abdominal',\n",
              " 'CT scan chest',\n",
              " 'MRI',\n",
              " 'Pet CT',\n",
              " 'Initial resectability',\n",
              " 'Main reason',\n",
              " 'CEA',\n",
              " 'Does the patient have concomitant extra-hepatic metastases',\n",
              " 'CEA (car-old)',\n",
              " 'PATIENT_STATUS']"
            ]
          },
          "metadata": {},
          "execution_count": 11
        }
      ]
    },
    {
      "cell_type": "code",
      "source": [
        ""
      ],
      "metadata": {
        "id": "HpMvUIL5_jIX"
      },
      "execution_count": 11,
      "outputs": []
    },
    {
      "cell_type": "code",
      "metadata": {
        "colab": {
          "base_uri": "https://localhost:8080/"
        },
        "id": "LyqH14Pk1VCs",
        "outputId": "2f6533da-42c2-446c-bbb3-85191054f1ae"
      },
      "source": [
        "## [Categorical and Numerical column] ##\n",
        "\n",
        "# See how many categorical + numerical features:\n",
        "cat_cols = [features for features in data.columns if data[features].dtype!='int64' and data[features].dtype!='float' and data[features].dtype!='datetime64[ns]']\n",
        " \n",
        "#num_cols = [item[0] for item in data.dtypes if item[1].startswith('int') | item[1].startswith('double')][1:]\n",
        "\n",
        "print(str(len(cat_cols)) + '  intially categorical features')"
      ],
      "execution_count": 12,
      "outputs": [
        {
          "output_type": "stream",
          "name": "stdout",
          "text": [
            "50  intially categorical features\n"
          ]
        }
      ]
    },
    {
      "cell_type": "code",
      "metadata": {
        "colab": {
          "base_uri": "https://localhost:8080/"
        },
        "id": "HlrDdByS6p3G",
        "outputId": "400caf68-0948-45a1-90b6-4ce689d9da70"
      },
      "source": [
        "numafea=[fe for fe in data.columns if data[fe].dtype!='O' and data[fe].dtype!='datetime64[ns]']\n",
        "print(str(len(numafea)) + '  Initially Numarical features')"
      ],
      "execution_count": 13,
      "outputs": [
        {
          "output_type": "stream",
          "name": "stdout",
          "text": [
            "22  Initially Numarical features\n"
          ]
        }
      ]
    },
    {
      "cell_type": "code",
      "metadata": {
        "colab": {
          "base_uri": "https://localhost:8080/"
        },
        "id": "bDuEQjXh6p7a",
        "outputId": "11a70747-fb1e-4bd2-8da4-a377fb4ffda9"
      },
      "source": [
        "datafea=[fe for fe in data.columns if data[fe].dtype!='O' and data[fe].dtype!='int64' and data[fe].dtype!='float']\n",
        "print(str(len(datafea)) + '  Data features')"
      ],
      "execution_count": 14,
      "outputs": [
        {
          "output_type": "stream",
          "name": "stdout",
          "text": [
            "7  Data features\n"
          ]
        }
      ]
    },
    {
      "cell_type": "code",
      "metadata": {
        "colab": {
          "base_uri": "https://localhost:8080/"
        },
        "id": "fvWJVVEagWLm",
        "outputId": "981d28d1-ddb1-4291-f79f-75176263f225"
      },
      "source": [
        "datafea"
      ],
      "execution_count": 15,
      "outputs": [
        {
          "output_type": "execute_result",
          "data": {
            "text/plain": [
              "['Date of consent',\n",
              " 'Birth date',\n",
              " 'Date of referral in the center',\n",
              " 'Date of creation of patient',\n",
              " 'Date of first colectomy',\n",
              " 'Diagnosis date',\n",
              " 'Diagnosis date.1']"
            ]
          },
          "metadata": {},
          "execution_count": 15
        }
      ]
    },
    {
      "cell_type": "code",
      "metadata": {
        "colab": {
          "base_uri": "https://localhost:8080/"
        },
        "id": "G3FtgMYFMVeu",
        "outputId": "31b0c707-a181-4b33-8bcb-a31452911b46"
      },
      "source": [
        "remmv = rmissingvaluecol(data,99)\n",
        "df1 = data[remmv]"
      ],
      "execution_count": 16,
      "outputs": [
        {
          "output_type": "stream",
          "name": "stdout",
          "text": [
            "# Columns having more than 99 percent missing values: 29\n",
            "Columns:\n",
            " ['Albumin', 'CA19.9', 'Side', 'Hemoglobin', 'Lower normal range.3', 'Alkaline phosphatases', 'Which.1', 'Higher normal range.4', 'Higher normal range.2', 'Lower normal range.1', 'Lower normal range.7', 'Platelets', 'Higher normal range.3', 'Lower normal range.2', 'Higher normal range.5', 'Higher normal range.1', 'Scintigraphy', 'Lower normal range.4', 'Which', 'Tumor margin (rectal tumor only)', 'Higher  normal range', 'Lower normal range', 'Lower normal range.6', 'Lower normal range.5', 'Higher normal range', 'LDH', 'Leucocytes', 'Specify', 'Higher normal range.6']\n"
          ]
        },
        {
          "output_type": "stream",
          "name": "stderr",
          "text": [
            "/usr/local/lib/python3.7/dist-packages/ipykernel_launcher.py:3: FutureWarning: In a future version of pandas all arguments of DataFrame.drop except for the argument 'labels' will be keyword-only\n",
            "  This is separate from the ipykernel package so we can avoid doing imports until\n"
          ]
        }
      ]
    },
    {
      "cell_type": "code",
      "metadata": {
        "colab": {
          "base_uri": "https://localhost:8080/"
        },
        "id": "ZhvQmdTeMVgr",
        "outputId": "bec381c2-3880-4ea9-a376-f1a8de6ce9e9"
      },
      "source": [
        "df1.shape"
      ],
      "execution_count": 17,
      "outputs": [
        {
          "output_type": "execute_result",
          "data": {
            "text/plain": [
              "(4437, 50)"
            ]
          },
          "metadata": {},
          "execution_count": 17
        }
      ]
    },
    {
      "cell_type": "code",
      "source": [
        "## [Categorical and Numerical column] ##\n",
        "\n",
        "# See how many categorical + numerical features:\n",
        "\n",
        "numafea=[fe for fe in df1.columns if df1[fe].dtype!='O' and df1[fe].dtype!='datetime64[ns]']\n",
        "print('after removing the threshold of missing values there are',str(len(numafea)) + '  Numarical features')\n",
        "\n",
        "\n",
        "cat_cols = [features for features in df1.columns if df1[features].dtype=='O']\n",
        " \n",
        "#num_cols = [item[0] for item in data.dtypes if item[1].startswith('int') | item[1].startswith('double')][1:]\n",
        "\n",
        "print('after removing the threshold missing values there are',str(len(cat_cols)) + '  categorical features')\n",
        "\n",
        "datafea=[fe for fe in df1.columns if df1[fe].dtype!='O' and df1[fe].dtype!='int64' and df1[fe].dtype!='float']\n",
        "print('after removing the threshold missing values there are',str(len(datafea)) + '  Date&Time features')"
      ],
      "metadata": {
        "colab": {
          "base_uri": "https://localhost:8080/"
        },
        "id": "akHjoweMBiJW",
        "outputId": "7ed409e2-9718-4bf0-bb2b-68e6b303c629"
      },
      "execution_count": 18,
      "outputs": [
        {
          "output_type": "stream",
          "name": "stdout",
          "text": [
            "after removing the threshold of missing values there are 3  Numarical features\n",
            "after removing the threshold missing values there are 40  categorical features\n",
            "after removing the threshold missing values there are 7  Date&Time features\n"
          ]
        }
      ]
    },
    {
      "cell_type": "code",
      "metadata": {
        "colab": {
          "base_uri": "https://localhost:8080/"
        },
        "id": "kyhm8ie7MVkt",
        "outputId": "7d029407-bcdd-490a-fdeb-f1d38bf2de02"
      },
      "source": [
        "df1.isnull().sum().sum()"
      ],
      "execution_count": 19,
      "outputs": [
        {
          "output_type": "execute_result",
          "data": {
            "text/plain": [
              "66151"
            ]
          },
          "metadata": {},
          "execution_count": 19
        }
      ]
    },
    {
      "cell_type": "code",
      "source": [
        "# finding and replacing Missing value in Numeric features\n",
        "\n",
        "df1[numafea].isnull().sum()"
      ],
      "metadata": {
        "colab": {
          "base_uri": "https://localhost:8080/"
        },
        "id": "lQmfvPMrGSy0",
        "outputId": "0487fbb6-6604-4e68-b0d4-982ec262937c"
      },
      "execution_count": 20,
      "outputs": [
        {
          "output_type": "execute_result",
          "data": {
            "text/plain": [
              "Site number                   0\n",
              "Patient number                0\n",
              "Patient id in former eCRF    43\n",
              "dtype: int64"
            ]
          },
          "metadata": {},
          "execution_count": 20
        }
      ]
    },
    {
      "cell_type": "code",
      "source": [
        "len(df1['Patient id in former eCRF'].unique())"
      ],
      "metadata": {
        "colab": {
          "base_uri": "https://localhost:8080/"
        },
        "id": "ExQ89Uc3GS_B",
        "outputId": "c834c314-54e1-4f39-a098-86ec515be58b"
      },
      "execution_count": 21,
      "outputs": [
        {
          "output_type": "execute_result",
          "data": {
            "text/plain": [
              "1738"
            ]
          },
          "metadata": {},
          "execution_count": 21
        }
      ]
    },
    {
      "cell_type": "code",
      "source": [
        "# replacing the null values with there mean value respectively\n",
        "\n",
        "for features in numafea:\n",
        "    meanValue = df1[features].mean()\n",
        "    df1[features].fillna(meanValue, inplace=True)"
      ],
      "metadata": {
        "colab": {
          "base_uri": "https://localhost:8080/"
        },
        "id": "UwFp4yKAGTCo",
        "outputId": "304106ee-8e03-4f15-8f0e-31c35ce783d6"
      },
      "execution_count": 22,
      "outputs": [
        {
          "output_type": "stream",
          "name": "stderr",
          "text": [
            "/usr/local/lib/python3.7/dist-packages/pandas/core/generic.py:6392: SettingWithCopyWarning: \n",
            "A value is trying to be set on a copy of a slice from a DataFrame\n",
            "\n",
            "See the caveats in the documentation: https://pandas.pydata.org/pandas-docs/stable/user_guide/indexing.html#returning-a-view-versus-a-copy\n",
            "  return self._update_inplace(result)\n"
          ]
        }
      ]
    },
    {
      "cell_type": "code",
      "source": [
        "df1[numafea].isnull().sum()"
      ],
      "metadata": {
        "colab": {
          "base_uri": "https://localhost:8080/"
        },
        "id": "IvxwZ06pGTQr",
        "outputId": "80447b81-b29a-4813-9db5-3dfa5a3ac235"
      },
      "execution_count": 23,
      "outputs": [
        {
          "output_type": "execute_result",
          "data": {
            "text/plain": [
              "Site number                  0\n",
              "Patient number               0\n",
              "Patient id in former eCRF    0\n",
              "dtype: int64"
            ]
          },
          "metadata": {},
          "execution_count": 23
        }
      ]
    },
    {
      "cell_type": "code",
      "source": [
        "cate_fea= [features for features in df1.columns if df1[features].isnull().sum() >=1 and df1[features].dtype =='O' ]\n",
        "\n",
        "for features in cate_fea:\n",
        "    print(\"{} : {}  values missed and this many {} unique values in this field\".format(features, df1[features].isnull().sum(),len(df1[features].unique())))"
      ],
      "metadata": {
        "colab": {
          "base_uri": "https://localhost:8080/"
        },
        "id": "yELwwzkQLZcD",
        "outputId": "76379c83-91c3-4fd3-b4ba-c20cd7b270e0"
      },
      "execution_count": 24,
      "outputs": [
        {
          "output_type": "stream",
          "name": "stdout",
          "text": [
            "Inclusion criteria : 1  values missed and this many 3 unique values in this field\n",
            "Gender : 3  values missed and this many 3 unique values in this field\n",
            "Patient code in the center : 291  values missed and this many 4117 unique values in this field\n",
            "Height : 4376  values missed and this many 33 unique values in this field\n",
            "Weight : 4376  values missed and this many 43 unique values in this field\n",
            "Did the patient have pre-colectomy therapy (radiotherapy excluded) : 300  values missed and this many 4 unique values in this field\n",
            "Did the patient have pre-colectomy radiotherapy : 1018  values missed and this many 4 unique values in this field\n",
            "Laparoscopic resection : 378  values missed and this many 4 unique values in this field\n",
            "Tumor : 646  values missed and this many 9 unique values in this field\n",
            "Node : 297  values missed and this many 9 unique values in this field\n",
            "Metastasis : 373  values missed and this many 6 unique values in this field\n",
            "Number of resected lymph nodes : 395  values missed and this many 79 unique values in this field\n",
            "Number of resected lymph nodes.1 : 399  values missed and this many 79 unique values in this field\n",
            "Number of metastatic lymph nodes : 395  values missed and this many 35 unique values in this field\n",
            "Number of metastatic lymph nodes.1 : 397  values missed and this many 35 unique values in this field\n",
            "EGFR amplification : 4389  values missed and this many 3 unique values in this field\n",
            "Other mutation : 4389  values missed and this many 3 unique values in this field\n",
            "Microsatellite : 4385  values missed and this many 3 unique values in this field\n",
            "Synchronicity of colorectal cancer : 314  values missed and this many 4 unique values in this field\n",
            "Number of hepatic metastases : 309  values missed and this many 48 unique values in this field\n",
            "Number of hepatic metastases.1 : 398  values missed and this many 33 unique values in this field\n",
            "Hepatic metastases maximum size (mm) : 322  values missed and this many 198 unique values in this field\n",
            "Hepatic metastases maximum size : 432  values missed and this many 182 unique values in this field\n",
            "Localization : 313  values missed and this many 4 unique values in this field\n",
            "KRAS mutation : 4386  values missed and this many 4 unique values in this field\n",
            "Microsatellite.1 : 4388  values missed and this many 4 unique values in this field\n",
            "CT scan abdominal : 387  values missed and this many 4 unique values in this field\n",
            "CT scan chest : 395  values missed and this many 4 unique values in this field\n",
            "MRI : 412  values missed and this many 4 unique values in this field\n",
            "Pet CT : 419  values missed and this many 4 unique values in this field\n",
            "Initial resectability : 318  values missed and this many 4 unique values in this field\n",
            "Specify.1 : 4379  values missed and this many 51 unique values in this field\n",
            "Main reason : 3783  values missed and this many 7 unique values in this field\n",
            "ECOG PS at Metastatic diagnosis : 4392  values missed and this many 5 unique values in this field\n",
            "CEA : 405  values missed and this many 921 unique values in this field\n",
            "Does the patient have concomitant extra-hepatic metastases : 662  values missed and this many 3 unique values in this field\n",
            "CEA (car-old) : 438  values missed and this many 918 unique values in this field\n",
            "PATIENT_STATUS : 44  values missed and this many 4 unique values in this field\n"
          ]
        }
      ]
    },
    {
      "cell_type": "code",
      "source": [
        "df1['PATIENT_STATUS'].unique()"
      ],
      "metadata": {
        "colab": {
          "base_uri": "https://localhost:8080/"
        },
        "id": "B4eyTsOji6wG",
        "outputId": "f20d6ee3-57a2-4407-fbfd-02bfdf5067be"
      },
      "execution_count": 25,
      "outputs": [
        {
          "output_type": "execute_result",
          "data": {
            "text/plain": [
              "array(['Deceased', 'Alive', nan, 'Lost to follow-up'], dtype=object)"
            ]
          },
          "metadata": {},
          "execution_count": 25
        }
      ]
    },
    {
      "cell_type": "code",
      "source": [
        "#PATIENT_STATUS (our tarhet feature) has 44  values missed  so for that iam replacing those values into missing term\n",
        "\n",
        "\n",
        "df1['PATIENT_STATUS']=df1['PATIENT_STATUS'].fillna('Missing')\n"
      ],
      "metadata": {
        "colab": {
          "base_uri": "https://localhost:8080/"
        },
        "id": "OALL0mJrht3-",
        "outputId": "f2f3614e-6734-4e13-f8b4-48b441203a32"
      },
      "execution_count": 26,
      "outputs": [
        {
          "output_type": "stream",
          "name": "stderr",
          "text": [
            "/usr/local/lib/python3.7/dist-packages/ipykernel_launcher.py:4: SettingWithCopyWarning: \n",
            "A value is trying to be set on a copy of a slice from a DataFrame.\n",
            "Try using .loc[row_indexer,col_indexer] = value instead\n",
            "\n",
            "See the caveats in the documentation: https://pandas.pydata.org/pandas-docs/stable/user_guide/indexing.html#returning-a-view-versus-a-copy\n",
            "  after removing the cwd from sys.path.\n"
          ]
        }
      ]
    },
    {
      "cell_type": "code",
      "source": [
        "df1['PATIENT_STATUS'].unique()"
      ],
      "metadata": {
        "colab": {
          "base_uri": "https://localhost:8080/"
        },
        "id": "m7G4cEgIi60X",
        "outputId": "2226f151-b331-4cd8-de03-722664ebf17f"
      },
      "execution_count": 27,
      "outputs": [
        {
          "output_type": "execute_result",
          "data": {
            "text/plain": [
              "array(['Deceased', 'Alive', 'Missing', 'Lost to follow-up'], dtype=object)"
            ]
          },
          "metadata": {},
          "execution_count": 27
        }
      ]
    },
    {
      "cell_type": "code",
      "source": [
        "temp=df1.groupby('PATIENT_STATUS').count()\n",
        "\n",
        "temp"
      ],
      "metadata": {
        "colab": {
          "base_uri": "https://localhost:8080/",
          "height": 391
        },
        "id": "HD716nZ9jMDk",
        "outputId": "182fb84d-b50a-43ee-a83f-9fe6b4efd8c4"
      },
      "execution_count": 28,
      "outputs": [
        {
          "output_type": "execute_result",
          "data": {
            "text/plain": [
              "                   Site number  Patient number  Patient id in former eCRF  \\\n",
              "PATIENT_STATUS                                                              \n",
              "Alive                     2344            2344                       2344   \n",
              "Deceased                  2016            2016                       2016   \n",
              "Lost to follow-up           33              33                         33   \n",
              "Missing                     44              44                         44   \n",
              "\n",
              "                   Date of consent  Inclusion criteria  First name  Last name  \\\n",
              "PATIENT_STATUS                                                                  \n",
              "Alive                           32                2344        2344       2344   \n",
              "Deceased                         4                2015        2016       2016   \n",
              "Lost to follow-up                1                  33          33         33   \n",
              "Missing                         11                  44          44         44   \n",
              "\n",
              "                   Gender  Birth date  Patient code in the center  \\\n",
              "PATIENT_STATUS                                                      \n",
              "Alive                2343        1946                        2232   \n",
              "Deceased             2014        1629                        1838   \n",
              "Lost to follow-up      33          33                          33   \n",
              "Missing                44          43                          43   \n",
              "\n",
              "                   Date of referral in the center  Height  Weight  \\\n",
              "PATIENT_STATUS                                                      \n",
              "Alive                                        2072      43      43   \n",
              "Deceased                                     1439       5       5   \n",
              "Lost to follow-up                              33       2       2   \n",
              "Missing                                        41      11      11   \n",
              "\n",
              "                   Date of creation of patient  \\\n",
              "PATIENT_STATUS                                   \n",
              "Alive                                     2344   \n",
              "Deceased                                  2016   \n",
              "Lost to follow-up                           33   \n",
              "Missing                                     44   \n",
              "\n",
              "                   Did the patient have pre-colectomy therapy (radiotherapy excluded)  \\\n",
              "PATIENT_STATUS                                                                          \n",
              "Alive                                                           2229                    \n",
              "Deceased                                                        1836                    \n",
              "Lost to follow-up                                                 33                    \n",
              "Missing                                                           39                    \n",
              "\n",
              "                   Did the patient have pre-colectomy radiotherapy  \\\n",
              "PATIENT_STATUS                                                       \n",
              "Alive                                                         2048   \n",
              "Deceased                                                      1303   \n",
              "Lost to follow-up                                               31   \n",
              "Missing                                                         37   \n",
              "\n",
              "                   Laparoscopic resection  Date of first colectomy  Tumor  \\\n",
              "PATIENT_STATUS                                                              \n",
              "Alive                                2199                     1747   2044   \n",
              "Deceased                             1788                     1720   1680   \n",
              "Lost to follow-up                      33                       28     31   \n",
              "Missing                                39                       27     36   \n",
              "\n",
              "                   Node  Metastasis  Number of resected lymph nodes  \\\n",
              "PATIENT_STATUS                                                        \n",
              "Alive              2247        2194                            2185   \n",
              "Deceased           1824        1800                            1789   \n",
              "Lost to follow-up    32          33                              31   \n",
              "Missing              37          37                              37   \n",
              "\n",
              "                   Number of resected lymph nodes.1  \\\n",
              "PATIENT_STATUS                                        \n",
              "Alive                                          2183   \n",
              "Deceased                                       1788   \n",
              "Lost to follow-up                                31   \n",
              "Missing                                          36   \n",
              "\n",
              "                   Number of metastatic lymph nodes  \\\n",
              "PATIENT_STATUS                                        \n",
              "Alive                                          2184   \n",
              "Deceased                                       1790   \n",
              "Lost to follow-up                                31   \n",
              "Missing                                          37   \n",
              "\n",
              "                   Number of metastatic lymph nodes.1  EGFR amplification  \\\n",
              "PATIENT_STATUS                                                              \n",
              "Alive                                            2183                  36   \n",
              "Deceased                                         1789                   5   \n",
              "Lost to follow-up                                  31                   2   \n",
              "Missing                                            37                   5   \n",
              "\n",
              "                   Other mutation  Microsatellite  Diagnosis date  \\\n",
              "PATIENT_STATUS                                                      \n",
              "Alive                          36              39            1772   \n",
              "Deceased                        5               6            1455   \n",
              "Lost to follow-up               2               2              18   \n",
              "Missing                         5               5              24   \n",
              "\n",
              "                   Synchronicity of colorectal cancer  \\\n",
              "PATIENT_STATUS                                          \n",
              "Alive                                            2224   \n",
              "Deceased                                         1834   \n",
              "Lost to follow-up                                  33   \n",
              "Missing                                            32   \n",
              "\n",
              "                   Number of hepatic metastases  \\\n",
              "PATIENT_STATUS                                    \n",
              "Alive                                      2226   \n",
              "Deceased                                   1837   \n",
              "Lost to follow-up                            33   \n",
              "Missing                                      32   \n",
              "\n",
              "                   Number of hepatic metastases.1  \\\n",
              "PATIENT_STATUS                                      \n",
              "Alive                                        2204   \n",
              "Deceased                                     1772   \n",
              "Lost to follow-up                              32   \n",
              "Missing                                        31   \n",
              "\n",
              "                   Hepatic metastases maximum size (mm)  \\\n",
              "PATIENT_STATUS                                            \n",
              "Alive                                              2219   \n",
              "Deceased                                           1831   \n",
              "Lost to follow-up                                    33   \n",
              "Missing                                              32   \n",
              "\n",
              "                   Hepatic metastases maximum size  Localization  \\\n",
              "PATIENT_STATUS                                                     \n",
              "Alive                                         2166          2226   \n",
              "Deceased                                      1784          1834   \n",
              "Lost to follow-up                               32            32   \n",
              "Missing                                         23            32   \n",
              "\n",
              "                   KRAS mutation  Microsatellite.1  CT scan abdominal  \\\n",
              "PATIENT_STATUS                                                          \n",
              "Alive                         37                36               2194   \n",
              "Deceased                       5                 6               1791   \n",
              "Lost to follow-up              3                 2                 33   \n",
              "Missing                        6                 5                 32   \n",
              "\n",
              "                   CT scan chest   MRI  Pet CT  Initial resectability  \\\n",
              "PATIENT_STATUS                                                          \n",
              "Alive                       2189  2178    2173                   2223   \n",
              "Deceased                    1789  1783    1781                   1833   \n",
              "Lost to follow-up             33    33      33                     32   \n",
              "Missing                       31    31      31                     31   \n",
              "\n",
              "                   Specify.1  Main reason  ECOG PS at Metastatic diagnosis  \\\n",
              "PATIENT_STATUS                                                               \n",
              "Alive                     15          314                               31   \n",
              "Deceased                  42          320                                6   \n",
              "Lost to follow-up          1           14                                1   \n",
              "Missing                    0            6                                7   \n",
              "\n",
              "                    CEA  \\\n",
              "PATIENT_STATUS            \n",
              "Alive              2185   \n",
              "Deceased           1791   \n",
              "Lost to follow-up    28   \n",
              "Missing              28   \n",
              "\n",
              "                   Does the patient have concomitant extra-hepatic metastases  \\\n",
              "PATIENT_STATUS                                                                  \n",
              "Alive                                                           2062            \n",
              "Deceased                                                        1654            \n",
              "Lost to follow-up                                                 31            \n",
              "Missing                                                           28            \n",
              "\n",
              "                   Diagnosis date.1  CEA (car-old)  \n",
              "PATIENT_STATUS                                      \n",
              "Alive                            82           2158  \n",
              "Deceased                         59           1791  \n",
              "Lost to follow-up                 1             27  \n",
              "Missing                           1             23  "
            ],
            "text/html": [
              "\n",
              "  <div id=\"df-06a1c51d-c8e1-4103-838e-a634ce287570\">\n",
              "    <div class=\"colab-df-container\">\n",
              "      <div>\n",
              "<style scoped>\n",
              "    .dataframe tbody tr th:only-of-type {\n",
              "        vertical-align: middle;\n",
              "    }\n",
              "\n",
              "    .dataframe tbody tr th {\n",
              "        vertical-align: top;\n",
              "    }\n",
              "\n",
              "    .dataframe thead th {\n",
              "        text-align: right;\n",
              "    }\n",
              "</style>\n",
              "<table border=\"1\" class=\"dataframe\">\n",
              "  <thead>\n",
              "    <tr style=\"text-align: right;\">\n",
              "      <th></th>\n",
              "      <th>Site number</th>\n",
              "      <th>Patient number</th>\n",
              "      <th>Patient id in former eCRF</th>\n",
              "      <th>Date of consent</th>\n",
              "      <th>Inclusion criteria</th>\n",
              "      <th>First name</th>\n",
              "      <th>Last name</th>\n",
              "      <th>Gender</th>\n",
              "      <th>Birth date</th>\n",
              "      <th>Patient code in the center</th>\n",
              "      <th>Date of referral in the center</th>\n",
              "      <th>Height</th>\n",
              "      <th>Weight</th>\n",
              "      <th>Date of creation of patient</th>\n",
              "      <th>Did the patient have pre-colectomy therapy (radiotherapy excluded)</th>\n",
              "      <th>Did the patient have pre-colectomy radiotherapy</th>\n",
              "      <th>Laparoscopic resection</th>\n",
              "      <th>Date of first colectomy</th>\n",
              "      <th>Tumor</th>\n",
              "      <th>Node</th>\n",
              "      <th>Metastasis</th>\n",
              "      <th>Number of resected lymph nodes</th>\n",
              "      <th>Number of resected lymph nodes.1</th>\n",
              "      <th>Number of metastatic lymph nodes</th>\n",
              "      <th>Number of metastatic lymph nodes.1</th>\n",
              "      <th>EGFR amplification</th>\n",
              "      <th>Other mutation</th>\n",
              "      <th>Microsatellite</th>\n",
              "      <th>Diagnosis date</th>\n",
              "      <th>Synchronicity of colorectal cancer</th>\n",
              "      <th>Number of hepatic metastases</th>\n",
              "      <th>Number of hepatic metastases.1</th>\n",
              "      <th>Hepatic metastases maximum size (mm)</th>\n",
              "      <th>Hepatic metastases maximum size</th>\n",
              "      <th>Localization</th>\n",
              "      <th>KRAS mutation</th>\n",
              "      <th>Microsatellite.1</th>\n",
              "      <th>CT scan abdominal</th>\n",
              "      <th>CT scan chest</th>\n",
              "      <th>MRI</th>\n",
              "      <th>Pet CT</th>\n",
              "      <th>Initial resectability</th>\n",
              "      <th>Specify.1</th>\n",
              "      <th>Main reason</th>\n",
              "      <th>ECOG PS at Metastatic diagnosis</th>\n",
              "      <th>CEA</th>\n",
              "      <th>Does the patient have concomitant extra-hepatic metastases</th>\n",
              "      <th>Diagnosis date.1</th>\n",
              "      <th>CEA (car-old)</th>\n",
              "    </tr>\n",
              "    <tr>\n",
              "      <th>PATIENT_STATUS</th>\n",
              "      <th></th>\n",
              "      <th></th>\n",
              "      <th></th>\n",
              "      <th></th>\n",
              "      <th></th>\n",
              "      <th></th>\n",
              "      <th></th>\n",
              "      <th></th>\n",
              "      <th></th>\n",
              "      <th></th>\n",
              "      <th></th>\n",
              "      <th></th>\n",
              "      <th></th>\n",
              "      <th></th>\n",
              "      <th></th>\n",
              "      <th></th>\n",
              "      <th></th>\n",
              "      <th></th>\n",
              "      <th></th>\n",
              "      <th></th>\n",
              "      <th></th>\n",
              "      <th></th>\n",
              "      <th></th>\n",
              "      <th></th>\n",
              "      <th></th>\n",
              "      <th></th>\n",
              "      <th></th>\n",
              "      <th></th>\n",
              "      <th></th>\n",
              "      <th></th>\n",
              "      <th></th>\n",
              "      <th></th>\n",
              "      <th></th>\n",
              "      <th></th>\n",
              "      <th></th>\n",
              "      <th></th>\n",
              "      <th></th>\n",
              "      <th></th>\n",
              "      <th></th>\n",
              "      <th></th>\n",
              "      <th></th>\n",
              "      <th></th>\n",
              "      <th></th>\n",
              "      <th></th>\n",
              "      <th></th>\n",
              "      <th></th>\n",
              "      <th></th>\n",
              "      <th></th>\n",
              "      <th></th>\n",
              "    </tr>\n",
              "  </thead>\n",
              "  <tbody>\n",
              "    <tr>\n",
              "      <th>Alive</th>\n",
              "      <td>2344</td>\n",
              "      <td>2344</td>\n",
              "      <td>2344</td>\n",
              "      <td>32</td>\n",
              "      <td>2344</td>\n",
              "      <td>2344</td>\n",
              "      <td>2344</td>\n",
              "      <td>2343</td>\n",
              "      <td>1946</td>\n",
              "      <td>2232</td>\n",
              "      <td>2072</td>\n",
              "      <td>43</td>\n",
              "      <td>43</td>\n",
              "      <td>2344</td>\n",
              "      <td>2229</td>\n",
              "      <td>2048</td>\n",
              "      <td>2199</td>\n",
              "      <td>1747</td>\n",
              "      <td>2044</td>\n",
              "      <td>2247</td>\n",
              "      <td>2194</td>\n",
              "      <td>2185</td>\n",
              "      <td>2183</td>\n",
              "      <td>2184</td>\n",
              "      <td>2183</td>\n",
              "      <td>36</td>\n",
              "      <td>36</td>\n",
              "      <td>39</td>\n",
              "      <td>1772</td>\n",
              "      <td>2224</td>\n",
              "      <td>2226</td>\n",
              "      <td>2204</td>\n",
              "      <td>2219</td>\n",
              "      <td>2166</td>\n",
              "      <td>2226</td>\n",
              "      <td>37</td>\n",
              "      <td>36</td>\n",
              "      <td>2194</td>\n",
              "      <td>2189</td>\n",
              "      <td>2178</td>\n",
              "      <td>2173</td>\n",
              "      <td>2223</td>\n",
              "      <td>15</td>\n",
              "      <td>314</td>\n",
              "      <td>31</td>\n",
              "      <td>2185</td>\n",
              "      <td>2062</td>\n",
              "      <td>82</td>\n",
              "      <td>2158</td>\n",
              "    </tr>\n",
              "    <tr>\n",
              "      <th>Deceased</th>\n",
              "      <td>2016</td>\n",
              "      <td>2016</td>\n",
              "      <td>2016</td>\n",
              "      <td>4</td>\n",
              "      <td>2015</td>\n",
              "      <td>2016</td>\n",
              "      <td>2016</td>\n",
              "      <td>2014</td>\n",
              "      <td>1629</td>\n",
              "      <td>1838</td>\n",
              "      <td>1439</td>\n",
              "      <td>5</td>\n",
              "      <td>5</td>\n",
              "      <td>2016</td>\n",
              "      <td>1836</td>\n",
              "      <td>1303</td>\n",
              "      <td>1788</td>\n",
              "      <td>1720</td>\n",
              "      <td>1680</td>\n",
              "      <td>1824</td>\n",
              "      <td>1800</td>\n",
              "      <td>1789</td>\n",
              "      <td>1788</td>\n",
              "      <td>1790</td>\n",
              "      <td>1789</td>\n",
              "      <td>5</td>\n",
              "      <td>5</td>\n",
              "      <td>6</td>\n",
              "      <td>1455</td>\n",
              "      <td>1834</td>\n",
              "      <td>1837</td>\n",
              "      <td>1772</td>\n",
              "      <td>1831</td>\n",
              "      <td>1784</td>\n",
              "      <td>1834</td>\n",
              "      <td>5</td>\n",
              "      <td>6</td>\n",
              "      <td>1791</td>\n",
              "      <td>1789</td>\n",
              "      <td>1783</td>\n",
              "      <td>1781</td>\n",
              "      <td>1833</td>\n",
              "      <td>42</td>\n",
              "      <td>320</td>\n",
              "      <td>6</td>\n",
              "      <td>1791</td>\n",
              "      <td>1654</td>\n",
              "      <td>59</td>\n",
              "      <td>1791</td>\n",
              "    </tr>\n",
              "    <tr>\n",
              "      <th>Lost to follow-up</th>\n",
              "      <td>33</td>\n",
              "      <td>33</td>\n",
              "      <td>33</td>\n",
              "      <td>1</td>\n",
              "      <td>33</td>\n",
              "      <td>33</td>\n",
              "      <td>33</td>\n",
              "      <td>33</td>\n",
              "      <td>33</td>\n",
              "      <td>33</td>\n",
              "      <td>33</td>\n",
              "      <td>2</td>\n",
              "      <td>2</td>\n",
              "      <td>33</td>\n",
              "      <td>33</td>\n",
              "      <td>31</td>\n",
              "      <td>33</td>\n",
              "      <td>28</td>\n",
              "      <td>31</td>\n",
              "      <td>32</td>\n",
              "      <td>33</td>\n",
              "      <td>31</td>\n",
              "      <td>31</td>\n",
              "      <td>31</td>\n",
              "      <td>31</td>\n",
              "      <td>2</td>\n",
              "      <td>2</td>\n",
              "      <td>2</td>\n",
              "      <td>18</td>\n",
              "      <td>33</td>\n",
              "      <td>33</td>\n",
              "      <td>32</td>\n",
              "      <td>33</td>\n",
              "      <td>32</td>\n",
              "      <td>32</td>\n",
              "      <td>3</td>\n",
              "      <td>2</td>\n",
              "      <td>33</td>\n",
              "      <td>33</td>\n",
              "      <td>33</td>\n",
              "      <td>33</td>\n",
              "      <td>32</td>\n",
              "      <td>1</td>\n",
              "      <td>14</td>\n",
              "      <td>1</td>\n",
              "      <td>28</td>\n",
              "      <td>31</td>\n",
              "      <td>1</td>\n",
              "      <td>27</td>\n",
              "    </tr>\n",
              "    <tr>\n",
              "      <th>Missing</th>\n",
              "      <td>44</td>\n",
              "      <td>44</td>\n",
              "      <td>44</td>\n",
              "      <td>11</td>\n",
              "      <td>44</td>\n",
              "      <td>44</td>\n",
              "      <td>44</td>\n",
              "      <td>44</td>\n",
              "      <td>43</td>\n",
              "      <td>43</td>\n",
              "      <td>41</td>\n",
              "      <td>11</td>\n",
              "      <td>11</td>\n",
              "      <td>44</td>\n",
              "      <td>39</td>\n",
              "      <td>37</td>\n",
              "      <td>39</td>\n",
              "      <td>27</td>\n",
              "      <td>36</td>\n",
              "      <td>37</td>\n",
              "      <td>37</td>\n",
              "      <td>37</td>\n",
              "      <td>36</td>\n",
              "      <td>37</td>\n",
              "      <td>37</td>\n",
              "      <td>5</td>\n",
              "      <td>5</td>\n",
              "      <td>5</td>\n",
              "      <td>24</td>\n",
              "      <td>32</td>\n",
              "      <td>32</td>\n",
              "      <td>31</td>\n",
              "      <td>32</td>\n",
              "      <td>23</td>\n",
              "      <td>32</td>\n",
              "      <td>6</td>\n",
              "      <td>5</td>\n",
              "      <td>32</td>\n",
              "      <td>31</td>\n",
              "      <td>31</td>\n",
              "      <td>31</td>\n",
              "      <td>31</td>\n",
              "      <td>0</td>\n",
              "      <td>6</td>\n",
              "      <td>7</td>\n",
              "      <td>28</td>\n",
              "      <td>28</td>\n",
              "      <td>1</td>\n",
              "      <td>23</td>\n",
              "    </tr>\n",
              "  </tbody>\n",
              "</table>\n",
              "</div>\n",
              "      <button class=\"colab-df-convert\" onclick=\"convertToInteractive('df-06a1c51d-c8e1-4103-838e-a634ce287570')\"\n",
              "              title=\"Convert this dataframe to an interactive table.\"\n",
              "              style=\"display:none;\">\n",
              "        \n",
              "  <svg xmlns=\"http://www.w3.org/2000/svg\" height=\"24px\"viewBox=\"0 0 24 24\"\n",
              "       width=\"24px\">\n",
              "    <path d=\"M0 0h24v24H0V0z\" fill=\"none\"/>\n",
              "    <path d=\"M18.56 5.44l.94 2.06.94-2.06 2.06-.94-2.06-.94-.94-2.06-.94 2.06-2.06.94zm-11 1L8.5 8.5l.94-2.06 2.06-.94-2.06-.94L8.5 2.5l-.94 2.06-2.06.94zm10 10l.94 2.06.94-2.06 2.06-.94-2.06-.94-.94-2.06-.94 2.06-2.06.94z\"/><path d=\"M17.41 7.96l-1.37-1.37c-.4-.4-.92-.59-1.43-.59-.52 0-1.04.2-1.43.59L10.3 9.45l-7.72 7.72c-.78.78-.78 2.05 0 2.83L4 21.41c.39.39.9.59 1.41.59.51 0 1.02-.2 1.41-.59l7.78-7.78 2.81-2.81c.8-.78.8-2.07 0-2.86zM5.41 20L4 18.59l7.72-7.72 1.47 1.35L5.41 20z\"/>\n",
              "  </svg>\n",
              "      </button>\n",
              "      \n",
              "  <style>\n",
              "    .colab-df-container {\n",
              "      display:flex;\n",
              "      flex-wrap:wrap;\n",
              "      gap: 12px;\n",
              "    }\n",
              "\n",
              "    .colab-df-convert {\n",
              "      background-color: #E8F0FE;\n",
              "      border: none;\n",
              "      border-radius: 50%;\n",
              "      cursor: pointer;\n",
              "      display: none;\n",
              "      fill: #1967D2;\n",
              "      height: 32px;\n",
              "      padding: 0 0 0 0;\n",
              "      width: 32px;\n",
              "    }\n",
              "\n",
              "    .colab-df-convert:hover {\n",
              "      background-color: #E2EBFA;\n",
              "      box-shadow: 0px 1px 2px rgba(60, 64, 67, 0.3), 0px 1px 3px 1px rgba(60, 64, 67, 0.15);\n",
              "      fill: #174EA6;\n",
              "    }\n",
              "\n",
              "    [theme=dark] .colab-df-convert {\n",
              "      background-color: #3B4455;\n",
              "      fill: #D2E3FC;\n",
              "    }\n",
              "\n",
              "    [theme=dark] .colab-df-convert:hover {\n",
              "      background-color: #434B5C;\n",
              "      box-shadow: 0px 1px 3px 1px rgba(0, 0, 0, 0.15);\n",
              "      filter: drop-shadow(0px 1px 2px rgba(0, 0, 0, 0.3));\n",
              "      fill: #FFFFFF;\n",
              "    }\n",
              "  </style>\n",
              "\n",
              "      <script>\n",
              "        const buttonEl =\n",
              "          document.querySelector('#df-06a1c51d-c8e1-4103-838e-a634ce287570 button.colab-df-convert');\n",
              "        buttonEl.style.display =\n",
              "          google.colab.kernel.accessAllowed ? 'block' : 'none';\n",
              "\n",
              "        async function convertToInteractive(key) {\n",
              "          const element = document.querySelector('#df-06a1c51d-c8e1-4103-838e-a634ce287570');\n",
              "          const dataTable =\n",
              "            await google.colab.kernel.invokeFunction('convertToInteractive',\n",
              "                                                     [key], {});\n",
              "          if (!dataTable) return;\n",
              "\n",
              "          const docLinkHtml = 'Like what you see? Visit the ' +\n",
              "            '<a target=\"_blank\" href=https://colab.research.google.com/notebooks/data_table.ipynb>data table notebook</a>'\n",
              "            + ' to learn more about interactive tables.';\n",
              "          element.innerHTML = '';\n",
              "          dataTable['output_type'] = 'display_data';\n",
              "          await google.colab.output.renderOutput(dataTable, element);\n",
              "          const docLink = document.createElement('div');\n",
              "          docLink.innerHTML = docLinkHtml;\n",
              "          element.appendChild(docLink);\n",
              "        }\n",
              "      </script>\n",
              "    </div>\n",
              "  </div>\n",
              "  "
            ]
          },
          "metadata": {},
          "execution_count": 28
        }
      ]
    },
    {
      "cell_type": "code",
      "source": [
        "df1= df1[(df1.PATIENT_STATUS != 'Missing') & (df1.PATIENT_STATUS != 'Lost to follow-up')]"
      ],
      "metadata": {
        "id": "NwjHQOK3jdxB"
      },
      "execution_count": 29,
      "outputs": []
    },
    {
      "cell_type": "code",
      "source": [
        "temp1=df1.groupby('PATIENT_STATUS').count()\n",
        "\n",
        "temp1"
      ],
      "metadata": {
        "colab": {
          "base_uri": "https://localhost:8080/",
          "height": 311
        },
        "id": "zsLynSWdjeFc",
        "outputId": "71b0f705-e335-4c07-b45a-3414a684d9b8"
      },
      "execution_count": 30,
      "outputs": [
        {
          "output_type": "execute_result",
          "data": {
            "text/plain": [
              "                Site number  Patient number  Patient id in former eCRF  \\\n",
              "PATIENT_STATUS                                                           \n",
              "Alive                  2344            2344                       2344   \n",
              "Deceased               2016            2016                       2016   \n",
              "\n",
              "                Date of consent  Inclusion criteria  First name  Last name  \\\n",
              "PATIENT_STATUS                                                               \n",
              "Alive                        32                2344        2344       2344   \n",
              "Deceased                      4                2015        2016       2016   \n",
              "\n",
              "                Gender  Birth date  Patient code in the center  \\\n",
              "PATIENT_STATUS                                                   \n",
              "Alive             2343        1946                        2232   \n",
              "Deceased          2014        1629                        1838   \n",
              "\n",
              "                Date of referral in the center  Height  Weight  \\\n",
              "PATIENT_STATUS                                                   \n",
              "Alive                                     2072      43      43   \n",
              "Deceased                                  1439       5       5   \n",
              "\n",
              "                Date of creation of patient  \\\n",
              "PATIENT_STATUS                                \n",
              "Alive                                  2344   \n",
              "Deceased                               2016   \n",
              "\n",
              "                Did the patient have pre-colectomy therapy (radiotherapy excluded)  \\\n",
              "PATIENT_STATUS                                                                       \n",
              "Alive                                                        2229                    \n",
              "Deceased                                                     1836                    \n",
              "\n",
              "                Did the patient have pre-colectomy radiotherapy  \\\n",
              "PATIENT_STATUS                                                    \n",
              "Alive                                                      2048   \n",
              "Deceased                                                   1303   \n",
              "\n",
              "                Laparoscopic resection  Date of first colectomy  Tumor  Node  \\\n",
              "PATIENT_STATUS                                                                 \n",
              "Alive                             2199                     1747   2044  2247   \n",
              "Deceased                          1788                     1720   1680  1824   \n",
              "\n",
              "                Metastasis  Number of resected lymph nodes  \\\n",
              "PATIENT_STATUS                                               \n",
              "Alive                 2194                            2185   \n",
              "Deceased              1800                            1789   \n",
              "\n",
              "                Number of resected lymph nodes.1  \\\n",
              "PATIENT_STATUS                                     \n",
              "Alive                                       2183   \n",
              "Deceased                                    1788   \n",
              "\n",
              "                Number of metastatic lymph nodes  \\\n",
              "PATIENT_STATUS                                     \n",
              "Alive                                       2184   \n",
              "Deceased                                    1790   \n",
              "\n",
              "                Number of metastatic lymph nodes.1  EGFR amplification  \\\n",
              "PATIENT_STATUS                                                           \n",
              "Alive                                         2183                  36   \n",
              "Deceased                                      1789                   5   \n",
              "\n",
              "                Other mutation  Microsatellite  Diagnosis date  \\\n",
              "PATIENT_STATUS                                                   \n",
              "Alive                       36              39            1772   \n",
              "Deceased                     5               6            1455   \n",
              "\n",
              "                Synchronicity of colorectal cancer  \\\n",
              "PATIENT_STATUS                                       \n",
              "Alive                                         2224   \n",
              "Deceased                                      1834   \n",
              "\n",
              "                Number of hepatic metastases  Number of hepatic metastases.1  \\\n",
              "PATIENT_STATUS                                                                 \n",
              "Alive                                   2226                            2204   \n",
              "Deceased                                1837                            1772   \n",
              "\n",
              "                Hepatic metastases maximum size (mm)  \\\n",
              "PATIENT_STATUS                                         \n",
              "Alive                                           2219   \n",
              "Deceased                                        1831   \n",
              "\n",
              "                Hepatic metastases maximum size  Localization  KRAS mutation  \\\n",
              "PATIENT_STATUS                                                                 \n",
              "Alive                                      2166          2226             37   \n",
              "Deceased                                   1784          1834              5   \n",
              "\n",
              "                Microsatellite.1  CT scan abdominal  CT scan chest   MRI  \\\n",
              "PATIENT_STATUS                                                             \n",
              "Alive                         36               2194           2189  2178   \n",
              "Deceased                       6               1791           1789  1783   \n",
              "\n",
              "                Pet CT  Initial resectability  Specify.1  Main reason  \\\n",
              "PATIENT_STATUS                                                          \n",
              "Alive             2173                   2223         15          314   \n",
              "Deceased          1781                   1833         42          320   \n",
              "\n",
              "                ECOG PS at Metastatic diagnosis   CEA  \\\n",
              "PATIENT_STATUS                                          \n",
              "Alive                                        31  2185   \n",
              "Deceased                                      6  1791   \n",
              "\n",
              "                Does the patient have concomitant extra-hepatic metastases  \\\n",
              "PATIENT_STATUS                                                               \n",
              "Alive                                                        2062            \n",
              "Deceased                                                     1654            \n",
              "\n",
              "                Diagnosis date.1  CEA (car-old)  \n",
              "PATIENT_STATUS                                   \n",
              "Alive                         82           2158  \n",
              "Deceased                      59           1791  "
            ],
            "text/html": [
              "\n",
              "  <div id=\"df-680cddd1-b821-40c5-af96-74b3d3e40737\">\n",
              "    <div class=\"colab-df-container\">\n",
              "      <div>\n",
              "<style scoped>\n",
              "    .dataframe tbody tr th:only-of-type {\n",
              "        vertical-align: middle;\n",
              "    }\n",
              "\n",
              "    .dataframe tbody tr th {\n",
              "        vertical-align: top;\n",
              "    }\n",
              "\n",
              "    .dataframe thead th {\n",
              "        text-align: right;\n",
              "    }\n",
              "</style>\n",
              "<table border=\"1\" class=\"dataframe\">\n",
              "  <thead>\n",
              "    <tr style=\"text-align: right;\">\n",
              "      <th></th>\n",
              "      <th>Site number</th>\n",
              "      <th>Patient number</th>\n",
              "      <th>Patient id in former eCRF</th>\n",
              "      <th>Date of consent</th>\n",
              "      <th>Inclusion criteria</th>\n",
              "      <th>First name</th>\n",
              "      <th>Last name</th>\n",
              "      <th>Gender</th>\n",
              "      <th>Birth date</th>\n",
              "      <th>Patient code in the center</th>\n",
              "      <th>Date of referral in the center</th>\n",
              "      <th>Height</th>\n",
              "      <th>Weight</th>\n",
              "      <th>Date of creation of patient</th>\n",
              "      <th>Did the patient have pre-colectomy therapy (radiotherapy excluded)</th>\n",
              "      <th>Did the patient have pre-colectomy radiotherapy</th>\n",
              "      <th>Laparoscopic resection</th>\n",
              "      <th>Date of first colectomy</th>\n",
              "      <th>Tumor</th>\n",
              "      <th>Node</th>\n",
              "      <th>Metastasis</th>\n",
              "      <th>Number of resected lymph nodes</th>\n",
              "      <th>Number of resected lymph nodes.1</th>\n",
              "      <th>Number of metastatic lymph nodes</th>\n",
              "      <th>Number of metastatic lymph nodes.1</th>\n",
              "      <th>EGFR amplification</th>\n",
              "      <th>Other mutation</th>\n",
              "      <th>Microsatellite</th>\n",
              "      <th>Diagnosis date</th>\n",
              "      <th>Synchronicity of colorectal cancer</th>\n",
              "      <th>Number of hepatic metastases</th>\n",
              "      <th>Number of hepatic metastases.1</th>\n",
              "      <th>Hepatic metastases maximum size (mm)</th>\n",
              "      <th>Hepatic metastases maximum size</th>\n",
              "      <th>Localization</th>\n",
              "      <th>KRAS mutation</th>\n",
              "      <th>Microsatellite.1</th>\n",
              "      <th>CT scan abdominal</th>\n",
              "      <th>CT scan chest</th>\n",
              "      <th>MRI</th>\n",
              "      <th>Pet CT</th>\n",
              "      <th>Initial resectability</th>\n",
              "      <th>Specify.1</th>\n",
              "      <th>Main reason</th>\n",
              "      <th>ECOG PS at Metastatic diagnosis</th>\n",
              "      <th>CEA</th>\n",
              "      <th>Does the patient have concomitant extra-hepatic metastases</th>\n",
              "      <th>Diagnosis date.1</th>\n",
              "      <th>CEA (car-old)</th>\n",
              "    </tr>\n",
              "    <tr>\n",
              "      <th>PATIENT_STATUS</th>\n",
              "      <th></th>\n",
              "      <th></th>\n",
              "      <th></th>\n",
              "      <th></th>\n",
              "      <th></th>\n",
              "      <th></th>\n",
              "      <th></th>\n",
              "      <th></th>\n",
              "      <th></th>\n",
              "      <th></th>\n",
              "      <th></th>\n",
              "      <th></th>\n",
              "      <th></th>\n",
              "      <th></th>\n",
              "      <th></th>\n",
              "      <th></th>\n",
              "      <th></th>\n",
              "      <th></th>\n",
              "      <th></th>\n",
              "      <th></th>\n",
              "      <th></th>\n",
              "      <th></th>\n",
              "      <th></th>\n",
              "      <th></th>\n",
              "      <th></th>\n",
              "      <th></th>\n",
              "      <th></th>\n",
              "      <th></th>\n",
              "      <th></th>\n",
              "      <th></th>\n",
              "      <th></th>\n",
              "      <th></th>\n",
              "      <th></th>\n",
              "      <th></th>\n",
              "      <th></th>\n",
              "      <th></th>\n",
              "      <th></th>\n",
              "      <th></th>\n",
              "      <th></th>\n",
              "      <th></th>\n",
              "      <th></th>\n",
              "      <th></th>\n",
              "      <th></th>\n",
              "      <th></th>\n",
              "      <th></th>\n",
              "      <th></th>\n",
              "      <th></th>\n",
              "      <th></th>\n",
              "      <th></th>\n",
              "    </tr>\n",
              "  </thead>\n",
              "  <tbody>\n",
              "    <tr>\n",
              "      <th>Alive</th>\n",
              "      <td>2344</td>\n",
              "      <td>2344</td>\n",
              "      <td>2344</td>\n",
              "      <td>32</td>\n",
              "      <td>2344</td>\n",
              "      <td>2344</td>\n",
              "      <td>2344</td>\n",
              "      <td>2343</td>\n",
              "      <td>1946</td>\n",
              "      <td>2232</td>\n",
              "      <td>2072</td>\n",
              "      <td>43</td>\n",
              "      <td>43</td>\n",
              "      <td>2344</td>\n",
              "      <td>2229</td>\n",
              "      <td>2048</td>\n",
              "      <td>2199</td>\n",
              "      <td>1747</td>\n",
              "      <td>2044</td>\n",
              "      <td>2247</td>\n",
              "      <td>2194</td>\n",
              "      <td>2185</td>\n",
              "      <td>2183</td>\n",
              "      <td>2184</td>\n",
              "      <td>2183</td>\n",
              "      <td>36</td>\n",
              "      <td>36</td>\n",
              "      <td>39</td>\n",
              "      <td>1772</td>\n",
              "      <td>2224</td>\n",
              "      <td>2226</td>\n",
              "      <td>2204</td>\n",
              "      <td>2219</td>\n",
              "      <td>2166</td>\n",
              "      <td>2226</td>\n",
              "      <td>37</td>\n",
              "      <td>36</td>\n",
              "      <td>2194</td>\n",
              "      <td>2189</td>\n",
              "      <td>2178</td>\n",
              "      <td>2173</td>\n",
              "      <td>2223</td>\n",
              "      <td>15</td>\n",
              "      <td>314</td>\n",
              "      <td>31</td>\n",
              "      <td>2185</td>\n",
              "      <td>2062</td>\n",
              "      <td>82</td>\n",
              "      <td>2158</td>\n",
              "    </tr>\n",
              "    <tr>\n",
              "      <th>Deceased</th>\n",
              "      <td>2016</td>\n",
              "      <td>2016</td>\n",
              "      <td>2016</td>\n",
              "      <td>4</td>\n",
              "      <td>2015</td>\n",
              "      <td>2016</td>\n",
              "      <td>2016</td>\n",
              "      <td>2014</td>\n",
              "      <td>1629</td>\n",
              "      <td>1838</td>\n",
              "      <td>1439</td>\n",
              "      <td>5</td>\n",
              "      <td>5</td>\n",
              "      <td>2016</td>\n",
              "      <td>1836</td>\n",
              "      <td>1303</td>\n",
              "      <td>1788</td>\n",
              "      <td>1720</td>\n",
              "      <td>1680</td>\n",
              "      <td>1824</td>\n",
              "      <td>1800</td>\n",
              "      <td>1789</td>\n",
              "      <td>1788</td>\n",
              "      <td>1790</td>\n",
              "      <td>1789</td>\n",
              "      <td>5</td>\n",
              "      <td>5</td>\n",
              "      <td>6</td>\n",
              "      <td>1455</td>\n",
              "      <td>1834</td>\n",
              "      <td>1837</td>\n",
              "      <td>1772</td>\n",
              "      <td>1831</td>\n",
              "      <td>1784</td>\n",
              "      <td>1834</td>\n",
              "      <td>5</td>\n",
              "      <td>6</td>\n",
              "      <td>1791</td>\n",
              "      <td>1789</td>\n",
              "      <td>1783</td>\n",
              "      <td>1781</td>\n",
              "      <td>1833</td>\n",
              "      <td>42</td>\n",
              "      <td>320</td>\n",
              "      <td>6</td>\n",
              "      <td>1791</td>\n",
              "      <td>1654</td>\n",
              "      <td>59</td>\n",
              "      <td>1791</td>\n",
              "    </tr>\n",
              "  </tbody>\n",
              "</table>\n",
              "</div>\n",
              "      <button class=\"colab-df-convert\" onclick=\"convertToInteractive('df-680cddd1-b821-40c5-af96-74b3d3e40737')\"\n",
              "              title=\"Convert this dataframe to an interactive table.\"\n",
              "              style=\"display:none;\">\n",
              "        \n",
              "  <svg xmlns=\"http://www.w3.org/2000/svg\" height=\"24px\"viewBox=\"0 0 24 24\"\n",
              "       width=\"24px\">\n",
              "    <path d=\"M0 0h24v24H0V0z\" fill=\"none\"/>\n",
              "    <path d=\"M18.56 5.44l.94 2.06.94-2.06 2.06-.94-2.06-.94-.94-2.06-.94 2.06-2.06.94zm-11 1L8.5 8.5l.94-2.06 2.06-.94-2.06-.94L8.5 2.5l-.94 2.06-2.06.94zm10 10l.94 2.06.94-2.06 2.06-.94-2.06-.94-.94-2.06-.94 2.06-2.06.94z\"/><path d=\"M17.41 7.96l-1.37-1.37c-.4-.4-.92-.59-1.43-.59-.52 0-1.04.2-1.43.59L10.3 9.45l-7.72 7.72c-.78.78-.78 2.05 0 2.83L4 21.41c.39.39.9.59 1.41.59.51 0 1.02-.2 1.41-.59l7.78-7.78 2.81-2.81c.8-.78.8-2.07 0-2.86zM5.41 20L4 18.59l7.72-7.72 1.47 1.35L5.41 20z\"/>\n",
              "  </svg>\n",
              "      </button>\n",
              "      \n",
              "  <style>\n",
              "    .colab-df-container {\n",
              "      display:flex;\n",
              "      flex-wrap:wrap;\n",
              "      gap: 12px;\n",
              "    }\n",
              "\n",
              "    .colab-df-convert {\n",
              "      background-color: #E8F0FE;\n",
              "      border: none;\n",
              "      border-radius: 50%;\n",
              "      cursor: pointer;\n",
              "      display: none;\n",
              "      fill: #1967D2;\n",
              "      height: 32px;\n",
              "      padding: 0 0 0 0;\n",
              "      width: 32px;\n",
              "    }\n",
              "\n",
              "    .colab-df-convert:hover {\n",
              "      background-color: #E2EBFA;\n",
              "      box-shadow: 0px 1px 2px rgba(60, 64, 67, 0.3), 0px 1px 3px 1px rgba(60, 64, 67, 0.15);\n",
              "      fill: #174EA6;\n",
              "    }\n",
              "\n",
              "    [theme=dark] .colab-df-convert {\n",
              "      background-color: #3B4455;\n",
              "      fill: #D2E3FC;\n",
              "    }\n",
              "\n",
              "    [theme=dark] .colab-df-convert:hover {\n",
              "      background-color: #434B5C;\n",
              "      box-shadow: 0px 1px 3px 1px rgba(0, 0, 0, 0.15);\n",
              "      filter: drop-shadow(0px 1px 2px rgba(0, 0, 0, 0.3));\n",
              "      fill: #FFFFFF;\n",
              "    }\n",
              "  </style>\n",
              "\n",
              "      <script>\n",
              "        const buttonEl =\n",
              "          document.querySelector('#df-680cddd1-b821-40c5-af96-74b3d3e40737 button.colab-df-convert');\n",
              "        buttonEl.style.display =\n",
              "          google.colab.kernel.accessAllowed ? 'block' : 'none';\n",
              "\n",
              "        async function convertToInteractive(key) {\n",
              "          const element = document.querySelector('#df-680cddd1-b821-40c5-af96-74b3d3e40737');\n",
              "          const dataTable =\n",
              "            await google.colab.kernel.invokeFunction('convertToInteractive',\n",
              "                                                     [key], {});\n",
              "          if (!dataTable) return;\n",
              "\n",
              "          const docLinkHtml = 'Like what you see? Visit the ' +\n",
              "            '<a target=\"_blank\" href=https://colab.research.google.com/notebooks/data_table.ipynb>data table notebook</a>'\n",
              "            + ' to learn more about interactive tables.';\n",
              "          element.innerHTML = '';\n",
              "          dataTable['output_type'] = 'display_data';\n",
              "          await google.colab.output.renderOutput(dataTable, element);\n",
              "          const docLink = document.createElement('div');\n",
              "          docLink.innerHTML = docLinkHtml;\n",
              "          element.appendChild(docLink);\n",
              "        }\n",
              "      </script>\n",
              "    </div>\n",
              "  </div>\n",
              "  "
            ]
          },
          "metadata": {},
          "execution_count": 30
        }
      ]
    },
    {
      "cell_type": "code",
      "source": [
        "df1[cat_cols].isnull().sum().sum()\n"
      ],
      "metadata": {
        "colab": {
          "base_uri": "https://localhost:8080/"
        },
        "id": "wX7r1CH2fY1q",
        "outputId": "3e280050-a735-40a2-920c-2a80ae656e7e"
      },
      "execution_count": 31,
      "outputs": [
        {
          "output_type": "execute_result",
          "data": {
            "text/plain": [
              "52684"
            ]
          },
          "metadata": {},
          "execution_count": 31
        }
      ]
    },
    {
      "cell_type": "code",
      "source": [
        "# finding and replacing Missing value with there Mode value in Categorical features columns\n",
        "\n",
        "\n",
        "cols = df1[cat_cols].columns\n",
        "\n",
        "df1[cols]=df1[cols].fillna(df1.mode().iloc[0])"
      ],
      "metadata": {
        "id": "lwhW_Ul8H9DK"
      },
      "execution_count": 32,
      "outputs": []
    },
    {
      "cell_type": "code",
      "source": [
        "\n",
        "df1[cat_cols].isnull().sum().sum()"
      ],
      "metadata": {
        "colab": {
          "base_uri": "https://localhost:8080/"
        },
        "id": "GSQ-ALezH9VD",
        "outputId": "45791a4f-7cec-449f-db67-16e4c160633b"
      },
      "execution_count": 33,
      "outputs": [
        {
          "output_type": "execute_result",
          "data": {
            "text/plain": [
              "0"
            ]
          },
          "metadata": {},
          "execution_count": 33
        }
      ]
    },
    {
      "cell_type": "code",
      "source": [
        "df1= df1.drop(['Date of consent','Patient number','Patient id in former eCRF','First name', 'Last name','Patient code in the center',\n",
        " 'Birth date',\n",
        " 'Date of referral in the center',\n",
        " 'Date of creation of patient',\n",
        " 'Date of first colectomy',\n",
        " 'Diagnosis date',\n",
        " 'Diagnosis date.1'],axis=1)\n",
        "\n",
        "df1.head(2)"
      ],
      "metadata": {
        "colab": {
          "base_uri": "https://localhost:8080/",
          "height": 315
        },
        "id": "NYIqE9-9j-0g",
        "outputId": "75ce0718-e46b-469a-cfd6-b516093c257b"
      },
      "execution_count": 34,
      "outputs": [
        {
          "output_type": "execute_result",
          "data": {
            "text/plain": [
              "   Site number Inclusion criteria  Gender  Height  Weight  \\\n",
              "0           95                Yes    Male     1.7    70.0   \n",
              "1           95                Yes  Female     1.7    70.0   \n",
              "\n",
              "  Did the patient have pre-colectomy therapy (radiotherapy excluded)  \\\n",
              "0                                                 No                   \n",
              "1                                                 No                   \n",
              "\n",
              "  Did the patient have pre-colectomy radiotherapy Laparoscopic resection  \\\n",
              "0                                              No                     No   \n",
              "1                                              No                     No   \n",
              "\n",
              "  Tumor Node Metastasis Number of resected lymph nodes  \\\n",
              "0    T3   N0         M0                             ND   \n",
              "1    T3   N1         M1                             ND   \n",
              "\n",
              "  Number of resected lymph nodes.1 Number of metastatic lymph nodes  \\\n",
              "0                               ND                                0   \n",
              "1                               ND                               ND   \n",
              "\n",
              "  Number of metastatic lymph nodes.1 EGFR amplification Other mutation  \\\n",
              "0                                  0            Unknown        Unknown   \n",
              "1                                 ND            Unknown        Unknown   \n",
              "\n",
              "  Microsatellite Synchronicity of colorectal cancer  \\\n",
              "0        Unknown                                 No   \n",
              "1        Unknown                                Yes   \n",
              "\n",
              "  Number of hepatic metastases Number of hepatic metastases.1  \\\n",
              "0                            1                              1   \n",
              "1                            1                              1   \n",
              "\n",
              "  Hepatic metastases maximum size (mm) Hepatic metastases maximum size  \\\n",
              "0                                   56                              56   \n",
              "1                                   30                              30   \n",
              "\n",
              "  Localization KRAS mutation Microsatellite.1 CT scan abdominal CT scan chest  \\\n",
              "0   Unilateral       Unknown          Unknown               Yes           Yes   \n",
              "1   Unilateral       Unknown          Unknown               Yes           Yes   \n",
              "\n",
              "   MRI Pet CT Initial resectability Specify.1           Main reason  \\\n",
              "0   No     No                   Yes  HIGH CEA  Number of metastasis   \n",
              "1  Yes     No                   Yes  HIGH CEA  Number of metastasis   \n",
              "\n",
              "  ECOG PS at Metastatic diagnosis   CEA  \\\n",
              "0                               0  87.9   \n",
              "1                               0    ND   \n",
              "\n",
              "  Does the patient have concomitant extra-hepatic metastases CEA (car-old)  \\\n",
              "0                                                 No                  87.9   \n",
              "1                                                 No                    ND   \n",
              "\n",
              "  PATIENT_STATUS  \n",
              "0       Deceased  \n",
              "1       Deceased  "
            ],
            "text/html": [
              "\n",
              "  <div id=\"df-d20bbb62-fe73-4cfc-8372-70878e94398d\">\n",
              "    <div class=\"colab-df-container\">\n",
              "      <div>\n",
              "<style scoped>\n",
              "    .dataframe tbody tr th:only-of-type {\n",
              "        vertical-align: middle;\n",
              "    }\n",
              "\n",
              "    .dataframe tbody tr th {\n",
              "        vertical-align: top;\n",
              "    }\n",
              "\n",
              "    .dataframe thead th {\n",
              "        text-align: right;\n",
              "    }\n",
              "</style>\n",
              "<table border=\"1\" class=\"dataframe\">\n",
              "  <thead>\n",
              "    <tr style=\"text-align: right;\">\n",
              "      <th></th>\n",
              "      <th>Site number</th>\n",
              "      <th>Inclusion criteria</th>\n",
              "      <th>Gender</th>\n",
              "      <th>Height</th>\n",
              "      <th>Weight</th>\n",
              "      <th>Did the patient have pre-colectomy therapy (radiotherapy excluded)</th>\n",
              "      <th>Did the patient have pre-colectomy radiotherapy</th>\n",
              "      <th>Laparoscopic resection</th>\n",
              "      <th>Tumor</th>\n",
              "      <th>Node</th>\n",
              "      <th>Metastasis</th>\n",
              "      <th>Number of resected lymph nodes</th>\n",
              "      <th>Number of resected lymph nodes.1</th>\n",
              "      <th>Number of metastatic lymph nodes</th>\n",
              "      <th>Number of metastatic lymph nodes.1</th>\n",
              "      <th>EGFR amplification</th>\n",
              "      <th>Other mutation</th>\n",
              "      <th>Microsatellite</th>\n",
              "      <th>Synchronicity of colorectal cancer</th>\n",
              "      <th>Number of hepatic metastases</th>\n",
              "      <th>Number of hepatic metastases.1</th>\n",
              "      <th>Hepatic metastases maximum size (mm)</th>\n",
              "      <th>Hepatic metastases maximum size</th>\n",
              "      <th>Localization</th>\n",
              "      <th>KRAS mutation</th>\n",
              "      <th>Microsatellite.1</th>\n",
              "      <th>CT scan abdominal</th>\n",
              "      <th>CT scan chest</th>\n",
              "      <th>MRI</th>\n",
              "      <th>Pet CT</th>\n",
              "      <th>Initial resectability</th>\n",
              "      <th>Specify.1</th>\n",
              "      <th>Main reason</th>\n",
              "      <th>ECOG PS at Metastatic diagnosis</th>\n",
              "      <th>CEA</th>\n",
              "      <th>Does the patient have concomitant extra-hepatic metastases</th>\n",
              "      <th>CEA (car-old)</th>\n",
              "      <th>PATIENT_STATUS</th>\n",
              "    </tr>\n",
              "  </thead>\n",
              "  <tbody>\n",
              "    <tr>\n",
              "      <th>0</th>\n",
              "      <td>95</td>\n",
              "      <td>Yes</td>\n",
              "      <td>Male</td>\n",
              "      <td>1.7</td>\n",
              "      <td>70.0</td>\n",
              "      <td>No</td>\n",
              "      <td>No</td>\n",
              "      <td>No</td>\n",
              "      <td>T3</td>\n",
              "      <td>N0</td>\n",
              "      <td>M0</td>\n",
              "      <td>ND</td>\n",
              "      <td>ND</td>\n",
              "      <td>0</td>\n",
              "      <td>0</td>\n",
              "      <td>Unknown</td>\n",
              "      <td>Unknown</td>\n",
              "      <td>Unknown</td>\n",
              "      <td>No</td>\n",
              "      <td>1</td>\n",
              "      <td>1</td>\n",
              "      <td>56</td>\n",
              "      <td>56</td>\n",
              "      <td>Unilateral</td>\n",
              "      <td>Unknown</td>\n",
              "      <td>Unknown</td>\n",
              "      <td>Yes</td>\n",
              "      <td>Yes</td>\n",
              "      <td>No</td>\n",
              "      <td>No</td>\n",
              "      <td>Yes</td>\n",
              "      <td>HIGH CEA</td>\n",
              "      <td>Number of metastasis</td>\n",
              "      <td>0</td>\n",
              "      <td>87.9</td>\n",
              "      <td>No</td>\n",
              "      <td>87.9</td>\n",
              "      <td>Deceased</td>\n",
              "    </tr>\n",
              "    <tr>\n",
              "      <th>1</th>\n",
              "      <td>95</td>\n",
              "      <td>Yes</td>\n",
              "      <td>Female</td>\n",
              "      <td>1.7</td>\n",
              "      <td>70.0</td>\n",
              "      <td>No</td>\n",
              "      <td>No</td>\n",
              "      <td>No</td>\n",
              "      <td>T3</td>\n",
              "      <td>N1</td>\n",
              "      <td>M1</td>\n",
              "      <td>ND</td>\n",
              "      <td>ND</td>\n",
              "      <td>ND</td>\n",
              "      <td>ND</td>\n",
              "      <td>Unknown</td>\n",
              "      <td>Unknown</td>\n",
              "      <td>Unknown</td>\n",
              "      <td>Yes</td>\n",
              "      <td>1</td>\n",
              "      <td>1</td>\n",
              "      <td>30</td>\n",
              "      <td>30</td>\n",
              "      <td>Unilateral</td>\n",
              "      <td>Unknown</td>\n",
              "      <td>Unknown</td>\n",
              "      <td>Yes</td>\n",
              "      <td>Yes</td>\n",
              "      <td>Yes</td>\n",
              "      <td>No</td>\n",
              "      <td>Yes</td>\n",
              "      <td>HIGH CEA</td>\n",
              "      <td>Number of metastasis</td>\n",
              "      <td>0</td>\n",
              "      <td>ND</td>\n",
              "      <td>No</td>\n",
              "      <td>ND</td>\n",
              "      <td>Deceased</td>\n",
              "    </tr>\n",
              "  </tbody>\n",
              "</table>\n",
              "</div>\n",
              "      <button class=\"colab-df-convert\" onclick=\"convertToInteractive('df-d20bbb62-fe73-4cfc-8372-70878e94398d')\"\n",
              "              title=\"Convert this dataframe to an interactive table.\"\n",
              "              style=\"display:none;\">\n",
              "        \n",
              "  <svg xmlns=\"http://www.w3.org/2000/svg\" height=\"24px\"viewBox=\"0 0 24 24\"\n",
              "       width=\"24px\">\n",
              "    <path d=\"M0 0h24v24H0V0z\" fill=\"none\"/>\n",
              "    <path d=\"M18.56 5.44l.94 2.06.94-2.06 2.06-.94-2.06-.94-.94-2.06-.94 2.06-2.06.94zm-11 1L8.5 8.5l.94-2.06 2.06-.94-2.06-.94L8.5 2.5l-.94 2.06-2.06.94zm10 10l.94 2.06.94-2.06 2.06-.94-2.06-.94-.94-2.06-.94 2.06-2.06.94z\"/><path d=\"M17.41 7.96l-1.37-1.37c-.4-.4-.92-.59-1.43-.59-.52 0-1.04.2-1.43.59L10.3 9.45l-7.72 7.72c-.78.78-.78 2.05 0 2.83L4 21.41c.39.39.9.59 1.41.59.51 0 1.02-.2 1.41-.59l7.78-7.78 2.81-2.81c.8-.78.8-2.07 0-2.86zM5.41 20L4 18.59l7.72-7.72 1.47 1.35L5.41 20z\"/>\n",
              "  </svg>\n",
              "      </button>\n",
              "      \n",
              "  <style>\n",
              "    .colab-df-container {\n",
              "      display:flex;\n",
              "      flex-wrap:wrap;\n",
              "      gap: 12px;\n",
              "    }\n",
              "\n",
              "    .colab-df-convert {\n",
              "      background-color: #E8F0FE;\n",
              "      border: none;\n",
              "      border-radius: 50%;\n",
              "      cursor: pointer;\n",
              "      display: none;\n",
              "      fill: #1967D2;\n",
              "      height: 32px;\n",
              "      padding: 0 0 0 0;\n",
              "      width: 32px;\n",
              "    }\n",
              "\n",
              "    .colab-df-convert:hover {\n",
              "      background-color: #E2EBFA;\n",
              "      box-shadow: 0px 1px 2px rgba(60, 64, 67, 0.3), 0px 1px 3px 1px rgba(60, 64, 67, 0.15);\n",
              "      fill: #174EA6;\n",
              "    }\n",
              "\n",
              "    [theme=dark] .colab-df-convert {\n",
              "      background-color: #3B4455;\n",
              "      fill: #D2E3FC;\n",
              "    }\n",
              "\n",
              "    [theme=dark] .colab-df-convert:hover {\n",
              "      background-color: #434B5C;\n",
              "      box-shadow: 0px 1px 3px 1px rgba(0, 0, 0, 0.15);\n",
              "      filter: drop-shadow(0px 1px 2px rgba(0, 0, 0, 0.3));\n",
              "      fill: #FFFFFF;\n",
              "    }\n",
              "  </style>\n",
              "\n",
              "      <script>\n",
              "        const buttonEl =\n",
              "          document.querySelector('#df-d20bbb62-fe73-4cfc-8372-70878e94398d button.colab-df-convert');\n",
              "        buttonEl.style.display =\n",
              "          google.colab.kernel.accessAllowed ? 'block' : 'none';\n",
              "\n",
              "        async function convertToInteractive(key) {\n",
              "          const element = document.querySelector('#df-d20bbb62-fe73-4cfc-8372-70878e94398d');\n",
              "          const dataTable =\n",
              "            await google.colab.kernel.invokeFunction('convertToInteractive',\n",
              "                                                     [key], {});\n",
              "          if (!dataTable) return;\n",
              "\n",
              "          const docLinkHtml = 'Like what you see? Visit the ' +\n",
              "            '<a target=\"_blank\" href=https://colab.research.google.com/notebooks/data_table.ipynb>data table notebook</a>'\n",
              "            + ' to learn more about interactive tables.';\n",
              "          element.innerHTML = '';\n",
              "          dataTable['output_type'] = 'display_data';\n",
              "          await google.colab.output.renderOutput(dataTable, element);\n",
              "          const docLink = document.createElement('div');\n",
              "          docLink.innerHTML = docLinkHtml;\n",
              "          element.appendChild(docLink);\n",
              "        }\n",
              "      </script>\n",
              "    </div>\n",
              "  </div>\n",
              "  "
            ]
          },
          "metadata": {},
          "execution_count": 34
        }
      ]
    },
    {
      "cell_type": "code",
      "source": [
        "X= df1.drop('PATIENT_STATUS', axis=1).astype(str)\n",
        "\n",
        "X.sample(2)\n",
        "\n",
        "y= df1['PATIENT_STATUS'].astype(str)\n",
        "\n",
        "y.sample(2)\n",
        "\n",
        "\n",
        "X_train, X_test, y_train, y_test = train_test_split(X, y, test_size=0.25, random_state=34)\n",
        "# one-hot encode input variables\n",
        "onehot_encoder = OneHotEncoder(handle_unknown = 'ignore')\n",
        "onehot_encoder.fit(X_train)\n",
        "X_train = onehot_encoder.transform(X_train)\n",
        "X_test = onehot_encoder.transform(X_test)\n",
        "# ordinal encode target variable\n",
        "label_encoder = LabelEncoder()\n",
        "label_encoder.fit(y_train)\n",
        "y_train = label_encoder.transform(y_train)\n",
        "y_test = label_encoder.transform(y_test)\n",
        "# define the model\n",
        "model = LogisticRegression()\n",
        "# fit on the training set\n",
        "model.fit(X_train, y_train)\n",
        "# predict on test set\n",
        "yhat = model.predict(X_test)\n",
        "# evaluate predictions\n",
        "accuracy = accuracy_score(y_test, yhat)\n",
        "print('Accuracy: %.2f' % (accuracy*100))\n",
        "\n",
        "\n",
        "print(\"Confusion Matrix\")\n",
        "print(confusion_matrix(y_test, yhat))\n",
        "\n",
        "# View the classification report for test data and predictions\n",
        "print(\"Classification Report\")\n",
        "print(classification_report(y_test, yhat))\n"
      ],
      "metadata": {
        "colab": {
          "base_uri": "https://localhost:8080/"
        },
        "id": "COliS_xvvdRv",
        "outputId": "ae30a759-6745-458e-c04d-fbf53baae151"
      },
      "execution_count": 35,
      "outputs": [
        {
          "output_type": "stream",
          "name": "stdout",
          "text": [
            "Accuracy: 69.45\n",
            "Confusion Matrix\n",
            "[[435 126]\n",
            " [207 322]]\n",
            "Classification Report\n",
            "              precision    recall  f1-score   support\n",
            "\n",
            "           0       0.68      0.78      0.72       561\n",
            "           1       0.72      0.61      0.66       529\n",
            "\n",
            "    accuracy                           0.69      1090\n",
            "   macro avg       0.70      0.69      0.69      1090\n",
            "weighted avg       0.70      0.69      0.69      1090\n",
            "\n"
          ]
        },
        {
          "output_type": "stream",
          "name": "stderr",
          "text": [
            "/usr/local/lib/python3.7/dist-packages/sklearn/linear_model/_logistic.py:818: ConvergenceWarning: lbfgs failed to converge (status=1):\n",
            "STOP: TOTAL NO. of ITERATIONS REACHED LIMIT.\n",
            "\n",
            "Increase the number of iterations (max_iter) or scale the data as shown in:\n",
            "    https://scikit-learn.org/stable/modules/preprocessing.html\n",
            "Please also refer to the documentation for alternative solver options:\n",
            "    https://scikit-learn.org/stable/modules/linear_model.html#logistic-regression\n",
            "  extra_warning_msg=_LOGISTIC_SOLVER_CONVERGENCE_MSG,\n"
          ]
        }
      ]
    },
    {
      "cell_type": "code",
      "source": [
        "# View confusion matrix for test data and predictions\n",
        "print(\"Confusion Matrix\")\n",
        "print(confusion_matrix(y_test, yhat))\n",
        "\n",
        "cf_matrix=confusion_matrix(y_test, yhat)\n",
        "group_names = ['TP','FP','FN','TN']\n",
        "group_counts = [\"{0:0.0f}\".format(value) for value in cf_matrix.flatten()]\n",
        "group_percentages = [\"{0:.2%}\".format(value) for value in cf_matrix.flatten()/np.sum(cf_matrix)]\n",
        "labels = [f\"{v1}\\n{v2}\\n{v3}\" for v1, v2, v3 in zip(group_names,group_counts,group_percentages)]\n",
        "labels = np.asarray(labels).reshape(2,2)\n",
        "sns.heatmap(cf_matrix, annot=labels, fmt='', cmap='Blues')\n"
      ],
      "metadata": {
        "colab": {
          "base_uri": "https://localhost:8080/",
          "height": 338
        },
        "id": "T-ENJsga2aQD",
        "outputId": "1bfa5fda-f268-4e7e-ef39-da244dc587c2"
      },
      "execution_count": 36,
      "outputs": [
        {
          "output_type": "stream",
          "name": "stdout",
          "text": [
            "Confusion Matrix\n",
            "[[435 126]\n",
            " [207 322]]\n"
          ]
        },
        {
          "output_type": "execute_result",
          "data": {
            "text/plain": [
              "<matplotlib.axes._subplots.AxesSubplot at 0x7f83ee55f9d0>"
            ]
          },
          "metadata": {},
          "execution_count": 36
        },
        {
          "output_type": "display_data",
          "data": {
            "text/plain": [
              "<Figure size 432x288 with 2 Axes>"
            ],
            "image/png": "[encoded data removed]"
          },
          "metadata": {
            "needs_background": "light"
          }
        }
      ]
    },
    {
      "cell_type": "code",
      "source": [
        ""
      ],
      "metadata": {
        "id": "ovAnyRTYzSx2"
      },
      "execution_count": 36,
      "outputs": []
    },
    {
      "cell_type": "code",
      "source": [
        ""
      ],
      "metadata": {
        "id": "yE0k6HwGzTA1"
      },
      "execution_count": 36,
      "outputs": []
    },
    {
      "cell_type": "code",
      "source": [
        "from sklearn.tree import DecisionTreeClassifier\n",
        "model = DecisionTreeClassifier()\n",
        "# fit on the training set\n",
        "model.fit(X_train, y_train)\n",
        "# predict on test set\n",
        "yhat = model.predict(X_test)\n",
        "# evaluate predictions\n",
        "accuracy = accuracy_score(y_test, yhat)\n",
        "print('Decision Tree Classifier Model Accuracy: %.2f' % (accuracy*100))\n",
        "\n"
      ],
      "metadata": {
        "colab": {
          "base_uri": "https://localhost:8080/"
        },
        "id": "BVwqCmn5wdC2",
        "outputId": "ae835b1e-5158-4560-cde1-494426d7e427"
      },
      "execution_count": 37,
      "outputs": [
        {
          "output_type": "stream",
          "name": "stdout",
          "text": [
            "Decision Tree Classifier Model Accuracy: 64.77\n"
          ]
        }
      ]
    },
    {
      "cell_type": "code",
      "source": [
        "# View confusion matrix for test data and predictions\n",
        "print(\"Confusion Matrix\")\n",
        "print(confusion_matrix(y_test, yhat))\n",
        "\n",
        "cf_matrix=confusion_matrix(y_test, yhat)\n",
        "group_names = ['TP','FP','FN','TN']\n",
        "group_counts = [\"{0:0.0f}\".format(value) for value in cf_matrix.flatten()]\n",
        "group_percentages = [\"{0:.2%}\".format(value) for value in cf_matrix.flatten()/np.sum(cf_matrix)]\n",
        "labels = [f\"{v1}\\n{v2}\\n{v3}\" for v1, v2, v3 in zip(group_names,group_counts,group_percentages)]\n",
        "labels = np.asarray(labels).reshape(2,2)\n",
        "sns.heatmap(cf_matrix, annot=labels, fmt='', cmap='Blues')\n"
      ],
      "metadata": {
        "colab": {
          "base_uri": "https://localhost:8080/",
          "height": 338
        },
        "id": "yIbcgXKl81C-",
        "outputId": "442dec90-2a32-4db3-fb31-600c261c397c"
      },
      "execution_count": 38,
      "outputs": [
        {
          "output_type": "stream",
          "name": "stdout",
          "text": [
            "Confusion Matrix\n",
            "[[392 169]\n",
            " [215 314]]\n"
          ]
        },
        {
          "output_type": "execute_result",
          "data": {
            "text/plain": [
              "<matplotlib.axes._subplots.AxesSubplot at 0x7f83eaa16190>"
            ]
          },
          "metadata": {},
          "execution_count": 38
        },
        {
          "output_type": "display_data",
          "data": {
            "text/plain": [
              "<Figure size 432x288 with 2 Axes>"
            ],
            "image/png": "[encoded data removed]"
          },
          "metadata": {
            "needs_background": "light"
          }
        }
      ]
    },
    {
      "cell_type": "code",
      "source": [
        "\n",
        "# View the classification report for test data and predictions\n",
        "print(\"Classification Report\")\n",
        "print(classification_report(y_test, yhat))"
      ],
      "metadata": {
        "colab": {
          "base_uri": "https://localhost:8080/"
        },
        "id": "P9YJULV5Zd7P",
        "outputId": "d9d08955-69bc-46fc-8ac6-537d9d8f4808"
      },
      "execution_count": 39,
      "outputs": [
        {
          "output_type": "stream",
          "name": "stdout",
          "text": [
            "Classification Report\n",
            "              precision    recall  f1-score   support\n",
            "\n",
            "           0       0.65      0.70      0.67       561\n",
            "           1       0.65      0.59      0.62       529\n",
            "\n",
            "    accuracy                           0.65      1090\n",
            "   macro avg       0.65      0.65      0.65      1090\n",
            "weighted avg       0.65      0.65      0.65      1090\n",
            "\n"
          ]
        }
      ]
    },
    {
      "cell_type": "code",
      "source": [
        "from matplotlib import pyplot\n",
        "train_scores, test_scores = list(), list()\n",
        "# define the tree depths to evaluate\n",
        "values = [i for i in range(1, 21)]\n",
        "# evaluate a decision tree for each depth\n",
        "for i in values:\n",
        "\t# configure the model\n",
        "\tmodel = DecisionTreeClassifier(max_depth=i)\n",
        "\t# fit model on the training dataset\n",
        "\tmodel.fit(X_train, y_train)\n",
        "\t# evaluate on the train dataset\n",
        "\ttrain_yhat = model.predict(X_train)\n",
        "\ttrain_acc = accuracy_score(y_train, train_yhat)\n",
        "\ttrain_scores.append(train_acc)\n",
        "\t# evaluate on the test dataset\n",
        "\ttest_yhat = model.predict(X_test)\n",
        "\ttest_acc = accuracy_score(y_test, test_yhat)\n",
        "\ttest_scores.append(test_acc)\n",
        "\t# summarize progress\n",
        "\tprint('>%d, train: %.3f, test: %.3f' % (i, train_acc, test_acc))\n",
        "# plot of train and test scores vs tree depth\n",
        "pyplot.plot(values, train_scores, '-o', label='Train')\n",
        "pyplot.plot(values, test_scores, '-o', label='Test')\n",
        "pyplot.legend()\n",
        "pyplot.show()"
      ],
      "metadata": {
        "colab": {
          "base_uri": "https://localhost:8080/",
          "height": 630
        },
        "id": "-aPpraI-4d7_",
        "outputId": "c0ceee9f-4557-4cc7-a8d4-4b82e8dfd275"
      },
      "execution_count": 40,
      "outputs": [
        {
          "output_type": "stream",
          "name": "stdout",
          "text": [
            ">1, train: 0.631, test: 0.596\n",
            ">2, train: 0.651, test: 0.615\n",
            ">3, train: 0.659, test: 0.617\n",
            ">4, train: 0.663, test: 0.653\n",
            ">5, train: 0.695, test: 0.681\n",
            ">6, train: 0.717, test: 0.673\n",
            ">7, train: 0.732, test: 0.677\n",
            ">8, train: 0.757, test: 0.683\n",
            ">9, train: 0.772, test: 0.693\n",
            ">10, train: 0.786, test: 0.695\n",
            ">11, train: 0.799, test: 0.687\n",
            ">12, train: 0.809, test: 0.689\n",
            ">13, train: 0.821, test: 0.685\n",
            ">14, train: 0.832, test: 0.680\n",
            ">15, train: 0.846, test: 0.683\n",
            ">16, train: 0.860, test: 0.674\n",
            ">17, train: 0.875, test: 0.660\n",
            ">18, train: 0.892, test: 0.657\n",
            ">19, train: 0.901, test: 0.645\n",
            ">20, train: 0.912, test: 0.653\n"
          ]
        },
        {
          "output_type": "display_data",
          "data": {
            "text/plain": [
              "<Figure size 432x288 with 1 Axes>"
            ],
            "image/png": "[encoded data removed]"
          },
          "metadata": {
            "needs_background": "light"
          }
        }
      ]
    },
    {
      "cell_type": "code",
      "source": [
        "from sklearn.ensemble import RandomForestClassifier\n",
        "model = RandomForestClassifier()\n",
        "# fit on the training set\n",
        "model.fit(X_train, y_train)\n",
        "# predict on test set\n",
        "yhat = model.predict(X_test)\n",
        "# evaluate predictions\n",
        "accuracy = accuracy_score(y_test, yhat)\n",
        "print('RandomForest Classifier Model Accuracy: %.2f' % (accuracy*100))\n",
        "\n",
        "\n"
      ],
      "metadata": {
        "colab": {
          "base_uri": "https://localhost:8080/"
        },
        "id": "IO52haAuy8VO",
        "outputId": "d4f8fae3-e111-45b3-b1e8-7738f4ede528"
      },
      "execution_count": 41,
      "outputs": [
        {
          "output_type": "stream",
          "name": "stdout",
          "text": [
            "RandomForest Classifier Model Accuracy: 71.28\n"
          ]
        }
      ]
    },
    {
      "cell_type": "code",
      "source": [
        "# View confusion matrix for test data and predictions\n",
        "from sklearn.metrics import accuracy_score, confusion_matrix, classification_report\n",
        "#print(confusion_matrix(y_test, yhat))\n",
        "cf_matrix=confusion_matrix(y_test, yhat)\n",
        "group_names = ['TP','FP','FN','TN']\n",
        "group_counts = [\"{0:0.0f}\".format(value) for value in cf_matrix.flatten()]\n",
        "group_percentages = [\"{0:.2%}\".format(value) for value in cf_matrix.flatten()/np.sum(cf_matrix)]\n",
        "labels = [f\"{v1}\\n{v2}\\n{v3}\" for v1, v2, v3 in zip(group_names,group_counts,group_percentages)]\n",
        "labels = np.asarray(labels).reshape(2,2)\n",
        "print(\"Confusion Matrix\")\n",
        "\n",
        "sns.heatmap(cf_matrix, annot=labels, fmt='', cmap='Blues')\n"
      ],
      "metadata": {
        "colab": {
          "base_uri": "https://localhost:8080/",
          "height": 302
        },
        "id": "Q15Aq-67ZVgE",
        "outputId": "3da3aa3f-5dca-420c-9f7f-7335691c0f21"
      },
      "execution_count": 42,
      "outputs": [
        {
          "output_type": "stream",
          "name": "stdout",
          "text": [
            "Confusion Matrix\n"
          ]
        },
        {
          "output_type": "execute_result",
          "data": {
            "text/plain": [
              "<matplotlib.axes._subplots.AxesSubplot at 0x7f83ea5ebdd0>"
            ]
          },
          "metadata": {},
          "execution_count": 42
        },
        {
          "output_type": "display_data",
          "data": {
            "text/plain": [
              "<Figure size 432x288 with 2 Axes>"
            ],
            "image/png": "[encoded data removed]"
          },
          "metadata": {
            "needs_background": "light"
          }
        }
      ]
    },
    {
      "cell_type": "code",
      "source": [
        "# View the classification report for test data and predictions\n",
        "print(\"Classification Report\")\n",
        "print(classification_report(y_test, yhat))"
      ],
      "metadata": {
        "colab": {
          "base_uri": "https://localhost:8080/"
        },
        "id": "zhIC1yB5XYWo",
        "outputId": "d57c7354-529f-4f91-d519-3e4efdc31ff1"
      },
      "execution_count": 43,
      "outputs": [
        {
          "output_type": "stream",
          "name": "stdout",
          "text": [
            "Classification Report\n",
            "              precision    recall  f1-score   support\n",
            "\n",
            "           0       0.67      0.86      0.75       561\n",
            "           1       0.79      0.56      0.65       529\n",
            "\n",
            "    accuracy                           0.71      1090\n",
            "   macro avg       0.73      0.71      0.70      1090\n",
            "weighted avg       0.73      0.71      0.71      1090\n",
            "\n"
          ]
        }
      ]
    },
    {
      "cell_type": "code",
      "source": [
        ""
      ],
      "metadata": {
        "id": "dqZ2094Vb1gy"
      },
      "execution_count": 43,
      "outputs": []
    },
    {
      "cell_type": "code",
      "source": [
        "model = RandomForestClassifier(bootstrap=True, max_depth=100, min_samples_leaf=3,min_samples_split=10,n_estimators=100)\n",
        "\n",
        "\n",
        "model.fit(X_train, y_train)\n",
        "# predict on test set\n",
        "yhat = model.predict(X_test)\n",
        "# evaluate predictions\n",
        "accuracy = accuracy_score(y_test, yhat)\n",
        "print('RandomForest Classifier Model Accuracy: %.2f' % (accuracy*100))\n",
        "\n"
      ],
      "metadata": {
        "colab": {
          "base_uri": "https://localhost:8080/"
        },
        "id": "6p8P9VVeb4Wq",
        "outputId": "f31a8599-2c9f-4dd1-be51-1e898cfc59e6"
      },
      "execution_count": 44,
      "outputs": [
        {
          "output_type": "stream",
          "name": "stdout",
          "text": [
            "RandomForest Classifier Model Accuracy: 68.72\n"
          ]
        }
      ]
    },
    {
      "cell_type": "code",
      "source": [
        ""
      ],
      "metadata": {
        "id": "zDESvLLPb1nr"
      },
      "execution_count": 44,
      "outputs": []
    },
    {
      "cell_type": "code",
      "source": [
        ""
      ],
      "metadata": {
        "id": "PqB9RUSAb1sg"
      },
      "execution_count": 44,
      "outputs": []
    },
    {
      "cell_type": "code",
      "source": [
        "from sklearn.neighbors import KNeighborsClassifier\n",
        "model=KNeighborsClassifier()\n",
        "\n",
        "model.fit(X_train, y_train)\n",
        "# predict on test set\n",
        "yhat = model.predict(X_test)\n",
        "# evaluate predictions\n",
        "accuracy = accuracy_score(y_test, yhat)\n",
        "print('KNeighborsClassifier Model Accuracy: %.2f' % (accuracy*100))\n",
        "\n",
        "# View confusion matrix for test data and predictions\n",
        "print(\"Confusion Matrix\")\n",
        "print(confusion_matrix(y_test, yhat))\n",
        "\n",
        "# View the classification report for test data and predictions\n",
        "print(\"Classification Report\")\n",
        "print(classification_report(y_test, yhat))"
      ],
      "metadata": {
        "colab": {
          "base_uri": "https://localhost:8080/"
        },
        "id": "A_lSR7Z6zjFO",
        "outputId": "2aa80f75-b50c-4463-ec12-47f2043f2ae1"
      },
      "execution_count": 45,
      "outputs": [
        {
          "output_type": "stream",
          "name": "stdout",
          "text": [
            "KNeighborsClassifier Model Accuracy: 66.15\n",
            "Confusion Matrix\n",
            "[[404 157]\n",
            " [212 317]]\n",
            "Classification Report\n",
            "              precision    recall  f1-score   support\n",
            "\n",
            "           0       0.66      0.72      0.69       561\n",
            "           1       0.67      0.60      0.63       529\n",
            "\n",
            "    accuracy                           0.66      1090\n",
            "   macro avg       0.66      0.66      0.66      1090\n",
            "weighted avg       0.66      0.66      0.66      1090\n",
            "\n"
          ]
        }
      ]
    },
    {
      "cell_type": "code",
      "source": [
        "from sklearn.ensemble import AdaBoostClassifier\n",
        "model = AdaBoostClassifier()\n",
        "# fit on the training set\n",
        "model.fit(X_train, y_train)\n",
        "# predict on test set\n",
        "yhat = model.predict(X_test)\n",
        "# evaluate predictions\n",
        "accuracy = accuracy_score(y_test, yhat)\n",
        "print('AdaBoost Classifier Model Accuracy: %.2f' % (accuracy*100))\n",
        "\n",
        "print(\"Confusion Matrix\")\n",
        "print(confusion_matrix(y_test, yhat))\n",
        "CM=confusion_matrix(y_test, yhat)\n",
        "import seaborn as sns\n",
        "sns.heatmap(CM, annot=True)\n",
        "\n",
        "# View the classification report for test data and predictions\n",
        "print(\"Classification Report\")\n",
        "print(classification_report(y_test, yhat))\n"
      ],
      "metadata": {
        "colab": {
          "base_uri": "https://localhost:8080/",
          "height": 521
        },
        "id": "-N6qGuoqy8ZF",
        "outputId": "c3e7284c-bc8b-4b6f-b17d-cb07e4f218c7"
      },
      "execution_count": 46,
      "outputs": [
        {
          "output_type": "stream",
          "name": "stdout",
          "text": [
            "AdaBoost Classifier Model Accuracy: 68.17\n",
            "Confusion Matrix\n",
            "[[449 112]\n",
            " [235 294]]\n",
            "Classification Report\n",
            "              precision    recall  f1-score   support\n",
            "\n",
            "           0       0.66      0.80      0.72       561\n",
            "           1       0.72      0.56      0.63       529\n",
            "\n",
            "    accuracy                           0.68      1090\n",
            "   macro avg       0.69      0.68      0.68      1090\n",
            "weighted avg       0.69      0.68      0.68      1090\n",
            "\n"
          ]
        },
        {
          "output_type": "display_data",
          "data": {
            "text/plain": [
              "<Figure size 432x288 with 2 Axes>"
            ],
            "image/png": "[encoded data removed]"
          },
          "metadata": {
            "needs_background": "light"
          }
        }
      ]
    },
    {
      "cell_type": "code",
      "source": [
        "from sklearn.ensemble import GradientBoostingClassifier\n",
        "model=GradientBoostingClassifier()\n",
        "model.fit(X_train, y_train)\n",
        "# predict on test set\n",
        "yhat = model.predict(X_test)\n",
        "# evaluate predictions\n",
        "accuracy = accuracy_score(y_test, yhat)\n",
        "print('Gradient Boosting Classifier Model Accuracy: %.2f' % (accuracy*100))\n",
        "\n",
        "\n",
        "print(\"Confusion Matrix\")\n",
        "print(confusion_matrix(y_test, yhat))\n",
        "\n",
        "cf_matrix=confusion_matrix(y_test, yhat)\n",
        "group_names = ['TP','FP','FN','TN']\n",
        "group_counts = [\"{0:0.0f}\".format(value) for value in cf_matrix.flatten()]\n",
        "group_percentages = [\"{0:.2%}\".format(value) for value in cf_matrix.flatten()/np.sum(cf_matrix)]\n",
        "labels = [f\"{v1}\\n{v2}\\n{v3}\" for v1, v2, v3 in zip(group_names,group_counts,group_percentages)]\n",
        "labels = np.asarray(labels).reshape(2,2)\n",
        "sns.heatmap(cf_matrix, annot=labels, fmt='', cmap='Blues')\n",
        "\n",
        "# View the classification report for test data and predictions\n",
        "print(\"Classification Report\")\n",
        "print(classification_report(y_test, yhat))\n"
      ],
      "metadata": {
        "colab": {
          "base_uri": "https://localhost:8080/",
          "height": 522
        },
        "id": "INAqfOiQy8dO",
        "outputId": "d45c5173-b4b5-4d4d-bb28-6288a3d7dc09"
      },
      "execution_count": 47,
      "outputs": [
        {
          "output_type": "stream",
          "name": "stdout",
          "text": [
            "Gradient Boosting Classifier Model Accuracy: 72.94\n",
            "Confusion Matrix\n",
            "[[456 105]\n",
            " [190 339]]\n",
            "Classification Report\n",
            "              precision    recall  f1-score   support\n",
            "\n",
            "           0       0.71      0.81      0.76       561\n",
            "           1       0.76      0.64      0.70       529\n",
            "\n",
            "    accuracy                           0.73      1090\n",
            "   macro avg       0.73      0.73      0.73      1090\n",
            "weighted avg       0.73      0.73      0.73      1090\n",
            "\n"
          ]
        },
        {
          "output_type": "display_data",
          "data": {
            "text/plain": [
              "<Figure size 432x288 with 2 Axes>"
            ],
            "image/png": "[encoded data removed]"
          },
          "metadata": {
            "needs_background": "light"
          }
        }
      ]
    },
    {
      "cell_type": "code",
      "source": [
        "from sklearn.svm import SVC\n",
        "model=SVC()\n",
        "\n",
        "model.fit(X_train, y_train)\n",
        "# predict on test set\n",
        "yhat = model.predict(X_test)\n",
        "# evaluate predictions\n",
        "accuracy = accuracy_score(y_test, yhat)\n",
        "print(' Support Vector Machine Model Accuracy: %.2f' % (accuracy*100))\n",
        "\n",
        "\n",
        "print(\"Confusion Matrix\")\n",
        "CM=confusion_matrix(y_test, yhat)\n",
        "print(confusion_matrix(y_test, yhat))\n",
        "\n",
        "\n",
        "cf_matrix=confusion_matrix(y_test, yhat)\n",
        "\n",
        "group_names = ['TP','FP','FN','TN']\n",
        "group_counts = [\"{0:0.0f}\".format(value) for value in cf_matrix.flatten()]\n",
        "group_percentages = [\"{0:.2%}\".format(value) for value in cf_matrix.flatten()/np.sum(cf_matrix)]\n",
        "labels = [f\"{v1}\\n{v2}\\n{v3}\" for v1, v2, v3 in zip(group_names,group_counts,group_percentages)]\n",
        "labels = np.asarray(labels).reshape(2,2)\n",
        "sns.heatmap(cf_matrix, annot=labels, fmt='', cmap='Blues')\n",
        "\n",
        "# View the classification report for test data and predictions\n",
        "print(\"Classification Report\")\n",
        "print(classification_report(y_test, yhat))\n"
      ],
      "metadata": {
        "colab": {
          "base_uri": "https://localhost:8080/",
          "height": 521
        },
        "id": "eHQCz5mfzsF6",
        "outputId": "d3af12fb-965a-4f8b-e5b8-4dcc28958de3"
      },
      "execution_count": 48,
      "outputs": [
        {
          "output_type": "stream",
          "name": "stdout",
          "text": [
            " Support Vector Machine Model Accuracy: 73.21\n",
            "Confusion Matrix\n",
            "[[471  90]\n",
            " [202 327]]\n",
            "Classification Report\n",
            "              precision    recall  f1-score   support\n",
            "\n",
            "           0       0.70      0.84      0.76       561\n",
            "           1       0.78      0.62      0.69       529\n",
            "\n",
            "    accuracy                           0.73      1090\n",
            "   macro avg       0.74      0.73      0.73      1090\n",
            "weighted avg       0.74      0.73      0.73      1090\n",
            "\n"
          ]
        },
        {
          "output_type": "display_data",
          "data": {
            "text/plain": [
              "<Figure size 432x288 with 2 Axes>"
            ],
            "image/png": "[encoded data removed]"
          },
          "metadata": {
            "needs_background": "light"
          }
        }
      ]
    },
    {
      "cell_type": "code",
      "source": [
        "\n",
        "from xgboost import XGBClassifier\n",
        "# fit model no training data\n",
        "modelxgb = XGBClassifier()\n",
        "modelxgb.fit(X_train, y_train)\n",
        "# make predictions for test data\n",
        "y_pred = modelxgb.predict(X_test)\n",
        "predictions = [round(value) for value in y_pred]\n",
        "# evaluate predictions\n",
        "accuracy = accuracy_score(y_test, predictions)\n",
        "print(\"Accuracy: %.2f%%\" % (accuracy * 100.0))"
      ],
      "metadata": {
        "id": "JZ8SxQtXzsR8",
        "colab": {
          "base_uri": "https://localhost:8080/"
        },
        "outputId": "3da44307-bfd6-4a2b-d8a8-af06619eea62"
      },
      "execution_count": 49,
      "outputs": [
        {
          "output_type": "stream",
          "name": "stdout",
          "text": [
            "Accuracy: 72.48%\n"
          ]
        }
      ]
    },
    {
      "cell_type": "code",
      "source": [
        "# Part 2 - Now let's make the ANN!\n",
        "\n",
        "# Importing the Keras libraries and packages\n",
        "import tensorflow.keras\n",
        "from tensorflow.keras.models import Sequential\n",
        "from tensorflow.keras.layers import Dense\n",
        "from tensorflow.keras.layers import LeakyReLU,PReLU,ELU\n",
        "from tensorflow.keras.layers import Dropout"
      ],
      "metadata": {
        "id": "NeIzKdhXmg4t"
      },
      "execution_count": 50,
      "outputs": []
    },
    {
      "cell_type": "code",
      "source": [
        "\n",
        "NN_model = Sequential()\n",
        "\n",
        "# The Input Layer :\n",
        "NN_model.add(Dense(128, kernel_initializer='normal',input_dim = X_train.shape[1], activation='relu'))\n",
        "\n",
        "# The Hidden Layers :\n",
        "NN_model.add(Dense(256, kernel_initializer='normal',activation='relu'))\n",
        "NN_model.add(Dense(256, kernel_initializer='normal',activation='relu'))\n",
        "NN_model.add(Dense(256, kernel_initializer='normal',activation='relu'))\n",
        "\n",
        "# The Output Layer :\n",
        "NN_model.add(Dense(1, kernel_initializer='normal',activation='sigmoid'))\n",
        "\n",
        "# Compile the network :\n",
        "NN_model.compile(loss='binary_crossentropy', optimizer='rmsprop', metrics=['accuracy'])\n",
        "NN_model.summary()\n",
        "\n",
        "# Fitting the ANN to the Training set\n",
        "model_history=NN_model.fit(X_train, y_train,validation_data=(X_test,y_test), batch_size = 10, epochs = 20)"
      ],
      "metadata": {
        "colab": {
          "base_uri": "https://localhost:8080/"
        },
        "id": "rmD9vihanN9y",
        "outputId": "781e6257-8fa8-454f-e380-0fbc5d8986c7"
      },
      "execution_count": 51,
      "outputs": [
        {
          "output_type": "stream",
          "name": "stdout",
          "text": [
            "Model: \"sequential\"\n",
            "_________________________________________________________________\n",
            " Layer (type)                Output Shape              Param #   \n",
            "=================================================================\n",
            " dense (Dense)               (None, 128)               297472    \n",
            "                                                                 \n",
            " dense_1 (Dense)             (None, 256)               33024     \n",
            "                                                                 \n",
            " dense_2 (Dense)             (None, 256)               65792     \n",
            "                                                                 \n",
            " dense_3 (Dense)             (None, 256)               65792     \n",
            "                                                                 \n",
            " dense_4 (Dense)             (None, 1)                 257       \n",
            "                                                                 \n",
            "=================================================================\n",
            "Total params: 462,337\n",
            "Trainable params: 462,337\n",
            "Non-trainable params: 0\n",
            "_________________________________________________________________\n",
            "Epoch 1/20\n"
          ]
        },
        {
          "output_type": "stream",
          "name": "stderr",
          "text": [
            "/usr/local/lib/python3.7/dist-packages/tensorflow/python/framework/indexed_slices.py:446: UserWarning: Converting sparse IndexedSlices(IndexedSlices(indices=Tensor(\"gradient_tape/sequential/dense/embedding_lookup_sparse/Reshape_1:0\", shape=(None,), dtype=int32), values=Tensor(\"gradient_tape/sequential/dense/embedding_lookup_sparse/Reshape:0\", shape=(None, 128), dtype=float32), dense_shape=Tensor(\"gradient_tape/sequential/dense/embedding_lookup_sparse/Cast:0\", shape=(2,), dtype=int32))) to a dense Tensor of unknown shape. This may consume a large amount of memory.\n",
            "  \"shape. This may consume a large amount of memory.\" % value)\n"
          ]
        },
        {
          "output_type": "stream",
          "name": "stdout",
          "text": [
            "327/327 [==============================] - 4s 7ms/step - loss: 0.6300 - accuracy: 0.6437 - val_loss: 0.5901 - val_accuracy: 0.7128\n",
            "Epoch 2/20\n",
            "327/327 [==============================] - 2s 7ms/step - loss: 0.5849 - accuracy: 0.6954 - val_loss: 0.6083 - val_accuracy: 0.6908\n",
            "Epoch 3/20\n",
            "327/327 [==============================] - 2s 6ms/step - loss: 0.5405 - accuracy: 0.7343 - val_loss: 0.5827 - val_accuracy: 0.7248\n",
            "Epoch 4/20\n",
            "327/327 [==============================] - 2s 6ms/step - loss: 0.5013 - accuracy: 0.7645 - val_loss: 0.5910 - val_accuracy: 0.6982\n",
            "Epoch 5/20\n",
            "327/327 [==============================] - 2s 8ms/step - loss: 0.4535 - accuracy: 0.7939 - val_loss: 0.6319 - val_accuracy: 0.7183\n",
            "Epoch 6/20\n",
            "327/327 [==============================] - 2s 6ms/step - loss: 0.4085 - accuracy: 0.8312 - val_loss: 0.7919 - val_accuracy: 0.6761\n",
            "Epoch 7/20\n",
            "327/327 [==============================] - 2s 6ms/step - loss: 0.3721 - accuracy: 0.8398 - val_loss: 0.7396 - val_accuracy: 0.7009\n",
            "Epoch 8/20\n",
            "327/327 [==============================] - 2s 6ms/step - loss: 0.3283 - accuracy: 0.8639 - val_loss: 0.9590 - val_accuracy: 0.6972\n",
            "Epoch 9/20\n",
            "327/327 [==============================] - 2s 6ms/step - loss: 0.2907 - accuracy: 0.8826 - val_loss: 1.0230 - val_accuracy: 0.7064\n",
            "Epoch 10/20\n",
            "327/327 [==============================] - 2s 6ms/step - loss: 0.2705 - accuracy: 0.8890 - val_loss: 1.1997 - val_accuracy: 0.6908\n",
            "Epoch 11/20\n",
            "327/327 [==============================] - 2s 7ms/step - loss: 0.2399 - accuracy: 0.8994 - val_loss: 1.1851 - val_accuracy: 0.6633\n",
            "Epoch 12/20\n",
            "327/327 [==============================] - 2s 7ms/step - loss: 0.2153 - accuracy: 0.9122 - val_loss: 1.4304 - val_accuracy: 0.6661\n",
            "Epoch 13/20\n",
            "327/327 [==============================] - 2s 6ms/step - loss: 0.1970 - accuracy: 0.9190 - val_loss: 1.5760 - val_accuracy: 0.6394\n",
            "Epoch 14/20\n",
            "327/327 [==============================] - 2s 6ms/step - loss: 0.1949 - accuracy: 0.9217 - val_loss: 2.4988 - val_accuracy: 0.6789\n",
            "Epoch 15/20\n",
            "327/327 [==============================] - 2s 6ms/step - loss: 0.1794 - accuracy: 0.9284 - val_loss: 2.0728 - val_accuracy: 0.6743\n",
            "Epoch 16/20\n",
            "327/327 [==============================] - 2s 6ms/step - loss: 0.1641 - accuracy: 0.9327 - val_loss: 2.7939 - val_accuracy: 0.6826\n",
            "Epoch 17/20\n",
            "327/327 [==============================] - 2s 6ms/step - loss: 0.1639 - accuracy: 0.9361 - val_loss: 2.0306 - val_accuracy: 0.6312\n",
            "Epoch 18/20\n",
            "327/327 [==============================] - 2s 6ms/step - loss: 0.1489 - accuracy: 0.9416 - val_loss: 2.1179 - val_accuracy: 0.6945\n",
            "Epoch 19/20\n",
            "327/327 [==============================] - 2s 7ms/step - loss: 0.1405 - accuracy: 0.9416 - val_loss: 1.7366 - val_accuracy: 0.6688\n",
            "Epoch 20/20\n",
            "327/327 [==============================] - 2s 6ms/step - loss: 0.1292 - accuracy: 0.9489 - val_loss: 2.1414 - val_accuracy: 0.6248\n"
          ]
        }
      ]
    },
    {
      "cell_type": "code",
      "source": [
        "print(model_history.history.keys())\n",
        "# summarize history for accuracy\n",
        "plt.plot(model_history.history['accuracy'])\n",
        "plt.plot(model_history.history['val_accuracy'])\n",
        "plt.title('model accuracy')\n",
        "plt.ylabel('accuracy')\n",
        "plt.xlabel('epoch')\n",
        "plt.legend(['train', 'test'], loc='upper left')\n",
        "plt.show()\n",
        "# summarize history for loss\n",
        "plt.plot(model_history.history['loss'])\n",
        "plt.plot(model_history.history['val_loss'])\n",
        "plt.title('model loss')\n",
        "plt.ylabel('loss')\n",
        "plt.xlabel('epoch')\n",
        "plt.legend(['train', 'test'], loc='upper left')\n",
        "plt.show()"
      ],
      "metadata": {
        "colab": {
          "base_uri": "https://localhost:8080/",
          "height": 591
        },
        "id": "duK0uwd5nOFo",
        "outputId": "f2a09b13-ad32-426c-f1af-1ab4a8b113c9"
      },
      "execution_count": 52,
      "outputs": [
        {
          "output_type": "stream",
          "name": "stdout",
          "text": [
            "dict_keys(['loss', 'accuracy', 'val_loss', 'val_accuracy'])\n"
          ]
        },
        {
          "output_type": "display_data",
          "data": {
            "text/plain": [
              "<Figure size 432x288 with 1 Axes>"
            ],
            "image/png": "[encoded data removed]"
          },
          "metadata": {
            "needs_background": "light"
          }
        },
        {
          "output_type": "display_data",
          "data": {
            "text/plain": [
              "<Figure size 432x288 with 1 Axes>"
            ],
            "image/png": "[encoded data removed]"
          },
          "metadata": {
            "needs_background": "light"
          }
        }
      ]
    },
    {
      "cell_type": "code",
      "source": [
        ""
      ],
      "metadata": {
        "id": "oRQClqK_nOMQ"
      },
      "execution_count": 52,
      "outputs": []
    },
    {
      "cell_type": "code",
      "metadata": {
        "id": "k6UjLDLkEp1g",
        "colab": {
          "base_uri": "https://localhost:8080/",
          "height": 135
        },
        "outputId": "6a24f388-1068-45fe-e1d7-ac48a5120aa1"
      },
      "source": [
        "Stopping here"
      ],
      "execution_count": 53,
      "outputs": [
        {
          "output_type": "error",
          "ename": "SyntaxError",
          "evalue": "ignored",
          "traceback": [
            "\u001b[0;36m  File \u001b[0;32m\"<ipython-input-53-d436afa8863a>\"\u001b[0;36m, line \u001b[0;32m1\u001b[0m\n\u001b[0;31m    Stopping here\u001b[0m\n\u001b[0m                ^\u001b[0m\n\u001b[0;31mSyntaxError\u001b[0m\u001b[0;31m:\u001b[0m invalid syntax\n"
          ]
        }
      ]
    },
    {
      "cell_type": "code",
      "source": [
        "import missingno as msno\n",
        "\n",
        "da= pd.read_excel('/content/Data_Liver.xlsx')\n",
        "\n",
        "da.head()"
      ],
      "metadata": {
        "id": "Mp7DL30yEmVM"
      },
      "execution_count": null,
      "outputs": []
    },
    {
      "cell_type": "code",
      "source": [
        "# Checking for missing values.\n",
        "\n",
        "msno.bar(da)"
      ],
      "metadata": {
        "id": "qGVsku4vEmYi"
      },
      "execution_count": null,
      "outputs": []
    },
    {
      "cell_type": "code",
      "source": [
        "df1.head(2)"
      ],
      "metadata": {
        "id": "esnE3tLQEmdq"
      },
      "execution_count": null,
      "outputs": []
    },
    {
      "cell_type": "code",
      "source": [
        "from sklearn.preprocessing import LabelEncoder\n",
        "from sklearn import preprocessing\n",
        "label_encoder = LabelEncoder()\n",
        "mappings = []\n",
        "\n",
        "for i, col in enumerate(df1):\n",
        "    if df1[col].dtype == 'object':\n",
        "        df1[col] = label_encoder.fit_transform(np.array(df1[col].astype(str)).reshape((-1,)))\n",
        "        mappings.append(dict(zip(label_encoder.classes_, range(1, len(label_encoder.classes_)+1))))\n",
        "\n",
        "df1.head()"
      ],
      "metadata": {
        "id": "PHrK0TEFEmgx"
      },
      "execution_count": null,
      "outputs": []
    },
    {
      "cell_type": "code",
      "source": [
        "# Split into predictor and response dataframes.\n",
        "\n",
        "X_df = df1.drop('PATIENT_STATUS', axis=1)\n",
        "y = df1['PATIENT_STATUS']\n",
        "\n",
        "X_df.shape,y.shape"
      ],
      "metadata": {
        "id": "M6o-JDjSHNM9"
      },
      "execution_count": null,
      "outputs": []
    },
    {
      "cell_type": "code",
      "source": [
        "X_df.head(2)"
      ],
      "metadata": {
        "id": "Lm6NAMSPHNQk"
      },
      "execution_count": null,
      "outputs": []
    },
    {
      "cell_type": "code",
      "source": [
        "\n",
        "X_train, X_test, y_train, y_test = train_test_split(X_df, y, test_size = 0.2, random_state = 10)\n",
        "X_train.shape, X_test.shape, y_train.shape, y_test.shape\n",
        "\n",
        "\n",
        "\n",
        "\n",
        "\n"
      ],
      "metadata": {
        "id": "rIU8adgbKHoi"
      },
      "execution_count": null,
      "outputs": []
    },
    {
      "cell_type": "code",
      "source": [
        "# Create first pipeline for base without reducing features.\n",
        "\n",
        "from sklearn.pipeline import Pipeline\n",
        "from sklearn.linear_model import LogisticRegression\n",
        "from sklearn.ensemble import RandomForestClassifier\n",
        "from sklearn import metrics\n",
        "from sklearn.preprocessing import MinMaxScaler, StandardScaler, LabelEncoder\n",
        "from sklearn.feature_selection import SelectKBest\n",
        "from sklearn.pipeline import Pipeline\n",
        "from sklearn.model_selection import train_test_split, GridSearchCV, RandomizedSearchCV\n",
        "from imblearn.over_sampling import SMOTE\n",
        "\n",
        "pipe = Pipeline([('classifier' , RandomForestClassifier())])\n",
        "# pipe = Pipeline([('classifier', RandomForestClassifier())])\n",
        "\n",
        "# Create param grid.\n",
        "\n",
        "param_grid = [\n",
        "    {'classifier' : [LogisticRegression()],\n",
        "     'classifier__penalty' : ['l1', 'l2'],\n",
        "    'classifier__C' : np.logspace(-4, 4, 20),\n",
        "    'classifier__solver' : ['liblinear']},\n",
        "    {'classifier' : [RandomForestClassifier()],\n",
        "    'classifier__n_estimators' : list(range(10,101,10)),\n",
        "    'classifier__max_features' : list(range(6,32,5))}\n",
        "]\n",
        "\n",
        "# Create grid search object\n",
        "\n",
        "clf = GridSearchCV(pipe, param_grid = param_grid, cv = 5, verbose=True, n_jobs=-1)\n",
        "\n",
        "# Fit on data\n",
        "\n",
        "best_clf = clf.fit(X_train, y_train)"
      ],
      "metadata": {
        "id": "LomRBp3BKHr2"
      },
      "execution_count": null,
      "outputs": []
    },
    {
      "cell_type": "code",
      "source": [
        "best_clf.best_estimator_.get_params()['classifier']"
      ],
      "metadata": {
        "id": "y8aPb8L2KHv1"
      },
      "execution_count": null,
      "outputs": []
    },
    {
      "cell_type": "code",
      "source": [
        "print('Model accuracy is',best_clf.score(X_test, y_test))"
      ],
      "metadata": {
        "id": "U32MAPxgKH1x"
      },
      "execution_count": null,
      "outputs": []
    },
    {
      "cell_type": "code",
      "source": [
        "probs = best_clf.predict_proba(X_test)\n",
        "preds = probs[:,1]\n",
        "fpr, tpr, threshold = metrics.roc_curve(y_test, preds)\n",
        "roc_auc = metrics.auc(fpr, tpr)\n",
        "\n",
        "plt.figure()\n",
        "plt.plot(fpr, tpr, label='GridSearchCV (area = %0.2f)' % roc_auc)\n",
        "plt.plot([0, 1], [0, 1],'r--')\n",
        "plt.xlim([0.0, 1.0])\n",
        "plt.ylim([0.0, 1.05])\n",
        "plt.xlabel('False Positive Rate')\n",
        "plt.ylabel('True Positive Rate')\n",
        "plt.title('Receiver operating characteristic')\n",
        "plt.legend(loc=\"lower right\")\n",
        "plt.savefig('Log_ROC')\n",
        "plt.show()"
      ],
      "metadata": {
        "id": "ArH9a_d2w8_H"
      },
      "execution_count": null,
      "outputs": []
    },
    {
      "cell_type": "code",
      "source": [
        "roc_auc"
      ],
      "metadata": {
        "id": "HEdkXmT-w9CN"
      },
      "execution_count": null,
      "outputs": []
    },
    {
      "cell_type": "code",
      "source": [
        ""
      ],
      "metadata": {
        "id": "VCTB4Hcfw9GB"
      },
      "execution_count": null,
      "outputs": []
    },
    {
      "cell_type": "code",
      "source": [
        ""
      ],
      "metadata": {
        "id": "m0dF4YHmw9r_"
      },
      "execution_count": null,
      "outputs": []
    },
    {
      "cell_type": "code",
      "source": [
        ""
      ],
      "metadata": {
        "id": "c3ALc1GRw9vc"
      },
      "execution_count": null,
      "outputs": []
    },
    {
      "cell_type": "code",
      "source": [
        "\"\"\"\n",
        "importances = pd.DataFrame({\n",
        "    'Feature': X.columns,\n",
        "    'Importance': modelxgb.feature_importances_\n",
        "})\n",
        "importances = importances.sort_values(by='Importance', ascending=False)\n",
        "importances = importances.set_index('Feature')\n",
        "importances\n",
        "\"\"\""
      ],
      "metadata": {
        "id": "6XNp6IGBcSEC"
      },
      "execution_count": null,
      "outputs": []
    },
    {
      "cell_type": "code",
      "source": [
        "stoping here"
      ],
      "metadata": {
        "id": "U5boD1BlcSIH"
      },
      "execution_count": null,
      "outputs": []
    },
    {
      "cell_type": "code",
      "source": [
        "\n",
        "df1.head(2)"
      ],
      "metadata": {
        "id": "9skfleSFcodp"
      },
      "execution_count": null,
      "outputs": []
    },
    {
      "cell_type": "code",
      "source": [
        "cate_fea = [feature for feature in df1.columns if df1[feature].dtypes == 'O']"
      ],
      "metadata": {
        "id": "ToVLG-_87V1N"
      },
      "execution_count": null,
      "outputs": []
    },
    {
      "cell_type": "code",
      "source": [
        "len(cate_fea)"
      ],
      "metadata": {
        "id": "hcRQ2NDHai2H"
      },
      "execution_count": null,
      "outputs": []
    },
    {
      "cell_type": "code",
      "source": [
        "df3= df1.drop('PATIENT_STATUS', axis=1)"
      ],
      "metadata": {
        "id": "PqFTKdqigKw_"
      },
      "execution_count": null,
      "outputs": []
    },
    {
      "cell_type": "code",
      "source": [
        "cate_fea = [feature for feature in df3.columns if df3[feature].dtypes == 'O']\n",
        "len(cate_fea)"
      ],
      "metadata": {
        "id": "a0PvFcuygW1A"
      },
      "execution_count": null,
      "outputs": []
    },
    {
      "cell_type": "code",
      "source": [
        "df3[cate_fea].dtypes"
      ],
      "metadata": {
        "id": "g1wKj9jje8f-"
      },
      "execution_count": null,
      "outputs": []
    },
    {
      "cell_type": "code",
      "source": [
        "df3.isnull().sum().sum()"
      ],
      "metadata": {
        "id": "VDMyfI-Hj_Ok"
      },
      "execution_count": null,
      "outputs": []
    },
    {
      "cell_type": "code",
      "source": [
        "df3.isna().sum().sum()"
      ],
      "metadata": {
        "id": "1_7uZ4VakL-i"
      },
      "execution_count": null,
      "outputs": []
    },
    {
      "cell_type": "code",
      "source": [
        "from sklearn.preprocessing import LabelEncoder\n",
        "from sklearn import preprocessing\n",
        "\n",
        "leaenc = preprocessing.LabelEncoder()\n",
        "\n",
        "#for ele in cate_fea:\n",
        "  #X[ele]=leaenc.fit_transform(X[ele])\n",
        "    \n",
        "\n",
        "    "
      ],
      "metadata": {
        "id": "OLxcKf1HaNe9"
      },
      "execution_count": null,
      "outputs": []
    },
    {
      "cell_type": "code",
      "source": [
        "from sklearn.preprocessing import LabelEncoder\n",
        "\n",
        "def encoder(df3):\n",
        "    for col in df3.columns:\n",
        "      if df3.dtypes[col] == \"object\":\n",
        "        le = preprocessing.LabelEncoder()\n",
        "        le.fit(df3[col])\n",
        "        df3[col] = le.transform(df3[col])\n",
        "        #return df3"
      ],
      "metadata": {
        "id": "JWnue0vOaNid"
      },
      "execution_count": null,
      "outputs": []
    },
    {
      "cell_type": "code",
      "metadata": {
        "id": "V_GNAlID7xTF"
      },
      "source": [
        "encoder(df3)"
      ],
      "execution_count": null,
      "outputs": []
    },
    {
      "cell_type": "code",
      "metadata": {
        "id": "YQD_kvZy5LXV"
      },
      "source": [
        "#Label encoding"
      ],
      "execution_count": null,
      "outputs": []
    },
    {
      "cell_type": "code",
      "metadata": {
        "id": "5rqhwcS95Lat"
      },
      "source": [
        ""
      ],
      "execution_count": null,
      "outputs": []
    },
    {
      "cell_type": "code",
      "metadata": {
        "id": "VFXlF9Dv6e9v"
      },
      "source": [
        "X.columns"
      ],
      "execution_count": null,
      "outputs": []
    },
    {
      "cell_type": "code",
      "metadata": {
        "id": "q9on4_Wa5Lhq"
      },
      "source": [
        "X.dtypes"
      ],
      "execution_count": null,
      "outputs": []
    },
    {
      "cell_type": "code",
      "metadata": {
        "id": "nn9YO8uy5Lkr"
      },
      "source": [
        "X.shape"
      ],
      "execution_count": null,
      "outputs": []
    },
    {
      "cell_type": "code",
      "metadata": {
        "id": "iWvQTZVu5Ln_"
      },
      "source": [
        "y.head(2)"
      ],
      "execution_count": null,
      "outputs": []
    },
    {
      "cell_type": "code",
      "metadata": {
        "id": "qwrJ59bd7iIl"
      },
      "source": [
        "y.unique()"
      ],
      "execution_count": null,
      "outputs": []
    },
    {
      "cell_type": "code",
      "metadata": {
        "id": "CEvq-NBU7IJD"
      },
      "source": [
        "y.dtypes"
      ],
      "execution_count": null,
      "outputs": []
    },
    {
      "cell_type": "code",
      "metadata": {
        "id": "qkdz49yZ7MQr"
      },
      "source": [
        "\n",
        "df1['PATIENT_STATUS']=np.where(df1['PATIENT_STATUS']==\"Alive\",1,0)"
      ],
      "execution_count": null,
      "outputs": []
    },
    {
      "cell_type": "code",
      "metadata": {
        "id": "lCeLXrLI9Ukq"
      },
      "source": [
        "df1['PATIENT_STATUS'].head()"
      ],
      "execution_count": null,
      "outputs": []
    },
    {
      "cell_type": "code",
      "source": [
        "y=df1['PATIENT_STATUS']"
      ],
      "metadata": {
        "id": "vR-yL40L2uYt"
      },
      "execution_count": null,
      "outputs": []
    },
    {
      "cell_type": "code",
      "source": [
        "y.head()"
      ],
      "metadata": {
        "id": "vlmgxWTn261W"
      },
      "execution_count": null,
      "outputs": []
    },
    {
      "cell_type": "code",
      "metadata": {
        "id": "V5n8ZVGq9cC2"
      },
      "source": [
        "X.corr()"
      ],
      "execution_count": null,
      "outputs": []
    },
    {
      "cell_type": "code",
      "source": [
        "# split the dataset into train and test sets\n",
        "X_tr, X_te, y_tr, y_te = train_test_split(X, y, test_size=0.25, random_state=34)\n",
        "\n",
        "print(X_tr.shape)\n",
        "print(X_te.shape)\n",
        "print(y_tr.shape)\n",
        "\n",
        "print(y_te.shape)\n"
      ],
      "metadata": {
        "id": "PQB-MEPb1_PH"
      },
      "execution_count": null,
      "outputs": []
    },
    {
      "cell_type": "code",
      "source": [
        "y.head()"
      ],
      "metadata": {
        "id": "y_3yujw12VW4"
      },
      "execution_count": null,
      "outputs": []
    },
    {
      "cell_type": "markdown",
      "source": [
        "# **Feature selection by using Extra tree regressor**"
      ],
      "metadata": {
        "id": "JnPB9SlKeA22"
      }
    },
    {
      "cell_type": "code",
      "source": [
        "from sklearn.ensemble import ExtraTreesRegressor\n",
        "import matplotlib.pyplot as plt\n",
        "model = ExtraTreesRegressor()\n",
        "model.fit(X_tr, y_tr)"
      ],
      "metadata": {
        "id": "0LWp26Rbd-cT"
      },
      "execution_count": null,
      "outputs": []
    },
    {
      "cell_type": "code",
      "source": [
        "print(model.feature_importances_)"
      ],
      "metadata": {
        "id": "gf64W5VLd-gX"
      },
      "execution_count": null,
      "outputs": []
    },
    {
      "cell_type": "code",
      "source": [
        "feat_importances = pd.Series(model.feature_importances_, index=X.columns)\n",
        "feat_importances.nlargest(20).plot(kind='barh')\n",
        "plt.show()"
      ],
      "metadata": {
        "id": "SY129nKUd-kL"
      },
      "execution_count": null,
      "outputs": []
    },
    {
      "cell_type": "code",
      "source": [
        ""
      ],
      "metadata": {
        "id": "Jd_kfYAfeYP2"
      },
      "execution_count": null,
      "outputs": []
    },
    {
      "cell_type": "code",
      "source": [
        ""
      ],
      "metadata": {
        "id": "MZUld-2neYUj"
      },
      "execution_count": null,
      "outputs": []
    },
    {
      "cell_type": "code",
      "source": [
        "stop here"
      ],
      "metadata": {
        "id": "htRnc7FqeYYS"
      },
      "execution_count": null,
      "outputs": []
    },
    {
      "cell_type": "code",
      "metadata": {
        "id": "ec0ZQ84M9cQK"
      },
      "source": [
        "from sklearn.feature_selection import SelectFromModel\n",
        "from sklearn.linear_model import Lasso\n",
        "\n",
        "feature_sel_model = SelectFromModel(Lasso(alpha=0.005, random_state=0)) # remember to set the seed, the random state in this function\n",
        "feature_sel_model.fit(X_tr, y_tr)"
      ],
      "execution_count": null,
      "outputs": []
    },
    {
      "cell_type": "code",
      "metadata": {
        "id": "qut0jGbk9cdD"
      },
      "source": [
        "feature_sel_model.get_support()"
      ],
      "execution_count": null,
      "outputs": []
    },
    {
      "cell_type": "code",
      "metadata": {
        "id": "sSLVwEKI9cgW"
      },
      "source": [
        "# let's print the number of total and selected features\n",
        "\n",
        "# this is how we can make a list of the selected features\n",
        "selected_feat = X_tr.columns[(feature_sel_model.get_support())]\n",
        "\n",
        "# let's print some stats\n",
        "print('total features: {}'.format((X_tr.shape[1])))\n",
        "print('selected features: {}'.format(len(selected_feat)))\n",
        "#print('features with coefficients shrank to zero: {}'.format(np.sum(sel_.estimator_.coef_ == 0)))"
      ],
      "execution_count": null,
      "outputs": []
    },
    {
      "cell_type": "code",
      "metadata": {
        "id": "f4xjrCASEINc"
      },
      "source": [
        "\n",
        "selected_feat"
      ],
      "execution_count": null,
      "outputs": []
    },
    {
      "cell_type": "code",
      "metadata": {
        "id": "1JCzZ-8Y7A6Z"
      },
      "source": [
        ""
      ],
      "execution_count": null,
      "outputs": []
    },
    {
      "cell_type": "code",
      "metadata": {
        "id": "Fn2fy41f7A9w"
      },
      "source": [
        ""
      ],
      "execution_count": null,
      "outputs": []
    },
    {
      "cell_type": "code",
      "metadata": {
        "id": "DVCtizAS7BAz"
      },
      "source": [
        ""
      ],
      "execution_count": null,
      "outputs": []
    },
    {
      "cell_type": "code",
      "metadata": {
        "id": "gC1F-Q6yqycF"
      },
      "source": [
        "from sklearn.feature_selection import SelectKBest\n",
        "from sklearn.feature_selection import mutual_info_classif\n",
        "from matplotlib import pyplot\n",
        "\n",
        "fs = SelectKBest(score_func=mutual_info_classif, k='all')\n",
        "fs.fit(X_tr, y_tr)\n",
        "X_train_fs = fs.transform(X_tr)\n",
        "X_test_fs = fs.transform(X_te)"
      ],
      "execution_count": null,
      "outputs": []
    },
    {
      "cell_type": "code",
      "metadata": {
        "id": "2PNGSr0GqyeO"
      },
      "source": [
        "for i in range(len(fs.scores_)):\n",
        "\tprint('Feature %d: %f' % (i, fs.scores_[i]))\n",
        "# plot the scores\n",
        "pyplot.bar([i for i in range(len(fs.scores_))], fs.scores_)\n",
        "pyplot.show()"
      ],
      "execution_count": null,
      "outputs": []
    },
    {
      "cell_type": "code",
      "metadata": {
        "id": "wBvtX0IdE9Gp"
      },
      "source": [
        ""
      ],
      "execution_count": null,
      "outputs": []
    },
    {
      "cell_type": "code",
      "metadata": {
        "id": "24AzrC5oGgIV"
      },
      "source": [
        "from sklearn.linear_model import LogisticRegression\n",
        "from sklearn.preprocessing import LabelEncoder\n",
        "from sklearn.preprocessing import OrdinalEncoder\n",
        "from sklearn.metrics import accuracy_score\n",
        "\n",
        "from sklearn.preprocessing import OneHotEncoder\n"
      ],
      "execution_count": null,
      "outputs": []
    },
    {
      "cell_type": "code",
      "metadata": {
        "id": "c6RYRgqaGCjK"
      },
      "source": [
        "# split the dataset into train and test sets\n",
        "X_train, X_test, y_train, y_test = train_test_split(X, y, test_size=0.33, random_state=1)\n",
        "# one-hot encode input variables\n",
        "onehot_encoder = OneHotEncoder(handle_unknown='ignore')\n",
        "onehot_encoder.fit(X_train)\n",
        "X_train = onehot_encoder.transform(X_train)\n"
      ],
      "execution_count": null,
      "outputs": []
    },
    {
      "cell_type": "code",
      "metadata": {
        "id": "cA14fjSsGCmO"
      },
      "source": [
        "X_test = onehot_encoder.transform(X_test)\n"
      ],
      "execution_count": null,
      "outputs": []
    },
    {
      "cell_type": "code",
      "metadata": {
        "id": "YjroE_OEN2g6"
      },
      "source": [
        "# ordinal encode target variable\n",
        "label_encoder = LabelEncoder()\n",
        "label_encoder.fit(y_train)\n",
        "y_train = label_encoder.transform(y_train)\n",
        "y_test = label_encoder.transform(y_test)\n",
        "# define the model\n",
        "model = LogisticRegression()\n",
        "# fit on the training set\n",
        "model.fit(X_train, y_train)\n",
        "# predict on test set\n",
        "yhat = model.predict(X_test)\n",
        "# evaluate predictions\n",
        "accuracy = accuracy_score(y_test, yhat)\n",
        "print('Accuracy: %.2f' % (accuracy*100))"
      ],
      "execution_count": null,
      "outputs": []
    },
    {
      "cell_type": "code",
      "metadata": {
        "id": "aAE6WNGO2uDv"
      },
      "source": [
        ""
      ],
      "execution_count": null,
      "outputs": []
    },
    {
      "cell_type": "code",
      "metadata": {
        "id": "TP-3uycq2uTj"
      },
      "source": [
        "X_train.shape"
      ],
      "execution_count": null,
      "outputs": []
    },
    {
      "cell_type": "code",
      "metadata": {
        "id": "7_dbzwju27nV"
      },
      "source": [
        "X_train.data"
      ],
      "execution_count": null,
      "outputs": []
    },
    {
      "cell_type": "code",
      "metadata": {
        "id": "EBvFD_v1271z"
      },
      "source": [
        "X.head()"
      ],
      "execution_count": null,
      "outputs": []
    },
    {
      "cell_type": "code",
      "metadata": {
        "id": "yRej9BvZ3mum"
      },
      "source": [
        "X.dtypes"
      ],
      "execution_count": null,
      "outputs": []
    },
    {
      "cell_type": "code",
      "metadata": {
        "id": "ifRx1vjt3nHH"
      },
      "source": [
        "cols= X.columns\n",
        "cols"
      ],
      "execution_count": null,
      "outputs": []
    },
    {
      "cell_type": "code",
      "metadata": {
        "id": "9CcyrGxIA8PU"
      },
      "source": [
        "from sklearn.ensemble import ExtraTreesClassifier\n",
        "\n",
        "#array = df1.values\n",
        "#X = array[:,0:36]\n",
        "#Y = array[:,36]\n",
        "# feature extraction\n",
        "model = ExtraTreesClassifier(n_estimators=10)\n",
        "model.fit(X, y)\n",
        "print(model.feature_importances_)"
      ],
      "execution_count": null,
      "outputs": []
    },
    {
      "cell_type": "code",
      "metadata": {
        "id": "rCfC8Zu6_1wW"
      },
      "source": [
        "from numpy import cov\n",
        "# calculate covariance matrix\n",
        "covariance = cov(X,y)\n",
        "print(covariance)"
      ],
      "execution_count": null,
      "outputs": []
    },
    {
      "cell_type": "code",
      "metadata": {
        "id": "vKYkwvyAvHnz"
      },
      "source": [
        "\n",
        "from numpy import mean\n",
        "from numpy import std\n",
        "from pandas import read_csv\n",
        "from sklearn.model_selection import train_test_split\n",
        "from sklearn.linear_model import LogisticRegression\n",
        "from sklearn.preprocessing import LabelEncoder\n",
        "from sklearn.preprocessing import OrdinalEncoder\n",
        "from sklearn.metrics import accuracy_score\n",
        "\n",
        "from sklearn.preprocessing import OneHotEncoder\n"
      ],
      "execution_count": null,
      "outputs": []
    },
    {
      "cell_type": "code",
      "metadata": {
        "id": "hkIvoQG3Z7RA"
      },
      "source": [
        "X_train, X_test, y_train, y_test = train_test_split(X, y, test_size=0.25, random_state=24)\n",
        "# one-hot encode input variables\n",
        "onehot_encoder = OneHotEncoder(handle_unknown = 'ignore')\n",
        "onehot_encoder.fit(X_train)\n",
        "X_train = onehot_encoder.transform(X_train)\n",
        "X_test = onehot_encoder.transform(X_test)\n",
        "# ordinal encode target variable\n",
        "label_encoder = LabelEncoder()\n",
        "label_encoder.fit(y_train)\n",
        "y_train = label_encoder.transform(y_train)\n",
        "y_test = label_encoder.transform(y_test)\n",
        "# define the model\n",
        "model = LogisticRegression()\n",
        "# fit on the training set\n",
        "model.fit(X_train, y_train)\n",
        "# predict on test set\n",
        "yhat = model.predict(X_test)\n",
        "# evaluate predictions\n",
        "accuracy = accuracy_score(y_test, yhat)\n",
        "print('Accuracy: %.2f' % (accuracy*100))"
      ],
      "execution_count": null,
      "outputs": []
    },
    {
      "cell_type": "code",
      "metadata": {
        "id": "iURSS8001ekc"
      },
      "source": [
        "from sklearn.tree import DecisionTreeClassifier\n",
        "model = DecisionTreeClassifier()\n",
        "# fit on the training set\n",
        "model.fit(X_train, y_train)\n",
        "# predict on test set\n",
        "yhat = model.predict(X_test)\n",
        "# evaluate predictions\n",
        "accuracy = accuracy_score(y_test, yhat)\n",
        "print('Decision Tree Classifier Model Accuracy: %.2f' % (accuracy*100))"
      ],
      "execution_count": null,
      "outputs": []
    },
    {
      "cell_type": "code",
      "metadata": {
        "id": "7m8Nbetw2bkl"
      },
      "source": [
        "from sklearn.ensemble import RandomForestClassifier\n",
        "model = RandomForestClassifier()\n",
        "# fit on the training set\n",
        "model.fit(X_train, y_train)\n",
        "# predict on test set\n",
        "yhat = model.predict(X_test)\n",
        "# evaluate predictions\n",
        "accuracy = accuracy_score(y_test, yhat)\n",
        "print('RandomForest Classifier Model Accuracy: %.2f' % (accuracy*100))"
      ],
      "execution_count": null,
      "outputs": []
    },
    {
      "cell_type": "code",
      "metadata": {
        "id": "UmX-ZjWf2b2Q"
      },
      "source": [
        "from sklearn.ensemble import AdaBoostClassifier\n",
        "model = AdaBoostClassifier()\n",
        "# fit on the training set\n",
        "model.fit(X_train, y_train)\n",
        "# predict on test set\n",
        "yhat = model.predict(X_test)\n",
        "# evaluate predictions\n",
        "accuracy = accuracy_score(y_test, yhat)\n",
        "print('AdaBoost Classifier Model Accuracy: %.2f' % (accuracy*100))\n"
      ],
      "execution_count": null,
      "outputs": []
    },
    {
      "cell_type": "markdown",
      "metadata": {
        "id": "AZDRPZaI7iRF"
      },
      "source": [
        "Gradient Boost Classifier"
      ]
    },
    {
      "cell_type": "code",
      "metadata": {
        "id": "Xn_Dh5m_7XRN"
      },
      "source": [
        "from sklearn.ensemble import GradientBoostingClassifier\n",
        "model=GradientBoostingClassifier()\n",
        "model.fit(X_train, y_train)\n",
        "# predict on test set\n",
        "yhat = model.predict(X_test)\n",
        "# evaluate predictions\n",
        "accuracy = accuracy_score(y_test, yhat)\n",
        "print('Gradient Boosting Classifier Model Accuracy: %.2f' % (accuracy*100))"
      ],
      "execution_count": null,
      "outputs": []
    },
    {
      "cell_type": "markdown",
      "metadata": {
        "id": "x3D0xcDH8AG3"
      },
      "source": [
        "K-Nearest Neighbors Classifier"
      ]
    },
    {
      "cell_type": "code",
      "metadata": {
        "id": "-nSP9RP_7Xgj"
      },
      "source": [
        "from sklearn.neighbors import KNeighborsClassifier\n",
        "model=KNeighborsClassifier()\n",
        "\n",
        "model.fit(X_train, y_train)\n",
        "# predict on test set\n",
        "yhat = model.predict(X_test)\n",
        "# evaluate predictions\n",
        "accuracy = accuracy_score(y_test, yhat)\n",
        "print('KNeighborsClassifier Model Accuracy: %.2f' % (accuracy*100))"
      ],
      "execution_count": null,
      "outputs": []
    },
    {
      "cell_type": "code",
      "metadata": {
        "id": "rn5RYwss74YI"
      },
      "source": [
        ""
      ],
      "execution_count": null,
      "outputs": []
    },
    {
      "cell_type": "markdown",
      "metadata": {
        "id": "8pV5_KXq8WkJ"
      },
      "source": [
        "Support Vector Machine"
      ]
    },
    {
      "cell_type": "code",
      "metadata": {
        "id": "KGjhEebU74b2"
      },
      "source": [
        "from sklearn.svm import SVC\n",
        "model=SVC()\n",
        "\n",
        "model.fit(X_train, y_train)\n",
        "# predict on test set\n",
        "yhat = model.predict(X_test)\n",
        "# evaluate predictions\n",
        "accuracy = accuracy_score(y_test, yhat)\n",
        "print(' Support Vector Machine Model Accuracy: %.2f' % (accuracy*100))\n"
      ],
      "execution_count": null,
      "outputs": []
    },
    {
      "cell_type": "code",
      "metadata": {
        "id": "UAfnBzicAA_R"
      },
      "source": [
        ""
      ],
      "execution_count": null,
      "outputs": []
    },
    {
      "cell_type": "markdown",
      "metadata": {
        "id": "JuIifwddAHj-"
      },
      "source": [
        "Feature Selection"
      ]
    },
    {
      "cell_type": "code",
      "metadata": {
        "id": "GW6HifsYABDF"
      },
      "source": [
        "from sklearn.feature_selection import SelectKBest\n",
        "from sklearn.feature_selection import chi2\n",
        "from matplotlib import pyplot"
      ],
      "execution_count": null,
      "outputs": []
    },
    {
      "cell_type": "code",
      "metadata": {
        "id": "zBxirE__AMkY"
      },
      "source": [
        "# feature selection\n",
        "def select_features(X_train, y_train, X_test):\n",
        "\tfs = SelectKBest(score_func=chi2, k=4)\n",
        "\tfs.fit(X_train, y_train)\n",
        "\tX_train_fs = fs.transform(X_train)\n",
        "\tX_test_fs = fs.transform(X_test)\n",
        "\treturn X_train_fs, X_test_fs"
      ],
      "execution_count": null,
      "outputs": []
    },
    {
      "cell_type": "code",
      "metadata": {
        "id": "yUv9VN4DAMoC"
      },
      "source": [
        "# prepare input data\n",
        "def prepare_inputs(X_train, X_test):\n",
        "\toe = OrdinalEncoder()\n",
        "\toe.fit(X_train)\n",
        "\tX_train_enc = oe.transform(X_train)\n",
        "\tX_test_enc = oe.transform(X_test)\n",
        "\treturn X_train_enc, X_test_enc\n",
        " \n",
        "# prepare target\n",
        "def prepare_targets(y_train, y_test):\n",
        "\tle = LabelEncoder()\n",
        "\tle.fit(y_train)\n",
        "\ty_train_enc = le.transform(y_train)\n",
        "\ty_test_enc = le.transform(y_test)\n",
        "\treturn y_train_enc, y_test_enc"
      ],
      "execution_count": null,
      "outputs": []
    },
    {
      "cell_type": "code",
      "metadata": {
        "id": "EOyouVZGAMrD"
      },
      "source": [
        "X_train_enc, X_test_enc = prepare_inputs(X_train, X_test)\n",
        "# prepare output data\n",
        "y_train_enc, y_test_enc = prepare_targets(y_train, y_test)"
      ],
      "execution_count": null,
      "outputs": []
    },
    {
      "cell_type": "code",
      "metadata": {
        "id": "mB4GkAx5ABGm"
      },
      "source": [
        "\n",
        "fs = SelectKBest(score_func=chi2, k='all')\n",
        "fs.fit(X_train, y_train)\n",
        "X_train_fs = fs.transform(X_train)\n",
        "X_test_fs = fs.transform(X_test)"
      ],
      "execution_count": null,
      "outputs": []
    },
    {
      "cell_type": "code",
      "metadata": {
        "id": "yIKqvAtY-Xia"
      },
      "source": [
        "# There are 3 different Naive Bayes Classes.\n",
        "from sklearn.naive_bayes import GaussianNB \n",
        "#If the data or column you guess is continuous (real, decimal, etc.)\n",
        "from sklearn.naive_bayes import BernoulliNB \n",
        "#If the data or column you guess is binary.(Yes / No, etc.)\n",
        "from sklearn.naive_bayes import MultinomialNB \n",
        "#If the data or column you guess is nominal (Int numbers)\n",
        "\n",
        "modelg=GaussianNB()\n",
        "modelb=BernoulliNB()\n",
        "#m=MultinomialNB()\n",
        "\n",
        "modelg.fit(X_train, y_train)\n",
        "# predict on test set\n",
        "yhat = modelg.predict(X_test)\n",
        "# evaluate predictions\n",
        "accuracy = accuracy_score(y_test, yhat)\n",
        "print(' GaussianNB Model Accuracy: %.2f' % (accuracy*100))\n",
        "\n"
      ],
      "execution_count": null,
      "outputs": []
    },
    {
      "cell_type": "code",
      "metadata": {
        "id": "AaQq2HV8-3dd"
      },
      "source": [
        "df1.corr()"
      ],
      "execution_count": null,
      "outputs": []
    },
    {
      "cell_type": "code",
      "metadata": {
        "id": "5xwhXgvV-3vW"
      },
      "source": [
        "import warnings\n",
        "warnings.filterwarnings('ignore')\n",
        "import time \n",
        "from lazypredict.Supervised import LazyClassifier,LazyRegressor\n",
        "\n",
        "clsmodel=LazyClassifier(verbose=0,predictions=True)\n",
        "\n",
        "# fit and train the model \n",
        "start_time_1=time.time()\n",
        "models_c,predictions_c=clsmodel.fit(X_train, X_test, y_train, y_test)\n",
        "end_time_1=time.time()\n",
        "\n",
        "# to check which model did better on the UNSW-NB15 dataset \n",
        "models_c"
      ],
      "execution_count": null,
      "outputs": []
    },
    {
      "cell_type": "code",
      "metadata": {
        "id": "Qtq5F5yN1ewR"
      },
      "source": [
        "from sklearn.linear_model import LogisticRegression\n",
        "from sklearn.linear_model import RidgeClassifier\n",
        "from sklearn.linear_model import SGDClassifier\n",
        "from sklearn.linear_model import PassiveAggressiveClassifier\n",
        "from sklearn.neighbors import KNeighborsClassifier\n",
        "from sklearn.tree import DecisionTreeClassifier\n",
        "from sklearn.tree import ExtraTreeClassifier\n",
        "from sklearn.svm import LinearSVC\n",
        "from sklearn.svm import SVC\n",
        "from sklearn.naive_bayes import GaussianNB\n",
        "from sklearn.ensemble import AdaBoostClassifier\n",
        "from sklearn.ensemble import BaggingClassifier\n",
        "from sklearn.ensemble import RandomForestClassifier\n",
        "from sklearn.ensemble import ExtraTreesClassifier\n",
        "from sklearn.gaussian_process import GaussianProcessClassifier\n",
        "from sklearn.ensemble import GradientBoostingClassifier\n",
        "from sklearn.discriminant_analysis import LinearDiscriminantAnalysis\n",
        "from sklearn.discriminant_analysis import QuadraticDiscriminantAnalysis"
      ],
      "execution_count": null,
      "outputs": []
    },
    {
      "cell_type": "code",
      "metadata": {
        "id": "QwTUq32274z6"
      },
      "source": [
        "from sklearn.metrics import accuracy_score,precision_score,recall_score,f1_score\n",
        "from sklearn.metrics import confusion_matrix,classification_report\n",
        "\n",
        "\n",
        "print(accuracy_score(y_test,pred1),precision_score(y_test,pred1),\n",
        "      recall_score(y_test,pred1),f1_score(y_test,pred1))\n",
        "print(accuracy_score(y_test,pred2),precision_score(y_test,pred2),\n",
        "      recall_score(y_test,pred2),f1_score(y_test,pred2))\n",
        "#print(accuracy_score(y_test,pred3),precision_score(y_test,pred3),\n",
        "      #recall_score(y_test,pred3),f1_score(y_test,pred3))\n",
        "print(\"\\n\")\n",
        "# the best estimate will give bernouilli of course.(Attrition->hire or not)\n",
        "print(confusion_matrix(y_test,pred2))\n",
        "#true positive 848 and true negative 172\n",
        "#false positive 59 and false negative 126\n",
        "\n",
        "print(classification_report(y_test,pred2))\n"
      ],
      "execution_count": null,
      "outputs": []
    },
    {
      "cell_type": "markdown",
      "metadata": {
        "id": "M0cfyu0G3j6_"
      },
      "source": [
        "Applying Standard scaling"
      ]
    },
    {
      "cell_type": "code",
      "metadata": {
        "id": "mIRw0-lA1ezj"
      },
      "source": [
        "from sklearn.preprocessing import StandardScaler\n",
        "\n",
        "\n",
        "scaler = StandardScalar(with_mean=False)\n",
        "#scaler.fit(X_train)\n",
        "\n",
        "X_train = scaler.fit_transform(X_train)\n",
        "X_test = scaler.transform(X_test)\n",
        "\n",
        "#y_train = scaler.transform(y_train)\n",
        "#y_test = scaler.transform(y_test)\n"
      ],
      "execution_count": null,
      "outputs": []
    },
    {
      "cell_type": "code",
      "metadata": {
        "id": "92kNQsXw1e3D"
      },
      "source": [
        "model = LogisticRegression()\n",
        "# fit on the training set\n",
        "model.fit(X_train, y_train)\n",
        "# predict on test set\n",
        "yhat = model.predict(X_test)\n",
        "# evaluate predictions\n",
        "accuracy = accuracy_score(y_test, yhat)\n",
        "print('Accuracy: %.2f' % (accuracy*100))"
      ],
      "execution_count": null,
      "outputs": []
    },
    {
      "cell_type": "code",
      "metadata": {
        "id": "HblXCwKL1e7a"
      },
      "source": [
        "y_tr.head()"
      ],
      "execution_count": null,
      "outputs": []
    },
    {
      "cell_type": "code",
      "metadata": {
        "id": "fJJL0COk_pVa"
      },
      "source": [
        "df1.head(1)"
      ],
      "execution_count": null,
      "outputs": []
    },
    {
      "cell_type": "code",
      "metadata": {
        "id": "XLmdWCf5_xcq"
      },
      "source": [
        "y=df1['PATIENT_STATUS']"
      ],
      "execution_count": null,
      "outputs": []
    },
    {
      "cell_type": "code",
      "metadata": {
        "id": "OBAuULZI_9Mm"
      },
      "source": [
        "X_tr, X_te, y_tr, y_te = train_test_split(X, y, test_size=0.20, random_state=34)"
      ],
      "execution_count": null,
      "outputs": []
    },
    {
      "cell_type": "code",
      "metadata": {
        "id": "kRXBv4il1e9v"
      },
      "source": [
        "#Feature Selection"
      ],
      "execution_count": null,
      "outputs": []
    },
    {
      "cell_type": "code",
      "metadata": {
        "id": "fY8Hc53b1fMM"
      },
      "source": [
        "from sklearn.ensemble import ExtraTreesRegressor\n",
        "import matplotlib.pyplot as plt\n",
        "model = ExtraTreesRegressor()\n",
        "model.fit(X_tr, y_tr)"
      ],
      "execution_count": null,
      "outputs": []
    },
    {
      "cell_type": "code",
      "metadata": {
        "id": "u9-ee_Dcj2eY"
      },
      "source": [
        ""
      ],
      "execution_count": null,
      "outputs": []
    },
    {
      "cell_type": "code",
      "metadata": {
        "id": "bol-7e0HjLhK"
      },
      "source": [
        "print(model.feature_importances_)"
      ],
      "execution_count": null,
      "outputs": []
    },
    {
      "cell_type": "code",
      "metadata": {
        "id": "KL2z67J4t0PY"
      },
      "source": [
        "len(model.feature_importances_)"
      ],
      "execution_count": null,
      "outputs": []
    },
    {
      "cell_type": "code",
      "metadata": {
        "id": "eJiLSSKhkFQF"
      },
      "source": [
        "X.columns"
      ],
      "execution_count": null,
      "outputs": []
    },
    {
      "cell_type": "code",
      "metadata": {
        "id": "1F_7fTIwkFYI"
      },
      "source": [
        "feat_importances = pd.Series(model.feature_importances_, index=X_tr.columns)\n",
        "feat_importances.nlargest(20).plot(kind='barh')\n",
        "plt.show()"
      ],
      "execution_count": null,
      "outputs": []
    },
    {
      "cell_type": "code",
      "metadata": {
        "id": "Yg3J5jdj1fQE"
      },
      "source": [
        "#plot graph of feature importances for better visualization\n",
        "\n",
        "#finding top 10 important features***********\n",
        "\n",
        "feat_importances = pd.Series(model.feature_importances_)\n",
        "feat_importances.nlargest(15).plot(kind='barh')\n",
        "plt.show()"
      ],
      "execution_count": null,
      "outputs": []
    },
    {
      "cell_type": "code",
      "metadata": {
        "id": "lJl7a8CIFRhr"
      },
      "source": [
        "X_tr.head()"
      ],
      "execution_count": null,
      "outputs": []
    },
    {
      "cell_type": "code",
      "metadata": {
        "id": "59GvzlqiFRw6"
      },
      "source": [
        "len(X_tr['First name'].unique())"
      ],
      "execution_count": null,
      "outputs": []
    },
    {
      "cell_type": "code",
      "metadata": {
        "id": "nXC_TY56Fl1r"
      },
      "source": [
        "len(X_tr['Last name'].unique())"
      ],
      "execution_count": null,
      "outputs": []
    },
    {
      "cell_type": "code",
      "metadata": {
        "id": "MiIjnLz2FmEr"
      },
      "source": [
        "len(X_tr['Patient code in the center'].unique())"
      ],
      "execution_count": null,
      "outputs": []
    },
    {
      "cell_type": "code",
      "metadata": {
        "id": "P5AKQnHBpbM0"
      },
      "source": [
        "X_train, X_test, y_train, y_test = train_test_split(X, y, test_size=0.20, random_state=34)"
      ],
      "execution_count": null,
      "outputs": []
    },
    {
      "cell_type": "code",
      "metadata": {
        "id": "V0_X-NSwprej"
      },
      "source": [
        "X.head(2)"
      ],
      "execution_count": null,
      "outputs": []
    },
    {
      "cell_type": "code",
      "metadata": {
        "id": "FrGX_jAwpbI-"
      },
      "source": [
        "def prepare_inputs(X_train, X_test):\n",
        "\toe = OrdinalEncoder(handle_unknown = 'ignore')\n",
        "\toe.fit(X_train)\n",
        "\tX_train_enc = oe.transform(X_train)\n",
        "\tX_test_enc = oe.transform(X_test)\n",
        "\treturn X_train_enc, X_test_enc"
      ],
      "execution_count": null,
      "outputs": []
    },
    {
      "cell_type": "code",
      "metadata": {
        "id": "DW2ZR6HspbQ6"
      },
      "source": [
        "# prepare target\n",
        "def prepare_targets(y_train, y_test):\n",
        "\tle = LabelEncoder(handle_unknown = 'ignore')\n",
        "\tle.fit(y_train)\n",
        "\ty_train_enc = le.transform(y_train)\n",
        "\ty_test_enc = le.transform(y_test)\n",
        "\treturn y_train_enc, y_test_enc"
      ],
      "execution_count": null,
      "outputs": []
    },
    {
      "cell_type": "code",
      "metadata": {
        "id": "jBFl2iE0pbT_"
      },
      "source": [
        "# feature selection\n",
        "def select_features(X_train, y_train, X_test):\n",
        "\tfs = SelectKBest(score_func=chi2, k='all')\n",
        "\tfs.fit(X_train, y_train)\n",
        "\tX_train_fs = fs.transform(X_train)\n",
        "\tX_test_fs = fs.transform(X_test)\n",
        "\treturn X_train_fs, X_test_fs, fs"
      ],
      "execution_count": null,
      "outputs": []
    },
    {
      "cell_type": "code",
      "metadata": {
        "id": "Cjofr5TTq_Hq"
      },
      "source": [
        "X_train, X_test, y_train, y_test = train_test_split(X, y, test_size=0.25, random_state=24)\n",
        "# one-hot encode input variables\n",
        "onehot_encoder = OneHotEncoder(handle_unknown = 'ignore')\n",
        "onehot_encoder.fit(X_train)\n",
        "X_train_enc = onehot_encoder.transform(X_train)\n",
        "X_test_enc = onehot_encoder.transform(X_test)\n",
        "# ordinal encode target variable\n",
        "label_encoder = LabelEncoder()\n",
        "label_encoder.fit(y_train)\n",
        "y_train_enc = label_encoder.transform(y_train)\n",
        "y_test_enc = label_encoder.transform(y_test)"
      ],
      "execution_count": null,
      "outputs": []
    },
    {
      "cell_type": "code",
      "metadata": {
        "id": "_yGl1qc1pbup"
      },
      "source": [
        "X_train_fs, X_test_fs, fs = select_features(X_train_enc, y_train_enc, X_test_enc)\n",
        "# what are scores for the features\n",
        "for i in range(len(fs.scores_)):\n",
        "\tprint('Feature %d: %f' % (i, fs.scores_[i]))\n",
        "# plot the scores\n",
        "pyplot.bar([i for i in range(len(fs.scores_))], fs.scores_)\n",
        "pyplot.show()"
      ],
      "execution_count": null,
      "outputs": []
    },
    {
      "cell_type": "code",
      "metadata": {
        "id": "HTPm0oV_qA9f"
      },
      "source": [
        "# feature selection\n",
        "def select_features(X_train, y_train, X_test):\n",
        "\tfs = SelectKBest(score_func=chi2, k=4)\n",
        "\tfs.fit(X_train, y_train)\n",
        "\tX_train_fs = fs.transform(X_train)\n",
        "\tX_test_fs = fs.transform(X_test)\n",
        "\treturn X_train_fs, X_test_fs"
      ],
      "execution_count": null,
      "outputs": []
    },
    {
      "cell_type": "code",
      "metadata": {
        "id": "bJJKsxA6qBBC"
      },
      "source": [
        "# feature selection\n",
        "X_train_fs, X_test_fs = select_features(X_train_enc, y_train_enc, X_test_enc)\n",
        "# fit the model\n",
        "model = LogisticRegression(solver='lbfgs')\n",
        "model.fit(X_train_fs, y_train_enc)\n",
        "# evaluate the model\n",
        "yhat = model.predict(X_test_fs)\n",
        "# evaluate predictions\n",
        "accuracy = accuracy_score(y_test_enc, yhat)\n",
        "print('Accuracy: %.2f' % (accuracy*100))"
      ],
      "execution_count": null,
      "outputs": []
    },
    {
      "cell_type": "code",
      "metadata": {
        "id": "gSa4txpDsm7k"
      },
      "source": [
        ""
      ],
      "execution_count": null,
      "outputs": []
    },
    {
      "cell_type": "code",
      "metadata": {
        "id": "-tWYKktCsnI1"
      },
      "source": [
        ""
      ],
      "execution_count": null,
      "outputs": []
    },
    {
      "cell_type": "code",
      "metadata": {
        "id": "GT8elR4I1fVX"
      },
      "source": [
        "#correlation finding"
      ],
      "execution_count": null,
      "outputs": []
    },
    {
      "cell_type": "code",
      "metadata": {
        "id": "pG1IipXH1fXx"
      },
      "source": [
        "corr_Survived = pd.DataFrame(crr['TravelInsurance'].drop('TravelInsurance'))\n",
        "corr_Survived.sort_values(by = 'TravelInsurance', ascending = False)"
      ],
      "execution_count": null,
      "outputs": []
    },
    {
      "cell_type": "code",
      "metadata": {
        "id": "5yUBDRW31fbx"
      },
      "source": [
        ""
      ],
      "execution_count": null,
      "outputs": []
    },
    {
      "cell_type": "code",
      "metadata": {
        "id": "u3C6GO3g1fen"
      },
      "source": [
        ""
      ],
      "execution_count": null,
      "outputs": []
    },
    {
      "cell_type": "code",
      "metadata": {
        "id": "HU0iy9HKvHky"
      },
      "source": [
        "!pip install lazypredict -q"
      ],
      "execution_count": null,
      "outputs": []
    },
    {
      "cell_type": "code",
      "metadata": {
        "id": "Hay9a9kCzdd9"
      },
      "source": [
        "from lazypredict.Supervised import LazyClassifier\n",
        "\n",
        "\n",
        "clf = LazyClassifier(verbose=0,ignore_warnings=True, custom_metric=None)\n",
        "models,predictions = clf.fit(X_tr,X_te,y_tr,y_te)\n",
        "\n",
        "print(models)"
      ],
      "execution_count": null,
      "outputs": []
    },
    {
      "cell_type": "code",
      "metadata": {
        "id": "2N6aTpMXbb-U"
      },
      "source": [
        ""
      ],
      "execution_count": null,
      "outputs": []
    },
    {
      "cell_type": "code",
      "metadata": {
        "id": "9bGunja3bcLp"
      },
      "source": [
        ""
      ],
      "execution_count": null,
      "outputs": []
    },
    {
      "cell_type": "code",
      "metadata": {
        "id": "lRMgqItHbdJl"
      },
      "source": [
        ""
      ],
      "execution_count": null,
      "outputs": []
    }
  ]
}